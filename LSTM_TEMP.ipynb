{
 "cells": [
  {
   "cell_type": "code",
   "execution_count": 6,
   "id": "c8163e03",
   "metadata": {},
   "outputs": [],
   "source": [
    "import tensorflow as tf\n",
    "import seaborn as sns\n",
    "import matplotlib.pyplot as plt\n",
    "import os\n",
    "import pandas as pd\n",
    "import numpy as np"
   ]
  },
  {
   "cell_type": "code",
   "execution_count": 7,
   "id": "ba212ff2",
   "metadata": {},
   "outputs": [
    {
     "name": "stdout",
     "output_type": "stream",
     "text": [
      "Index(['Unnamed: 0', 'M_PACKET_FORMAT', 'M_GAME_MAJOR_VERSION',\n",
      "       'M_GAME_MINOR_VERSION', 'M_PACKET_VERSION', 'M_PACKET_ID',\n",
      "       'M_SESSION_UID', 'M_SESSION_TIME', 'M_FRAME_IDENTIFIER',\n",
      "       'M_PLAYER_CAR_INDEX', 'M_SECONDARY_PLAYER_CAR_INDEX',\n",
      "       'M_BRAKING_ASSIST', 'M_SESSION_LINK_IDENTIFIER', 'M_PIT_RELEASE_ASSIST',\n",
      "       'TIMESTAMP', 'M_PIT_STOP_WINDOW_IDEAL_LAP', 'M_TRACK_TEMPERATURE',\n",
      "       'M_TRACK_LENGTH', 'M_GAME_PAUSED', 'M_FORECAST_ACCURACY', 'GAMEHOST',\n",
      "       'M_AIR_TEMPERATURE', 'M_NUM_WEATHER_FORECAST_SAMPLES',\n",
      "       'M_SLI_PRO_NATIVE_SUPPORT', 'M_SAFETY_CAR_STATUS', 'M_TRACK_ID',\n",
      "       'M_ERSASSIST', 'M_FORMULA', 'M_SEASON_LINK_IDENTIFIER', 'M_PIT_ASSIST',\n",
      "       'M_GEARBOX_ASSIST', 'M_SESSION_TYPE', 'M_SPECTATOR_CAR_INDEX',\n",
      "       'M_PIT_STOP_WINDOW_LATEST_LAP', 'M_WEEKEND_LINK_IDENTIFIER',\n",
      "       'M_DYNAMIC_RACING_LINE_TYPE', 'M_SESSION_TIME_LEFT',\n",
      "       'M_SESSION_DURATION', 'M_PIT_STOP_REJOIN_POSITION',\n",
      "       'M_WEATHER_FORECAST_SAMPLES_M_SESSION_TYPE', 'M_TIME_OFFSET',\n",
      "       'M_WEATHER_FORECAST_SAMPLES_M_WEATHER',\n",
      "       'M_WEATHER_FORECAST_SAMPLES_M_TRACK_TEMPERATURE',\n",
      "       'M_TRACK_TEMPERATURE_CHANGE',\n",
      "       'M_WEATHER_FORECAST_SAMPLES_M_AIR_TEMPERATURE',\n",
      "       'M_AIR_TEMPERATURE_CHANGE', 'M_RAIN_PERCENTAGE', 'M_WEATHER',\n",
      "       'M_AI_DIFFICULTY', 'M_PIT_SPEED_LIMIT', 'M_NETWORK_GAME',\n",
      "       'M_TOTAL_LAPS', 'M_STEERING_ASSIST', 'M_IS_SPECTATING',\n",
      "       'M_DYNAMIC_RACING_LINE', 'M_DRSASSIST', 'M_NUM_MARSHAL_ZONES',\n",
      "       'Unnamed: 58'],\n",
      "      dtype='object')\n"
     ]
    },
    {
     "data": {
      "text/html": [
       "<div>\n",
       "<style scoped>\n",
       "    .dataframe tbody tr th:only-of-type {\n",
       "        vertical-align: middle;\n",
       "    }\n",
       "\n",
       "    .dataframe tbody tr th {\n",
       "        vertical-align: top;\n",
       "    }\n",
       "\n",
       "    .dataframe thead th {\n",
       "        text-align: right;\n",
       "    }\n",
       "</style>\n",
       "<table border=\"1\" class=\"dataframe\">\n",
       "  <thead>\n",
       "    <tr style=\"text-align: right;\">\n",
       "      <th></th>\n",
       "      <th>Unnamed: 0</th>\n",
       "      <th>M_PACKET_FORMAT</th>\n",
       "      <th>M_GAME_MAJOR_VERSION</th>\n",
       "      <th>M_GAME_MINOR_VERSION</th>\n",
       "      <th>M_PACKET_VERSION</th>\n",
       "      <th>M_PACKET_ID</th>\n",
       "      <th>M_SESSION_UID</th>\n",
       "      <th>M_SESSION_TIME</th>\n",
       "      <th>M_FRAME_IDENTIFIER</th>\n",
       "      <th>M_PLAYER_CAR_INDEX</th>\n",
       "      <th>...</th>\n",
       "      <th>M_AI_DIFFICULTY</th>\n",
       "      <th>M_PIT_SPEED_LIMIT</th>\n",
       "      <th>M_NETWORK_GAME</th>\n",
       "      <th>M_TOTAL_LAPS</th>\n",
       "      <th>M_STEERING_ASSIST</th>\n",
       "      <th>M_IS_SPECTATING</th>\n",
       "      <th>M_DYNAMIC_RACING_LINE</th>\n",
       "      <th>M_DRSASSIST</th>\n",
       "      <th>M_NUM_MARSHAL_ZONES</th>\n",
       "      <th>Unnamed: 58</th>\n",
       "    </tr>\n",
       "  </thead>\n",
       "  <tbody>\n",
       "    <tr>\n",
       "      <th>0</th>\n",
       "      <td>17038</td>\n",
       "      <td>2021</td>\n",
       "      <td>1</td>\n",
       "      <td>14</td>\n",
       "      <td>1</td>\n",
       "      <td>1</td>\n",
       "      <td>2939734289500381696</td>\n",
       "      <td>65.276</td>\n",
       "      <td>1647</td>\n",
       "      <td>0</td>\n",
       "      <td>...</td>\n",
       "      <td>31</td>\n",
       "      <td>80</td>\n",
       "      <td>1.0</td>\n",
       "      <td>200.0</td>\n",
       "      <td>0.0</td>\n",
       "      <td>0.0</td>\n",
       "      <td>0.0</td>\n",
       "      <td>0.0</td>\n",
       "      <td>16.0</td>\n",
       "      <td>NaN</td>\n",
       "    </tr>\n",
       "    <tr>\n",
       "      <th>1</th>\n",
       "      <td>17115</td>\n",
       "      <td>2021</td>\n",
       "      <td>1</td>\n",
       "      <td>14</td>\n",
       "      <td>1</td>\n",
       "      <td>1</td>\n",
       "      <td>2939734289500381696</td>\n",
       "      <td>65.779</td>\n",
       "      <td>1669</td>\n",
       "      <td>0</td>\n",
       "      <td>...</td>\n",
       "      <td>31</td>\n",
       "      <td>80</td>\n",
       "      <td>1.0</td>\n",
       "      <td>200.0</td>\n",
       "      <td>0.0</td>\n",
       "      <td>0.0</td>\n",
       "      <td>0.0</td>\n",
       "      <td>0.0</td>\n",
       "      <td>16.0</td>\n",
       "      <td>NaN</td>\n",
       "    </tr>\n",
       "    <tr>\n",
       "      <th>2</th>\n",
       "      <td>17192</td>\n",
       "      <td>2021</td>\n",
       "      <td>1</td>\n",
       "      <td>14</td>\n",
       "      <td>1</td>\n",
       "      <td>1</td>\n",
       "      <td>2939734289500381696</td>\n",
       "      <td>67.283</td>\n",
       "      <td>1704</td>\n",
       "      <td>0</td>\n",
       "      <td>...</td>\n",
       "      <td>31</td>\n",
       "      <td>80</td>\n",
       "      <td>1.0</td>\n",
       "      <td>200.0</td>\n",
       "      <td>0.0</td>\n",
       "      <td>0.0</td>\n",
       "      <td>0.0</td>\n",
       "      <td>0.0</td>\n",
       "      <td>16.0</td>\n",
       "      <td>NaN</td>\n",
       "    </tr>\n",
       "    <tr>\n",
       "      <th>3</th>\n",
       "      <td>17269</td>\n",
       "      <td>2021</td>\n",
       "      <td>1</td>\n",
       "      <td>14</td>\n",
       "      <td>1</td>\n",
       "      <td>1</td>\n",
       "      <td>2939734289500381696</td>\n",
       "      <td>68.285</td>\n",
       "      <td>1742</td>\n",
       "      <td>0</td>\n",
       "      <td>...</td>\n",
       "      <td>31</td>\n",
       "      <td>80</td>\n",
       "      <td>1.0</td>\n",
       "      <td>200.0</td>\n",
       "      <td>0.0</td>\n",
       "      <td>0.0</td>\n",
       "      <td>0.0</td>\n",
       "      <td>0.0</td>\n",
       "      <td>16.0</td>\n",
       "      <td>NaN</td>\n",
       "    </tr>\n",
       "    <tr>\n",
       "      <th>4</th>\n",
       "      <td>17346</td>\n",
       "      <td>2021</td>\n",
       "      <td>1</td>\n",
       "      <td>14</td>\n",
       "      <td>1</td>\n",
       "      <td>1</td>\n",
       "      <td>2939734289500381696</td>\n",
       "      <td>69.288</td>\n",
       "      <td>1783</td>\n",
       "      <td>0</td>\n",
       "      <td>...</td>\n",
       "      <td>31</td>\n",
       "      <td>80</td>\n",
       "      <td>1.0</td>\n",
       "      <td>200.0</td>\n",
       "      <td>0.0</td>\n",
       "      <td>0.0</td>\n",
       "      <td>0.0</td>\n",
       "      <td>0.0</td>\n",
       "      <td>16.0</td>\n",
       "      <td>NaN</td>\n",
       "    </tr>\n",
       "    <tr>\n",
       "      <th>...</th>\n",
       "      <td>...</td>\n",
       "      <td>...</td>\n",
       "      <td>...</td>\n",
       "      <td>...</td>\n",
       "      <td>...</td>\n",
       "      <td>...</td>\n",
       "      <td>...</td>\n",
       "      <td>...</td>\n",
       "      <td>...</td>\n",
       "      <td>...</td>\n",
       "      <td>...</td>\n",
       "      <td>...</td>\n",
       "      <td>...</td>\n",
       "      <td>...</td>\n",
       "      <td>...</td>\n",
       "      <td>...</td>\n",
       "      <td>...</td>\n",
       "      <td>...</td>\n",
       "      <td>...</td>\n",
       "      <td>...</td>\n",
       "      <td>...</td>\n",
       "    </tr>\n",
       "    <tr>\n",
       "      <th>35646</th>\n",
       "      <td>3571974</td>\n",
       "      <td>2021</td>\n",
       "      <td>1</td>\n",
       "      <td>14</td>\n",
       "      <td>1</td>\n",
       "      <td>1</td>\n",
       "      <td>10862815468833218560</td>\n",
       "      <td>679.037</td>\n",
       "      <td>22711</td>\n",
       "      <td>1</td>\n",
       "      <td>...</td>\n",
       "      <td>110</td>\n",
       "      <td>80</td>\n",
       "      <td>1.0</td>\n",
       "      <td>200.0</td>\n",
       "      <td>0.0</td>\n",
       "      <td>0.0</td>\n",
       "      <td>0.0</td>\n",
       "      <td>0.0</td>\n",
       "      <td>16.0</td>\n",
       "      <td>NaN</td>\n",
       "    </tr>\n",
       "    <tr>\n",
       "      <th>35647</th>\n",
       "      <td>3572051</td>\n",
       "      <td>2021</td>\n",
       "      <td>1</td>\n",
       "      <td>14</td>\n",
       "      <td>1</td>\n",
       "      <td>1</td>\n",
       "      <td>10862815468833218560</td>\n",
       "      <td>680.040</td>\n",
       "      <td>22752</td>\n",
       "      <td>1</td>\n",
       "      <td>...</td>\n",
       "      <td>110</td>\n",
       "      <td>80</td>\n",
       "      <td>1.0</td>\n",
       "      <td>200.0</td>\n",
       "      <td>0.0</td>\n",
       "      <td>0.0</td>\n",
       "      <td>0.0</td>\n",
       "      <td>0.0</td>\n",
       "      <td>16.0</td>\n",
       "      <td>NaN</td>\n",
       "    </tr>\n",
       "    <tr>\n",
       "      <th>35648</th>\n",
       "      <td>3572128</td>\n",
       "      <td>2021</td>\n",
       "      <td>1</td>\n",
       "      <td>14</td>\n",
       "      <td>1</td>\n",
       "      <td>1</td>\n",
       "      <td>10862815468833218560</td>\n",
       "      <td>681.039</td>\n",
       "      <td>22792</td>\n",
       "      <td>1</td>\n",
       "      <td>...</td>\n",
       "      <td>110</td>\n",
       "      <td>80</td>\n",
       "      <td>1.0</td>\n",
       "      <td>200.0</td>\n",
       "      <td>0.0</td>\n",
       "      <td>0.0</td>\n",
       "      <td>0.0</td>\n",
       "      <td>0.0</td>\n",
       "      <td>16.0</td>\n",
       "      <td>NaN</td>\n",
       "    </tr>\n",
       "    <tr>\n",
       "      <th>35649</th>\n",
       "      <td>3572205</td>\n",
       "      <td>2021</td>\n",
       "      <td>1</td>\n",
       "      <td>14</td>\n",
       "      <td>1</td>\n",
       "      <td>1</td>\n",
       "      <td>10862815468833218560</td>\n",
       "      <td>682.044</td>\n",
       "      <td>22833</td>\n",
       "      <td>1</td>\n",
       "      <td>...</td>\n",
       "      <td>110</td>\n",
       "      <td>80</td>\n",
       "      <td>1.0</td>\n",
       "      <td>200.0</td>\n",
       "      <td>0.0</td>\n",
       "      <td>0.0</td>\n",
       "      <td>0.0</td>\n",
       "      <td>0.0</td>\n",
       "      <td>16.0</td>\n",
       "      <td>NaN</td>\n",
       "    </tr>\n",
       "    <tr>\n",
       "      <th>35650</th>\n",
       "      <td>3572282</td>\n",
       "      <td>2021</td>\n",
       "      <td>1</td>\n",
       "      <td>14</td>\n",
       "      <td>1</td>\n",
       "      <td>1</td>\n",
       "      <td>10862815468833218560</td>\n",
       "      <td>683.047</td>\n",
       "      <td>22874</td>\n",
       "      <td>1</td>\n",
       "      <td>...</td>\n",
       "      <td>110</td>\n",
       "      <td>80</td>\n",
       "      <td>1.0</td>\n",
       "      <td>200.0</td>\n",
       "      <td>0.0</td>\n",
       "      <td>0.0</td>\n",
       "      <td>0.0</td>\n",
       "      <td>0.0</td>\n",
       "      <td>16.0</td>\n",
       "      <td>NaN</td>\n",
       "    </tr>\n",
       "  </tbody>\n",
       "</table>\n",
       "<p>35651 rows × 58 columns</p>\n",
       "</div>"
      ],
      "text/plain": [
       "       Unnamed: 0  M_PACKET_FORMAT  M_GAME_MAJOR_VERSION  \\\n",
       "0           17038             2021                     1   \n",
       "1           17115             2021                     1   \n",
       "2           17192             2021                     1   \n",
       "3           17269             2021                     1   \n",
       "4           17346             2021                     1   \n",
       "...           ...              ...                   ...   \n",
       "35646     3571974             2021                     1   \n",
       "35647     3572051             2021                     1   \n",
       "35648     3572128             2021                     1   \n",
       "35649     3572205             2021                     1   \n",
       "35650     3572282             2021                     1   \n",
       "\n",
       "       M_GAME_MINOR_VERSION  M_PACKET_VERSION  M_PACKET_ID  \\\n",
       "0                        14                 1            1   \n",
       "1                        14                 1            1   \n",
       "2                        14                 1            1   \n",
       "3                        14                 1            1   \n",
       "4                        14                 1            1   \n",
       "...                     ...               ...          ...   \n",
       "35646                    14                 1            1   \n",
       "35647                    14                 1            1   \n",
       "35648                    14                 1            1   \n",
       "35649                    14                 1            1   \n",
       "35650                    14                 1            1   \n",
       "\n",
       "              M_SESSION_UID  M_SESSION_TIME  M_FRAME_IDENTIFIER  \\\n",
       "0       2939734289500381696          65.276                1647   \n",
       "1       2939734289500381696          65.779                1669   \n",
       "2       2939734289500381696          67.283                1704   \n",
       "3       2939734289500381696          68.285                1742   \n",
       "4       2939734289500381696          69.288                1783   \n",
       "...                     ...             ...                 ...   \n",
       "35646  10862815468833218560         679.037               22711   \n",
       "35647  10862815468833218560         680.040               22752   \n",
       "35648  10862815468833218560         681.039               22792   \n",
       "35649  10862815468833218560         682.044               22833   \n",
       "35650  10862815468833218560         683.047               22874   \n",
       "\n",
       "       M_PLAYER_CAR_INDEX  ...  M_AI_DIFFICULTY  M_PIT_SPEED_LIMIT  \\\n",
       "0                       0  ...               31                 80   \n",
       "1                       0  ...               31                 80   \n",
       "2                       0  ...               31                 80   \n",
       "3                       0  ...               31                 80   \n",
       "4                       0  ...               31                 80   \n",
       "...                   ...  ...              ...                ...   \n",
       "35646                   1  ...              110                 80   \n",
       "35647                   1  ...              110                 80   \n",
       "35648                   1  ...              110                 80   \n",
       "35649                   1  ...              110                 80   \n",
       "35650                   1  ...              110                 80   \n",
       "\n",
       "       M_NETWORK_GAME  M_TOTAL_LAPS M_STEERING_ASSIST  M_IS_SPECTATING  \\\n",
       "0                 1.0         200.0               0.0              0.0   \n",
       "1                 1.0         200.0               0.0              0.0   \n",
       "2                 1.0         200.0               0.0              0.0   \n",
       "3                 1.0         200.0               0.0              0.0   \n",
       "4                 1.0         200.0               0.0              0.0   \n",
       "...               ...           ...               ...              ...   \n",
       "35646             1.0         200.0               0.0              0.0   \n",
       "35647             1.0         200.0               0.0              0.0   \n",
       "35648             1.0         200.0               0.0              0.0   \n",
       "35649             1.0         200.0               0.0              0.0   \n",
       "35650             1.0         200.0               0.0              0.0   \n",
       "\n",
       "       M_DYNAMIC_RACING_LINE  M_DRSASSIST  M_NUM_MARSHAL_ZONES  Unnamed: 58  \n",
       "0                        0.0          0.0                 16.0          NaN  \n",
       "1                        0.0          0.0                 16.0          NaN  \n",
       "2                        0.0          0.0                 16.0          NaN  \n",
       "3                        0.0          0.0                 16.0          NaN  \n",
       "4                        0.0          0.0                 16.0          NaN  \n",
       "...                      ...          ...                  ...          ...  \n",
       "35646                    0.0          0.0                 16.0          NaN  \n",
       "35647                    0.0          0.0                 16.0          NaN  \n",
       "35648                    0.0          0.0                 16.0          NaN  \n",
       "35649                    0.0          0.0                 16.0          NaN  \n",
       "35650                    0.0          0.0                 16.0          NaN  \n",
       "\n",
       "[35651 rows x 58 columns]"
      ]
     },
     "execution_count": 7,
     "metadata": {},
     "output_type": "execute_result"
    }
   ],
   "source": [
    "PATH = (r'C:\\Users\\Maciek\\Desktop\\DANE\\PYTHON\\Formula-1\\weather_new')\n",
    "df = pd.read_csv(PATH)\n",
    "print(df.columns)\n",
    "df"
   ]
  },
  {
   "cell_type": "code",
   "execution_count": 8,
   "id": "db1d1b7c",
   "metadata": {},
   "outputs": [],
   "source": [
    "index_list = ['TIMESTAMP',\n",
    "        'M_WEATHER',\n",
    "        'M_TRACK_TEMPERATURE', \n",
    "        'M_FORECAST_ACCURACY', \n",
    "        'M_AIR_TEMPERATURE', \n",
    "        'M_NUM_WEATHER_FORECAST_SAMPLES', \n",
    "        'M_WEATHER_FORECAST_SAMPLES_M_SESSION_TYPE',\n",
    "        'M_WEATHER_FORECAST_SAMPLES_M_WEATHER',\n",
    "        'M_WEATHER_FORECAST_SAMPLES_M_TRACK_TEMPERATURE',\n",
    "        'M_TRACK_TEMPERATURE_CHANGE',\n",
    "        'M_WEATHER_FORECAST_SAMPLES_M_AIR_TEMPERATURE',\n",
    "        'M_AIR_TEMPERATURE_CHANGE', \n",
    "        'M_RAIN_PERCENTAGE',\n",
    "        'M_WEATHER']"
   ]
  },
  {
   "cell_type": "code",
   "execution_count": 9,
   "id": "deae8569",
   "metadata": {},
   "outputs": [
    {
     "data": {
      "text/plain": [
       "<AxesSubplot:>"
      ]
     },
     "execution_count": 9,
     "metadata": {},
     "output_type": "execute_result"
    },
    {
     "data": {
      "image/png": "[encoded data removed]",
      "text/plain": [
       "<Figure size 864x864 with 2 Axes>"
      ]
     },
     "metadata": {
      "needs_background": "light"
     },
     "output_type": "display_data"
    }
   ],
   "source": [
    "plt.figure(figsize=(12,12))\n",
    "sns.heatmap(df[index_list].corr(), annot=True)"
   ]
  },
  {
   "cell_type": "code",
   "execution_count": 10,
   "id": "42aeb7cd",
   "metadata": {},
   "outputs": [
    {
     "data": {
      "text/plain": [
       "array([ 2939734289500381696,  3734445177271223808,  2148720622742364160,\n",
       "        6740664712580023296,  7571059373791474688, 12353162835949107200,\n",
       "       10606999475394856960, 12965771888842305536,  8577134997333479424,\n",
       "       13859540119692961792,  5131882212211026944, 10924589045696636928,\n",
       "       11725831002906730496,  2375253586702444032, 10208185256540704768,\n",
       "        8562486677285334016,  4162814131879546368, 11410883316863320064,\n",
       "        1844402308831118848,   731698304933047040,  7399509276955794432,\n",
       "        7706848746807917568,  3688942053969944576,  6206021592960190464,\n",
       "       17070085402106165248, 17986789450456119296, 10752148373787498496,\n",
       "       10154977874364764160,   225678745705498656, 17761651970480412672,\n",
       "        4579319030059534336,  7695536579992419328,  5057013239687063552,\n",
       "       14604689668899229696,  8183544490995236864, 11927383548626350080,\n",
       "        8837776980781088768, 10929277407573190656, 14423358407437291520,\n",
       "        7876673241077905408,  8645451312818641920,  4531992351395781120,\n",
       "       14653184077370189824,  5345606301583849472,  2334919922128649728,\n",
       "       17250830067848251392,  3556950213536510976, 13237200517501583360,\n",
       "       17764663866017337344,  7801244177467699200, 11119216661053784064,\n",
       "       10159988515541657600,  8680634554990998528, 11086427086685954048,\n",
       "         944774610458079872, 10092483444773801984, 12473127777831923712,\n",
       "        9958733883537735680,  6172901419200224256, 16691483122275028992,\n",
       "        4462140241353674240, 11219092879567937536, 14036623952519540736,\n",
       "       14343085536185149440, 12851205587159844864, 12303963868832667648,\n",
       "        5701130051347629056,  3010623014033540096, 13171874632560531456,\n",
       "        3401398640455785472, 17614243770679040000,  8466489591920222208,\n",
       "       13868755767150610432,  4331197848214491136,  2564602581329736704,\n",
       "         735015051110473088, 10495179747232886784, 17474857766214451200,\n",
       "        2032449665864809216, 17445604437376806912,  9056596084716282880,\n",
       "        6759116481953823744,  8818561627976853504,  4349155262188341760,\n",
       "        2250909318467216128,  1391867972949549056,  7388521933043484672,\n",
       "        4275852682245677568,  6816528550818486272,  3474269793225142272,\n",
       "        2806565448289445376,  8405925840065428480, 11235443233977524224,\n",
       "         805883893754338432,    21060822879603068,  3551778684422706176,\n",
       "       17257353080153202688, 11561214540048703488, 10182310933574213632,\n",
       "       14439280038133915648,  5101883971836916736, 12792065167819689984,\n",
       "       10966174291222687744,  4360147878372829184, 10885597801285693440,\n",
       "        5249009973204737024, 13290343531329482752,  6513923103296029696,\n",
       "       17702678024026339328,  5885987659777522688,  9850665107815204864,\n",
       "         933566907388519168, 18024707237561860096, 17290300263684157440,\n",
       "       12909400051024857088, 15963865474907404288, 16606278739066535936,\n",
       "       10862815468833218560, 15490609964643610624,  4804603399437129728,\n",
       "        2915416227681615360, 11312848405141606400,  6133223025893629952,\n",
       "        7145091589928744960,  9038312491514508288,  7942854170025449472,\n",
       "       14148235944774447104,  1613583305999911680,  7847441993040644096,\n",
       "        7715721758312196096], dtype=uint64)"
      ]
     },
     "execution_count": 10,
     "metadata": {},
     "output_type": "execute_result"
    }
   ],
   "source": [
    "race_ids = df['M_SESSION_UID'].unique()\n",
    "race_ids"
   ]
  },
  {
   "cell_type": "code",
   "execution_count": 11,
   "id": "a3a741c2",
   "metadata": {},
   "outputs": [
    {
     "data": {
      "text/html": [
       "<div>\n",
       "<style scoped>\n",
       "    .dataframe tbody tr th:only-of-type {\n",
       "        vertical-align: middle;\n",
       "    }\n",
       "\n",
       "    .dataframe tbody tr th {\n",
       "        vertical-align: top;\n",
       "    }\n",
       "\n",
       "    .dataframe thead th {\n",
       "        text-align: right;\n",
       "    }\n",
       "</style>\n",
       "<table border=\"1\" class=\"dataframe\">\n",
       "  <thead>\n",
       "    <tr style=\"text-align: right;\">\n",
       "      <th></th>\n",
       "      <th>TIMESTAMP</th>\n",
       "      <th>M_WEATHER</th>\n",
       "      <th>M_TRACK_TEMPERATURE</th>\n",
       "      <th>M_FORECAST_ACCURACY</th>\n",
       "      <th>M_AIR_TEMPERATURE</th>\n",
       "      <th>M_NUM_WEATHER_FORECAST_SAMPLES</th>\n",
       "      <th>M_WEATHER_FORECAST_SAMPLES_M_SESSION_TYPE</th>\n",
       "      <th>M_WEATHER_FORECAST_SAMPLES_M_WEATHER</th>\n",
       "      <th>M_WEATHER_FORECAST_SAMPLES_M_TRACK_TEMPERATURE</th>\n",
       "      <th>M_TRACK_TEMPERATURE_CHANGE</th>\n",
       "      <th>M_WEATHER_FORECAST_SAMPLES_M_AIR_TEMPERATURE</th>\n",
       "      <th>M_AIR_TEMPERATURE_CHANGE</th>\n",
       "      <th>M_RAIN_PERCENTAGE</th>\n",
       "      <th>M_WEATHER</th>\n",
       "    </tr>\n",
       "  </thead>\n",
       "  <tbody>\n",
       "    <tr>\n",
       "      <th>0</th>\n",
       "      <td>2022-01-21 01:16:50.000000</td>\n",
       "      <td>0</td>\n",
       "      <td>33</td>\n",
       "      <td>0</td>\n",
       "      <td>25</td>\n",
       "      <td>10</td>\n",
       "      <td>8.0</td>\n",
       "      <td>0.0</td>\n",
       "      <td>33.0</td>\n",
       "      <td>2.0</td>\n",
       "      <td>25.0</td>\n",
       "      <td>2.0</td>\n",
       "      <td>1.0</td>\n",
       "      <td>0</td>\n",
       "    </tr>\n",
       "    <tr>\n",
       "      <th>1</th>\n",
       "      <td>2022-01-21 01:16:51.000000</td>\n",
       "      <td>0</td>\n",
       "      <td>33</td>\n",
       "      <td>0</td>\n",
       "      <td>25</td>\n",
       "      <td>10</td>\n",
       "      <td>8.0</td>\n",
       "      <td>0.0</td>\n",
       "      <td>33.0</td>\n",
       "      <td>2.0</td>\n",
       "      <td>25.0</td>\n",
       "      <td>2.0</td>\n",
       "      <td>1.0</td>\n",
       "      <td>0</td>\n",
       "    </tr>\n",
       "    <tr>\n",
       "      <th>2</th>\n",
       "      <td>2022-01-21 01:16:52.000000</td>\n",
       "      <td>0</td>\n",
       "      <td>33</td>\n",
       "      <td>0</td>\n",
       "      <td>25</td>\n",
       "      <td>10</td>\n",
       "      <td>8.0</td>\n",
       "      <td>0.0</td>\n",
       "      <td>33.0</td>\n",
       "      <td>2.0</td>\n",
       "      <td>25.0</td>\n",
       "      <td>2.0</td>\n",
       "      <td>1.0</td>\n",
       "      <td>0</td>\n",
       "    </tr>\n",
       "    <tr>\n",
       "      <th>3</th>\n",
       "      <td>2022-01-21 01:16:53.000000</td>\n",
       "      <td>0</td>\n",
       "      <td>33</td>\n",
       "      <td>0</td>\n",
       "      <td>25</td>\n",
       "      <td>10</td>\n",
       "      <td>8.0</td>\n",
       "      <td>0.0</td>\n",
       "      <td>33.0</td>\n",
       "      <td>2.0</td>\n",
       "      <td>25.0</td>\n",
       "      <td>2.0</td>\n",
       "      <td>1.0</td>\n",
       "      <td>0</td>\n",
       "    </tr>\n",
       "    <tr>\n",
       "      <th>4</th>\n",
       "      <td>2022-01-21 01:16:54.000000</td>\n",
       "      <td>0</td>\n",
       "      <td>33</td>\n",
       "      <td>0</td>\n",
       "      <td>25</td>\n",
       "      <td>10</td>\n",
       "      <td>8.0</td>\n",
       "      <td>0.0</td>\n",
       "      <td>33.0</td>\n",
       "      <td>2.0</td>\n",
       "      <td>25.0</td>\n",
       "      <td>2.0</td>\n",
       "      <td>1.0</td>\n",
       "      <td>0</td>\n",
       "    </tr>\n",
       "    <tr>\n",
       "      <th>...</th>\n",
       "      <td>...</td>\n",
       "      <td>...</td>\n",
       "      <td>...</td>\n",
       "      <td>...</td>\n",
       "      <td>...</td>\n",
       "      <td>...</td>\n",
       "      <td>...</td>\n",
       "      <td>...</td>\n",
       "      <td>...</td>\n",
       "      <td>...</td>\n",
       "      <td>...</td>\n",
       "      <td>...</td>\n",
       "      <td>...</td>\n",
       "      <td>...</td>\n",
       "    </tr>\n",
       "    <tr>\n",
       "      <th>12425</th>\n",
       "      <td>2022-01-21 01:28:27.000000</td>\n",
       "      <td>0</td>\n",
       "      <td>33</td>\n",
       "      <td>0</td>\n",
       "      <td>25</td>\n",
       "      <td>10</td>\n",
       "      <td>8.0</td>\n",
       "      <td>0.0</td>\n",
       "      <td>33.0</td>\n",
       "      <td>2.0</td>\n",
       "      <td>25.0</td>\n",
       "      <td>2.0</td>\n",
       "      <td>2.0</td>\n",
       "      <td>0</td>\n",
       "    </tr>\n",
       "    <tr>\n",
       "      <th>12426</th>\n",
       "      <td>2022-01-21 01:28:28.000000</td>\n",
       "      <td>0</td>\n",
       "      <td>33</td>\n",
       "      <td>0</td>\n",
       "      <td>25</td>\n",
       "      <td>10</td>\n",
       "      <td>8.0</td>\n",
       "      <td>0.0</td>\n",
       "      <td>33.0</td>\n",
       "      <td>2.0</td>\n",
       "      <td>25.0</td>\n",
       "      <td>2.0</td>\n",
       "      <td>2.0</td>\n",
       "      <td>0</td>\n",
       "    </tr>\n",
       "    <tr>\n",
       "      <th>12427</th>\n",
       "      <td>2022-01-21 01:28:29.000000</td>\n",
       "      <td>0</td>\n",
       "      <td>33</td>\n",
       "      <td>0</td>\n",
       "      <td>25</td>\n",
       "      <td>10</td>\n",
       "      <td>8.0</td>\n",
       "      <td>0.0</td>\n",
       "      <td>33.0</td>\n",
       "      <td>2.0</td>\n",
       "      <td>25.0</td>\n",
       "      <td>2.0</td>\n",
       "      <td>2.0</td>\n",
       "      <td>0</td>\n",
       "    </tr>\n",
       "    <tr>\n",
       "      <th>12428</th>\n",
       "      <td>2022-01-21 01:28:30.000000</td>\n",
       "      <td>0</td>\n",
       "      <td>33</td>\n",
       "      <td>0</td>\n",
       "      <td>25</td>\n",
       "      <td>10</td>\n",
       "      <td>8.0</td>\n",
       "      <td>0.0</td>\n",
       "      <td>33.0</td>\n",
       "      <td>2.0</td>\n",
       "      <td>25.0</td>\n",
       "      <td>2.0</td>\n",
       "      <td>2.0</td>\n",
       "      <td>0</td>\n",
       "    </tr>\n",
       "    <tr>\n",
       "      <th>12429</th>\n",
       "      <td>2022-01-21 01:28:31.000000</td>\n",
       "      <td>0</td>\n",
       "      <td>33</td>\n",
       "      <td>0</td>\n",
       "      <td>25</td>\n",
       "      <td>10</td>\n",
       "      <td>8.0</td>\n",
       "      <td>0.0</td>\n",
       "      <td>33.0</td>\n",
       "      <td>2.0</td>\n",
       "      <td>25.0</td>\n",
       "      <td>2.0</td>\n",
       "      <td>2.0</td>\n",
       "      <td>0</td>\n",
       "    </tr>\n",
       "  </tbody>\n",
       "</table>\n",
       "<p>540 rows × 14 columns</p>\n",
       "</div>"
      ],
      "text/plain": [
       "                        TIMESTAMP  M_WEATHER  M_TRACK_TEMPERATURE  \\\n",
       "0      2022-01-21 01:16:50.000000          0                   33   \n",
       "1      2022-01-21 01:16:51.000000          0                   33   \n",
       "2      2022-01-21 01:16:52.000000          0                   33   \n",
       "3      2022-01-21 01:16:53.000000          0                   33   \n",
       "4      2022-01-21 01:16:54.000000          0                   33   \n",
       "...                           ...        ...                  ...   \n",
       "12425  2022-01-21 01:28:27.000000          0                   33   \n",
       "12426  2022-01-21 01:28:28.000000          0                   33   \n",
       "12427  2022-01-21 01:28:29.000000          0                   33   \n",
       "12428  2022-01-21 01:28:30.000000          0                   33   \n",
       "12429  2022-01-21 01:28:31.000000          0                   33   \n",
       "\n",
       "       M_FORECAST_ACCURACY  M_AIR_TEMPERATURE  M_NUM_WEATHER_FORECAST_SAMPLES  \\\n",
       "0                        0                 25                              10   \n",
       "1                        0                 25                              10   \n",
       "2                        0                 25                              10   \n",
       "3                        0                 25                              10   \n",
       "4                        0                 25                              10   \n",
       "...                    ...                ...                             ...   \n",
       "12425                    0                 25                              10   \n",
       "12426                    0                 25                              10   \n",
       "12427                    0                 25                              10   \n",
       "12428                    0                 25                              10   \n",
       "12429                    0                 25                              10   \n",
       "\n",
       "       M_WEATHER_FORECAST_SAMPLES_M_SESSION_TYPE  \\\n",
       "0                                            8.0   \n",
       "1                                            8.0   \n",
       "2                                            8.0   \n",
       "3                                            8.0   \n",
       "4                                            8.0   \n",
       "...                                          ...   \n",
       "12425                                        8.0   \n",
       "12426                                        8.0   \n",
       "12427                                        8.0   \n",
       "12428                                        8.0   \n",
       "12429                                        8.0   \n",
       "\n",
       "       M_WEATHER_FORECAST_SAMPLES_M_WEATHER  \\\n",
       "0                                       0.0   \n",
       "1                                       0.0   \n",
       "2                                       0.0   \n",
       "3                                       0.0   \n",
       "4                                       0.0   \n",
       "...                                     ...   \n",
       "12425                                   0.0   \n",
       "12426                                   0.0   \n",
       "12427                                   0.0   \n",
       "12428                                   0.0   \n",
       "12429                                   0.0   \n",
       "\n",
       "       M_WEATHER_FORECAST_SAMPLES_M_TRACK_TEMPERATURE  \\\n",
       "0                                                33.0   \n",
       "1                                                33.0   \n",
       "2                                                33.0   \n",
       "3                                                33.0   \n",
       "4                                                33.0   \n",
       "...                                               ...   \n",
       "12425                                            33.0   \n",
       "12426                                            33.0   \n",
       "12427                                            33.0   \n",
       "12428                                            33.0   \n",
       "12429                                            33.0   \n",
       "\n",
       "       M_TRACK_TEMPERATURE_CHANGE  \\\n",
       "0                             2.0   \n",
       "1                             2.0   \n",
       "2                             2.0   \n",
       "3                             2.0   \n",
       "4                             2.0   \n",
       "...                           ...   \n",
       "12425                         2.0   \n",
       "12426                         2.0   \n",
       "12427                         2.0   \n",
       "12428                         2.0   \n",
       "12429                         2.0   \n",
       "\n",
       "       M_WEATHER_FORECAST_SAMPLES_M_AIR_TEMPERATURE  M_AIR_TEMPERATURE_CHANGE  \\\n",
       "0                                              25.0                       2.0   \n",
       "1                                              25.0                       2.0   \n",
       "2                                              25.0                       2.0   \n",
       "3                                              25.0                       2.0   \n",
       "4                                              25.0                       2.0   \n",
       "...                                             ...                       ...   \n",
       "12425                                          25.0                       2.0   \n",
       "12426                                          25.0                       2.0   \n",
       "12427                                          25.0                       2.0   \n",
       "12428                                          25.0                       2.0   \n",
       "12429                                          25.0                       2.0   \n",
       "\n",
       "       M_RAIN_PERCENTAGE  M_WEATHER  \n",
       "0                    1.0          0  \n",
       "1                    1.0          0  \n",
       "2                    1.0          0  \n",
       "3                    1.0          0  \n",
       "4                    1.0          0  \n",
       "...                  ...        ...  \n",
       "12425                2.0          0  \n",
       "12426                2.0          0  \n",
       "12427                2.0          0  \n",
       "12428                2.0          0  \n",
       "12429                2.0          0  \n",
       "\n",
       "[540 rows x 14 columns]"
      ]
     },
     "execution_count": 11,
     "metadata": {},
     "output_type": "execute_result"
    }
   ],
   "source": [
    "df[df['M_SESSION_UID'] == 2939734289500381696][index_list]"
   ]
  },
  {
   "cell_type": "code",
   "execution_count": 12,
   "id": "58990d8b",
   "metadata": {},
   "outputs": [
    {
     "data": {
      "image/png": "[encoded data removed]",
      "text/plain": [
       "<Figure size 432x288 with 4 Axes>"
      ]
     },
     "metadata": {
      "needs_background": "light"
     },
     "output_type": "display_data"
    }
   ],
   "source": [
    "fig, ax = plt.subplots(nrows=2,ncols=2)\n",
    "ax[0,0].plot(df['M_TRACK_TEMPERATURE'])\n",
    "ax[0,0].set_title('M_TRACK_TEMPERATURE')\n",
    "ax[0,1].plot(df['M_AIR_TEMPERATURE'])\n",
    "ax[0,1].set_title('M_AIR_TEMPERATURE')\n",
    "\n",
    "ax[1,0].plot(df['M_TRACK_TEMPERATURE_CHANGE'])\n",
    "ax[1,0].set_title('M_TRACK_TEMPERATURE_CHANGE')\n",
    "ax[1,1].plot(df['M_AIR_TEMPERATURE_CHANGE'])\n",
    "ax[1,1].set_title('M_AIR_TEMPERATURE_CHANGE')\n",
    "\n",
    "plt.show()"
   ]
  },
  {
   "cell_type": "code",
   "execution_count": 13,
   "id": "b931bb4c",
   "metadata": {},
   "outputs": [],
   "source": [
    "# for deep learning models we need a data always to be in some kind of input matrix (if its more complicated it might become a 3d or 4d tensor)\n",
    "# matrix where each row gona be our inputs and it has corresponding label\n",
    "# we gona end with something a bit more complicated than matrix\n",
    "\n",
    "# we gona predict for every 5 hours a temp for next hour\n",
    "# so for 1,2,3,4,5 hour we predict 6 hour, and then after we get 6 hour we bump it over one step - we 'drop' 1 hour and take 6 hour instead and we try to predict 7 hour\n",
    "\n",
    "# X=[[[1], [2], [3], [4], [5]]]; Y=[6]\n",
    "# X=[[[2], [3], [4], [5], [6]]]; Y=[7]\n",
    "# X=[[[3], [4], [5], [6], [7]]]; Y=[8]\n",
    "\n",
    "# we can se above the X matrix and Y vector (input and corresponding output)\n",
    "# its creating supervised learning model to forecasting problem\n",
    "\n",
    "# The X matrix looks like this - each hour is wrapped in a list because if we were to do multivariate (more variables), \n",
    "# then we might include other sorts of variables in this lists as well e.g. [temperature, pressure, humidity]:\n",
    "# X=[[[1, 2, 1], [2, 2, 1], [3, 3, 2], [4, 2, 3], [5, 2, 1]]]; Y=[6]\n",
    "\n",
    "#X matrix is actually a 3d tensor\n",
    "\n",
    "\n",
    "def df_to_X_y(df, window_size=5):\n",
    "  \"\"\"\n",
    "  This function returns X array and y array \n",
    "\n",
    "  Parameters:\n",
    "    df (dataframe): our dataframe\n",
    "    window_size (int): this parameter decides how many last measurements we gonna take into consideration\n",
    "  \"\"\"\n",
    "  df_as_np =df.to_numpy()\n",
    "  X = []\n",
    "  y = []\n",
    "  for i in range(len(df_as_np)-window_size):\n",
    "    # we taking 5 values and put them in a list separately\n",
    "    row = [[a] for a in df_as_np[i:i+window_size]]\n",
    "    X.append(row)\n",
    "    # label is the next value after row\n",
    "    label = df_as_np[i+window_size]\n",
    "    y.append(label)\n",
    "  return np.array(X), np.array(y)\n"
   ]
  },
  {
   "cell_type": "code",
   "execution_count": 14,
   "id": "5928626f",
   "metadata": {},
   "outputs": [
    {
     "data": {
      "text/plain": [
       "((535, 5, 1), (535,))"
      ]
     },
     "execution_count": 14,
     "metadata": {},
     "output_type": "execute_result"
    }
   ],
   "source": [
    "WINDOW_SIZE = 5\n",
    "weather = df[df['M_SESSION_UID'] == 2939734289500381696]['M_WEATHER']\n",
    "X, y = df_to_X_y(weather, WINDOW_SIZE)\n",
    "X.shape, y.shape"
   ]
  },
  {
   "cell_type": "code",
   "execution_count": 15,
   "id": "a5672e73",
   "metadata": {
    "scrolled": true
   },
   "outputs": [
    {
     "data": {
      "text/plain": [
       "array([[[0],\n",
       "        [0],\n",
       "        [0],\n",
       "        [0],\n",
       "        [0]],\n",
       "\n",
       "       [[0],\n",
       "        [0],\n",
       "        [0],\n",
       "        [0],\n",
       "        [0]],\n",
       "\n",
       "       [[0],\n",
       "        [0],\n",
       "        [0],\n",
       "        [0],\n",
       "        [0]],\n",
       "\n",
       "       ...,\n",
       "\n",
       "       [[0],\n",
       "        [0],\n",
       "        [0],\n",
       "        [0],\n",
       "        [0]],\n",
       "\n",
       "       [[0],\n",
       "        [0],\n",
       "        [0],\n",
       "        [0],\n",
       "        [0]],\n",
       "\n",
       "       [[0],\n",
       "        [0],\n",
       "        [0],\n",
       "        [0],\n",
       "        [0]]], dtype=int64)"
      ]
     },
     "execution_count": 15,
     "metadata": {},
     "output_type": "execute_result"
    }
   ],
   "source": [
    "X"
   ]
  },
  {
   "cell_type": "code",
   "execution_count": 16,
   "id": "6015b046",
   "metadata": {},
   "outputs": [
    {
     "name": "stdout",
     "output_type": "stream",
     "text": [
      "(535, 5, 1) (535,)\n",
      "(0, 5, 1) (0,)\n",
      "(0, 5, 1) (0,)\n"
     ]
    }
   ],
   "source": [
    "# split to train validation\n",
    "X_train, y_train = X[:60000], y[:60000]\n",
    "X_val, y_val = X[60000:65000], y[60000:65000]\n",
    "X_test, y_test = X[65000:], y[65000:]\n",
    "\n",
    "print(X_train.shape, y_train.shape)\n",
    "print(X_val.shape, y_val.shape)\n",
    "print(X_test.shape, y_test.shape)"
   ]
  },
  {
   "cell_type": "code",
   "execution_count": 17,
   "id": "86fbf718",
   "metadata": {},
   "outputs": [],
   "source": [
    "from tensorflow.keras.models import Sequential\n",
    "from tensorflow.keras.layers import *\n",
    "from tensorflow.keras.callbacks import ModelCheckpoint\n",
    "from tensorflow.keras.losses import MeanSquaredError\n",
    "from tensorflow.keras.metrics import RootMeanSquaredError\n",
    "from tensorflow.keras.optimizers import Adam"
   ]
  },
  {
   "cell_type": "code",
   "execution_count": 18,
   "id": "9d33c6f3",
   "metadata": {},
   "outputs": [
    {
     "name": "stdout",
     "output_type": "stream",
     "text": [
      "Model: \"sequential\"\n",
      "_________________________________________________________________\n",
      " Layer (type)                Output Shape              Param #   \n",
      "=================================================================\n",
      " lstm (LSTM)                 (None, 64)                16896     \n",
      "                                                                 \n",
      " dense (Dense)               (None, 8)                 520       \n",
      "                                                                 \n",
      " dense_1 (Dense)             (None, 1)                 9         \n",
      "                                                                 \n",
      "=================================================================\n",
      "Total params: 17,425\n",
      "Trainable params: 17,425\n",
      "Non-trainable params: 0\n",
      "_________________________________________________________________\n"
     ]
    }
   ],
   "source": [
    "model1 = Sequential()\n",
    "# we specify 5 by 1 vector as an input\n",
    "model1.add(InputLayer((5, 1)))\n",
    "# we pass it to neural network (we can use GRU as well)\n",
    "model1.add(LSTM(64))\n",
    "model1.add(Dense(8, 'relu'))\n",
    "# we want linear value, we want to predict temp (positive or negative) so we want it to be linear\n",
    "model1.add(Dense(1, 'linear'))\n",
    "\n",
    "model1.summary()"
   ]
  },
  {
   "cell_type": "code",
   "execution_count": 19,
   "id": "8ca49f8a",
   "metadata": {},
   "outputs": [],
   "source": [
    "# cp1 tells the model to save when validation loss is the smallest\n",
    "cp1 = ModelCheckpoint('model1/', save_best_only=True)\n",
    "model1.compile(loss=MeanSquaredError(), optimizer=Adam(learning_rate=0.0001), metrics=[RootMeanSquaredError()])"
   ]
  },
  {
   "cell_type": "code",
   "execution_count": 20,
   "id": "790f30f1",
   "metadata": {},
   "outputs": [
    {
     "name": "stdout",
     "output_type": "stream",
     "text": [
      "Epoch 1/10\n",
      " 1/17 [>.............................] - ETA: 26s - loss: 0.0000e+00 - root_mean_squared_error: 0.0000e+00WARNING:tensorflow:Can save best model only with val_loss available, skipping.\n",
      "17/17 [==============================] - 2s 5ms/step - loss: 0.0000e+00 - root_mean_squared_error: 0.0000e+00\n",
      "Epoch 2/10\n",
      "17/17 [==============================] - ETA: 0s - loss: 0.0000e+00 - root_mean_squared_error: 0.0000e+00WARNING:tensorflow:Can save best model only with val_loss available, skipping.\n",
      "17/17 [==============================] - 0s 4ms/step - loss: 0.0000e+00 - root_mean_squared_error: 0.0000e+00\n",
      "Epoch 3/10\n",
      "17/17 [==============================] - ETA: 0s - loss: 0.0000e+00 - root_mean_squared_error: 0.0000e+00WARNING:tensorflow:Can save best model only with val_loss available, skipping.\n",
      "17/17 [==============================] - 0s 4ms/step - loss: 0.0000e+00 - root_mean_squared_error: 0.0000e+00\n",
      "Epoch 4/10\n",
      "17/17 [==============================] - ETA: 0s - loss: 0.0000e+00 - root_mean_squared_error: 0.0000e+00WARNING:tensorflow:Can save best model only with val_loss available, skipping.\n",
      "17/17 [==============================] - 0s 4ms/step - loss: 0.0000e+00 - root_mean_squared_error: 0.0000e+00\n",
      "Epoch 5/10\n",
      "17/17 [==============================] - ETA: 0s - loss: 0.0000e+00 - root_mean_squared_error: 0.0000e+00WARNING:tensorflow:Can save best model only with val_loss available, skipping.\n",
      "17/17 [==============================] - 0s 4ms/step - loss: 0.0000e+00 - root_mean_squared_error: 0.0000e+00\n",
      "Epoch 6/10\n",
      "17/17 [==============================] - ETA: 0s - loss: 0.0000e+00 - root_mean_squared_error: 0.0000e+00WARNING:tensorflow:Can save best model only with val_loss available, skipping.\n",
      "17/17 [==============================] - 0s 4ms/step - loss: 0.0000e+00 - root_mean_squared_error: 0.0000e+00\n",
      "Epoch 7/10\n",
      " 1/17 [>.............................] - ETA: 0s - loss: 0.0000e+00 - root_mean_squared_error: 0.0000e+00WARNING:tensorflow:Can save best model only with val_loss available, skipping.\n",
      "17/17 [==============================] - 0s 4ms/step - loss: 0.0000e+00 - root_mean_squared_error: 0.0000e+00\n",
      "Epoch 8/10\n",
      " 1/17 [>.............................] - ETA: 0s - loss: 0.0000e+00 - root_mean_squared_error: 0.0000e+00WARNING:tensorflow:Can save best model only with val_loss available, skipping.\n",
      "17/17 [==============================] - 0s 4ms/step - loss: 0.0000e+00 - root_mean_squared_error: 0.0000e+00\n",
      "Epoch 9/10\n",
      " 1/17 [>.............................] - ETA: 0s - loss: 0.0000e+00 - root_mean_squared_error: 0.0000e+00WARNING:tensorflow:Can save best model only with val_loss available, skipping.\n",
      "17/17 [==============================] - 0s 4ms/step - loss: 0.0000e+00 - root_mean_squared_error: 0.0000e+00\n",
      "Epoch 10/10\n",
      "17/17 [==============================] - ETA: 0s - loss: 0.0000e+00 - root_mean_squared_error: 0.0000e+00WARNING:tensorflow:Can save best model only with val_loss available, skipping.\n",
      "17/17 [==============================] - 0s 4ms/step - loss: 0.0000e+00 - root_mean_squared_error: 0.0000e+00\n"
     ]
    },
    {
     "data": {
      "text/plain": [
       "<keras.callbacks.History at 0x22cdb4ce2b0>"
      ]
     },
     "execution_count": 20,
     "metadata": {},
     "output_type": "execute_result"
    }
   ],
   "source": [
    "# each epoch should decrease the loss, we can tune learning_rate to increase the the performance\n",
    "model1.fit(X_train, y_train, validation_data=(X_val, y_val), epochs=10, callbacks=[cp1])"
   ]
  },
  {
   "cell_type": "code",
   "execution_count": 21,
   "id": "dc16ebea",
   "metadata": {},
   "outputs": [
    {
     "ename": "OSError",
     "evalue": "No file or directory found at model1/",
     "output_type": "error",
     "traceback": [
      "\u001b[1;31m---------------------------------------------------------------------------\u001b[0m",
      "\u001b[1;31mOSError\u001b[0m                                   Traceback (most recent call last)",
      "\u001b[1;32m~\\AppData\\Local\\Temp/ipykernel_8072/774551788.py\u001b[0m in \u001b[0;36m<module>\u001b[1;34m\u001b[0m\n\u001b[0;32m      1\u001b[0m \u001b[1;31m# it loads the model into memory\u001b[0m\u001b[1;33m\u001b[0m\u001b[1;33m\u001b[0m\u001b[0m\n\u001b[0;32m      2\u001b[0m \u001b[1;32mfrom\u001b[0m \u001b[0mtensorflow\u001b[0m\u001b[1;33m.\u001b[0m\u001b[0mkeras\u001b[0m\u001b[1;33m.\u001b[0m\u001b[0mmodels\u001b[0m \u001b[1;32mimport\u001b[0m \u001b[0mload_model\u001b[0m\u001b[1;33m\u001b[0m\u001b[1;33m\u001b[0m\u001b[0m\n\u001b[1;32m----> 3\u001b[1;33m \u001b[0mmodel1\u001b[0m \u001b[1;33m=\u001b[0m \u001b[0mload_model\u001b[0m\u001b[1;33m(\u001b[0m\u001b[1;34m'model1/'\u001b[0m\u001b[1;33m)\u001b[0m\u001b[1;33m\u001b[0m\u001b[1;33m\u001b[0m\u001b[0m\n\u001b[0m",
      "\u001b[1;32m~\\anaconda3\\lib\\site-packages\\keras\\utils\\traceback_utils.py\u001b[0m in \u001b[0;36merror_handler\u001b[1;34m(*args, **kwargs)\u001b[0m\n\u001b[0;32m     65\u001b[0m     \u001b[1;32mexcept\u001b[0m \u001b[0mException\u001b[0m \u001b[1;32mas\u001b[0m \u001b[0me\u001b[0m\u001b[1;33m:\u001b[0m  \u001b[1;31m# pylint: disable=broad-except\u001b[0m\u001b[1;33m\u001b[0m\u001b[1;33m\u001b[0m\u001b[0m\n\u001b[0;32m     66\u001b[0m       \u001b[0mfiltered_tb\u001b[0m \u001b[1;33m=\u001b[0m \u001b[0m_process_traceback_frames\u001b[0m\u001b[1;33m(\u001b[0m\u001b[0me\u001b[0m\u001b[1;33m.\u001b[0m\u001b[0m__traceback__\u001b[0m\u001b[1;33m)\u001b[0m\u001b[1;33m\u001b[0m\u001b[1;33m\u001b[0m\u001b[0m\n\u001b[1;32m---> 67\u001b[1;33m       \u001b[1;32mraise\u001b[0m \u001b[0me\u001b[0m\u001b[1;33m.\u001b[0m\u001b[0mwith_traceback\u001b[0m\u001b[1;33m(\u001b[0m\u001b[0mfiltered_tb\u001b[0m\u001b[1;33m)\u001b[0m \u001b[1;32mfrom\u001b[0m \u001b[1;32mNone\u001b[0m\u001b[1;33m\u001b[0m\u001b[1;33m\u001b[0m\u001b[0m\n\u001b[0m\u001b[0;32m     68\u001b[0m     \u001b[1;32mfinally\u001b[0m\u001b[1;33m:\u001b[0m\u001b[1;33m\u001b[0m\u001b[1;33m\u001b[0m\u001b[0m\n\u001b[0;32m     69\u001b[0m       \u001b[1;32mdel\u001b[0m \u001b[0mfiltered_tb\u001b[0m\u001b[1;33m\u001b[0m\u001b[1;33m\u001b[0m\u001b[0m\n",
      "\u001b[1;32m~\\anaconda3\\lib\\site-packages\\keras\\saving\\save.py\u001b[0m in \u001b[0;36mload_model\u001b[1;34m(filepath, custom_objects, compile, options)\u001b[0m\n\u001b[0;32m    207\u001b[0m         \u001b[1;32mif\u001b[0m \u001b[0misinstance\u001b[0m\u001b[1;33m(\u001b[0m\u001b[0mfilepath\u001b[0m\u001b[1;33m,\u001b[0m \u001b[0mstr\u001b[0m\u001b[1;33m)\u001b[0m\u001b[1;33m:\u001b[0m\u001b[1;33m\u001b[0m\u001b[1;33m\u001b[0m\u001b[0m\n\u001b[0;32m    208\u001b[0m           \u001b[1;32mif\u001b[0m \u001b[1;32mnot\u001b[0m \u001b[0mtf\u001b[0m\u001b[1;33m.\u001b[0m\u001b[0mio\u001b[0m\u001b[1;33m.\u001b[0m\u001b[0mgfile\u001b[0m\u001b[1;33m.\u001b[0m\u001b[0mexists\u001b[0m\u001b[1;33m(\u001b[0m\u001b[0mfilepath\u001b[0m\u001b[1;33m)\u001b[0m\u001b[1;33m:\u001b[0m\u001b[1;33m\u001b[0m\u001b[1;33m\u001b[0m\u001b[0m\n\u001b[1;32m--> 209\u001b[1;33m             \u001b[1;32mraise\u001b[0m \u001b[0mIOError\u001b[0m\u001b[1;33m(\u001b[0m\u001b[1;34mf'No file or directory found at {filepath}'\u001b[0m\u001b[1;33m)\u001b[0m\u001b[1;33m\u001b[0m\u001b[1;33m\u001b[0m\u001b[0m\n\u001b[0m\u001b[0;32m    210\u001b[0m           \u001b[1;32mif\u001b[0m \u001b[0msaving_utils\u001b[0m\u001b[1;33m.\u001b[0m\u001b[0mis_hdf5_filepath\u001b[0m\u001b[1;33m(\u001b[0m\u001b[0mfilepath\u001b[0m\u001b[1;33m)\u001b[0m \u001b[1;32mand\u001b[0m \u001b[0mh5py\u001b[0m \u001b[1;32mis\u001b[0m \u001b[1;32mNone\u001b[0m\u001b[1;33m:\u001b[0m\u001b[1;33m\u001b[0m\u001b[1;33m\u001b[0m\u001b[0m\n\u001b[0;32m    211\u001b[0m             raise ImportError(\n",
      "\u001b[1;31mOSError\u001b[0m: No file or directory found at model1/"
     ]
    }
   ],
   "source": [
    "# it loads the model into memory\n",
    "from tensorflow.keras.models import load_model\n",
    "model1 = load_model('model1/')"
   ]
  },
  {
   "cell_type": "code",
   "execution_count": null,
   "id": "36f2edac",
   "metadata": {},
   "outputs": [
    {
     "data": {
      "text/html": [
       "<div>\n",
       "<style scoped>\n",
       "    .dataframe tbody tr th:only-of-type {\n",
       "        vertical-align: middle;\n",
       "    }\n",
       "\n",
       "    .dataframe tbody tr th {\n",
       "        vertical-align: top;\n",
       "    }\n",
       "\n",
       "    .dataframe thead th {\n",
       "        text-align: right;\n",
       "    }\n",
       "</style>\n",
       "<table border=\"1\" class=\"dataframe\">\n",
       "  <thead>\n",
       "    <tr style=\"text-align: right;\">\n",
       "      <th></th>\n",
       "      <th>Train Predictions</th>\n",
       "      <th>Actuals</th>\n",
       "    </tr>\n",
       "  </thead>\n",
       "  <tbody>\n",
       "    <tr>\n",
       "      <th>0</th>\n",
       "      <td>2.424923</td>\n",
       "      <td>25</td>\n",
       "    </tr>\n",
       "    <tr>\n",
       "      <th>1</th>\n",
       "      <td>2.424923</td>\n",
       "      <td>25</td>\n",
       "    </tr>\n",
       "    <tr>\n",
       "      <th>2</th>\n",
       "      <td>2.424923</td>\n",
       "      <td>25</td>\n",
       "    </tr>\n",
       "    <tr>\n",
       "      <th>3</th>\n",
       "      <td>2.424923</td>\n",
       "      <td>25</td>\n",
       "    </tr>\n",
       "    <tr>\n",
       "      <th>4</th>\n",
       "      <td>2.424923</td>\n",
       "      <td>25</td>\n",
       "    </tr>\n",
       "    <tr>\n",
       "      <th>...</th>\n",
       "      <td>...</td>\n",
       "      <td>...</td>\n",
       "    </tr>\n",
       "    <tr>\n",
       "      <th>530</th>\n",
       "      <td>2.424923</td>\n",
       "      <td>25</td>\n",
       "    </tr>\n",
       "    <tr>\n",
       "      <th>531</th>\n",
       "      <td>2.424923</td>\n",
       "      <td>25</td>\n",
       "    </tr>\n",
       "    <tr>\n",
       "      <th>532</th>\n",
       "      <td>2.424923</td>\n",
       "      <td>25</td>\n",
       "    </tr>\n",
       "    <tr>\n",
       "      <th>533</th>\n",
       "      <td>2.424923</td>\n",
       "      <td>25</td>\n",
       "    </tr>\n",
       "    <tr>\n",
       "      <th>534</th>\n",
       "      <td>2.424923</td>\n",
       "      <td>25</td>\n",
       "    </tr>\n",
       "  </tbody>\n",
       "</table>\n",
       "<p>535 rows × 2 columns</p>\n",
       "</div>"
      ],
      "text/plain": [
       "     Train Predictions  Actuals\n",
       "0             2.424923       25\n",
       "1             2.424923       25\n",
       "2             2.424923       25\n",
       "3             2.424923       25\n",
       "4             2.424923       25\n",
       "..                 ...      ...\n",
       "530           2.424923       25\n",
       "531           2.424923       25\n",
       "532           2.424923       25\n",
       "533           2.424923       25\n",
       "534           2.424923       25\n",
       "\n",
       "[535 rows x 2 columns]"
      ]
     },
     "execution_count": 81,
     "metadata": {},
     "output_type": "execute_result"
    }
   ],
   "source": [
    "# we flatten becouse we dont want to have the X=[[[3], [4], [5], [6], [7]]] -> X=[[3, 4, 5, 6, 7]] inner brackets\n",
    "train_predictions = model1.predict(X_train).flatten()\n",
    "# we make a dataframe from results put in dict, and show it below\n",
    "train_results = pd.DataFrame(data={'Train Predictions':train_predictions, 'Actuals':y_train})\n",
    "train_results"
   ]
  },
  {
   "cell_type": "code",
   "execution_count": null,
   "id": "13495da1",
   "metadata": {},
   "outputs": [
    {
     "data": {
      "text/plain": [
       "[<matplotlib.lines.Line2D at 0x148123544e0>]"
      ]
     },
     "execution_count": 17,
     "metadata": {},
     "output_type": "execute_result"
    },
    {
     "data": {
      "image/png": "[encoded data removed]",
      "text/plain": [
       "<Figure size 432x288 with 1 Axes>"
      ]
     },
     "metadata": {
      "needs_background": "light"
     },
     "output_type": "display_data"
    }
   ],
   "source": [
    "import matplotlib.pyplot as plt\n",
    "plt.plot(train_results['Train Predictions'][:30])\n",
    "plt.plot(train_results['Actuals'][:35])"
   ]
  },
  {
   "cell_type": "code",
   "execution_count": null,
   "id": "38028ffe",
   "metadata": {},
   "outputs": [
    {
     "data": {
      "text/html": [
       "<div>\n",
       "<style scoped>\n",
       "    .dataframe tbody tr th:only-of-type {\n",
       "        vertical-align: middle;\n",
       "    }\n",
       "\n",
       "    .dataframe tbody tr th {\n",
       "        vertical-align: top;\n",
       "    }\n",
       "\n",
       "    .dataframe thead th {\n",
       "        text-align: right;\n",
       "    }\n",
       "</style>\n",
       "<table border=\"1\" class=\"dataframe\">\n",
       "  <thead>\n",
       "    <tr style=\"text-align: right;\">\n",
       "      <th></th>\n",
       "      <th>Val Predictions</th>\n",
       "      <th>Actuals</th>\n",
       "    </tr>\n",
       "  </thead>\n",
       "  <tbody>\n",
       "    <tr>\n",
       "      <th>0</th>\n",
       "      <td>15.409070</td>\n",
       "      <td>14.02</td>\n",
       "    </tr>\n",
       "    <tr>\n",
       "      <th>1</th>\n",
       "      <td>13.212512</td>\n",
       "      <td>13.67</td>\n",
       "    </tr>\n",
       "    <tr>\n",
       "      <th>2</th>\n",
       "      <td>13.006639</td>\n",
       "      <td>12.27</td>\n",
       "    </tr>\n",
       "    <tr>\n",
       "      <th>3</th>\n",
       "      <td>11.440801</td>\n",
       "      <td>11.19</td>\n",
       "    </tr>\n",
       "    <tr>\n",
       "      <th>4</th>\n",
       "      <td>10.369304</td>\n",
       "      <td>10.85</td>\n",
       "    </tr>\n",
       "    <tr>\n",
       "      <th>...</th>\n",
       "      <td>...</td>\n",
       "      <td>...</td>\n",
       "    </tr>\n",
       "    <tr>\n",
       "      <th>4995</th>\n",
       "      <td>17.201103</td>\n",
       "      <td>18.27</td>\n",
       "    </tr>\n",
       "    <tr>\n",
       "      <th>4996</th>\n",
       "      <td>17.274326</td>\n",
       "      <td>17.85</td>\n",
       "    </tr>\n",
       "    <tr>\n",
       "      <th>4997</th>\n",
       "      <td>17.172581</td>\n",
       "      <td>16.65</td>\n",
       "    </tr>\n",
       "    <tr>\n",
       "      <th>4998</th>\n",
       "      <td>15.805168</td>\n",
       "      <td>15.85</td>\n",
       "    </tr>\n",
       "    <tr>\n",
       "      <th>4999</th>\n",
       "      <td>15.013762</td>\n",
       "      <td>15.09</td>\n",
       "    </tr>\n",
       "  </tbody>\n",
       "</table>\n",
       "<p>5000 rows × 2 columns</p>\n",
       "</div>"
      ],
      "text/plain": [
       "      Val Predictions  Actuals\n",
       "0           15.409070    14.02\n",
       "1           13.212512    13.67\n",
       "2           13.006639    12.27\n",
       "3           11.440801    11.19\n",
       "4           10.369304    10.85\n",
       "...               ...      ...\n",
       "4995        17.201103    18.27\n",
       "4996        17.274326    17.85\n",
       "4997        17.172581    16.65\n",
       "4998        15.805168    15.85\n",
       "4999        15.013762    15.09\n",
       "\n",
       "[5000 rows x 2 columns]"
      ]
     },
     "execution_count": 18,
     "metadata": {},
     "output_type": "execute_result"
    }
   ],
   "source": [
    "# the same thing for validation data\n",
    "# we flatten becouse we dont want to have the X=[[[3], [4], [5], [6], [7]]] -> X=[[3, 4, 5, 6, 7]] inner brackets\n",
    "val_predictions = model1.predict(X_val).flatten()\n",
    "# we make a dataframe from results put in dict, and show it below\n",
    "val_results = pd.DataFrame(data={'Val Predictions':val_predictions, 'Actuals':y_val})\n",
    "val_results"
   ]
  },
  {
   "cell_type": "code",
   "execution_count": null,
   "id": "58f84451",
   "metadata": {},
   "outputs": [
    {
     "data": {
      "text/plain": [
       "[<matplotlib.lines.Line2D at 0x1481184f8d0>]"
      ]
     },
     "execution_count": 19,
     "metadata": {},
     "output_type": "execute_result"
    },
    {
     "data": {
      "image/png": "[encoded data removed]",
      "text/plain": [
       "<Figure size 432x288 with 1 Axes>"
      ]
     },
     "metadata": {
      "needs_background": "light"
     },
     "output_type": "display_data"
    }
   ],
   "source": [
    "plt.plot(val_results['Val Predictions'][:30])\n",
    "plt.plot(val_results['Actuals'][:35])"
   ]
  },
  {
   "cell_type": "code",
   "execution_count": null,
   "id": "4d202c64",
   "metadata": {},
   "outputs": [
    {
     "data": {
      "text/html": [
       "<div>\n",
       "<style scoped>\n",
       "    .dataframe tbody tr th:only-of-type {\n",
       "        vertical-align: middle;\n",
       "    }\n",
       "\n",
       "    .dataframe tbody tr th {\n",
       "        vertical-align: top;\n",
       "    }\n",
       "\n",
       "    .dataframe thead th {\n",
       "        text-align: right;\n",
       "    }\n",
       "</style>\n",
       "<table border=\"1\" class=\"dataframe\">\n",
       "  <thead>\n",
       "    <tr style=\"text-align: right;\">\n",
       "      <th></th>\n",
       "      <th>Test Predictions</th>\n",
       "      <th>Actuals</th>\n",
       "    </tr>\n",
       "  </thead>\n",
       "  <tbody>\n",
       "    <tr>\n",
       "      <th>0</th>\n",
       "      <td>14.339602</td>\n",
       "      <td>13.99</td>\n",
       "    </tr>\n",
       "    <tr>\n",
       "      <th>1</th>\n",
       "      <td>13.193974</td>\n",
       "      <td>13.46</td>\n",
       "    </tr>\n",
       "    <tr>\n",
       "      <th>2</th>\n",
       "      <td>12.830700</td>\n",
       "      <td>12.93</td>\n",
       "    </tr>\n",
       "    <tr>\n",
       "      <th>3</th>\n",
       "      <td>12.430062</td>\n",
       "      <td>12.43</td>\n",
       "    </tr>\n",
       "    <tr>\n",
       "      <th>4</th>\n",
       "      <td>11.992962</td>\n",
       "      <td>12.17</td>\n",
       "    </tr>\n",
       "    <tr>\n",
       "      <th>...</th>\n",
       "      <td>...</td>\n",
       "      <td>...</td>\n",
       "    </tr>\n",
       "    <tr>\n",
       "      <th>5081</th>\n",
       "      <td>-1.175275</td>\n",
       "      <td>-0.98</td>\n",
       "    </tr>\n",
       "    <tr>\n",
       "      <th>5082</th>\n",
       "      <td>-1.516090</td>\n",
       "      <td>-1.40</td>\n",
       "    </tr>\n",
       "    <tr>\n",
       "      <th>5083</th>\n",
       "      <td>-1.734806</td>\n",
       "      <td>-2.75</td>\n",
       "    </tr>\n",
       "    <tr>\n",
       "      <th>5084</th>\n",
       "      <td>-3.098130</td>\n",
       "      <td>-2.89</td>\n",
       "    </tr>\n",
       "    <tr>\n",
       "      <th>5085</th>\n",
       "      <td>-3.152731</td>\n",
       "      <td>-3.93</td>\n",
       "    </tr>\n",
       "  </tbody>\n",
       "</table>\n",
       "<p>5086 rows × 2 columns</p>\n",
       "</div>"
      ],
      "text/plain": [
       "      Test Predictions  Actuals\n",
       "0            14.339602    13.99\n",
       "1            13.193974    13.46\n",
       "2            12.830700    12.93\n",
       "3            12.430062    12.43\n",
       "4            11.992962    12.17\n",
       "...                ...      ...\n",
       "5081         -1.175275    -0.98\n",
       "5082         -1.516090    -1.40\n",
       "5083         -1.734806    -2.75\n",
       "5084         -3.098130    -2.89\n",
       "5085         -3.152731    -3.93\n",
       "\n",
       "[5086 rows x 2 columns]"
      ]
     },
     "execution_count": 20,
     "metadata": {},
     "output_type": "execute_result"
    }
   ],
   "source": [
    "# the same thing for test data\n",
    "# we flatten becouse we dont want to have the X=[[[3], [4], [5], [6], [7]]] -> X=[[3, 4, 5, 6, 7]] inner brackets\n",
    "test_predictions = model1.predict(X_test).flatten()\n",
    "# we make a dataframe from results put in dict, and show it below\n",
    "test_results = pd.DataFrame(data={'Test Predictions':test_predictions, 'Actuals':y_test})\n",
    "test_results"
   ]
  },
  {
   "cell_type": "code",
   "execution_count": null,
   "id": "1d0dc5c2",
   "metadata": {},
   "outputs": [
    {
     "data": {
      "text/plain": [
       "[<matplotlib.lines.Line2D at 0x14811735048>]"
      ]
     },
     "execution_count": 21,
     "metadata": {},
     "output_type": "execute_result"
    },
    {
     "data": {
      "image/png": "[encoded data removed]",
      "text/plain": [
       "<Figure size 432x288 with 1 Axes>"
      ]
     },
     "metadata": {
      "needs_background": "light"
     },
     "output_type": "display_data"
    }
   ],
   "source": [
    "plt.plot(test_results['Test Predictions'][:30])\n",
    "plt.plot(test_results['Actuals'][:35])"
   ]
  },
  {
   "cell_type": "code",
   "execution_count": null,
   "id": "8a98d0d2",
   "metadata": {},
   "outputs": [],
   "source": [
    "# CONVULTIONAL NEURAL NETWORK\n",
    "# https://towardsdatascience.com/a-comparison-of-dnn-cnn-and-lstm-using-tf-keras-2191f8c77bbe"
   ]
  },
  {
   "cell_type": "code",
   "execution_count": null,
   "id": "9e3e1697",
   "metadata": {},
   "outputs": [
    {
     "name": "stdout",
     "output_type": "stream",
     "text": [
      "Model: \"sequential_1\"\n",
      "_________________________________________________________________\n",
      "Layer (type)                 Output Shape              Param #   \n",
      "=================================================================\n",
      "conv1d (Conv1D)              (None, 4, 64)             192       \n",
      "_________________________________________________________________\n",
      "flatten (Flatten)            (None, 256)               0         \n",
      "_________________________________________________________________\n",
      "dense_2 (Dense)              (None, 8)                 2056      \n",
      "_________________________________________________________________\n",
      "dense_3 (Dense)              (None, 1)                 9         \n",
      "=================================================================\n",
      "Total params: 2,257\n",
      "Trainable params: 2,257\n",
      "Non-trainable params: 0\n",
      "_________________________________________________________________\n"
     ]
    }
   ],
   "source": [
    "model2 = Sequential()\n",
    "model2.add(InputLayer((5, 1)))\n",
    "model2.add(Conv1D(64, kernel_size=2))\n",
    "model2.add(Flatten())\n",
    "model2.add(Dense(8, 'relu'))\n",
    "model2.add(Dense(1, 'linear'))\n",
    "\n",
    "model2.summary()"
   ]
  },
  {
   "cell_type": "code",
   "execution_count": null,
   "id": "00fd81da",
   "metadata": {},
   "outputs": [],
   "source": [
    "cp2 = ModelCheckpoint('model2/', save_best_only=True)\n",
    "model2.compile(loss=MeanSquaredError(), optimizer=Adam(learning_rate=0.0001), metrics=[RootMeanSquaredError()])"
   ]
  },
  {
   "cell_type": "code",
   "execution_count": null,
   "id": "e19b437f",
   "metadata": {},
   "outputs": [
    {
     "name": "stdout",
     "output_type": "stream",
     "text": [
      "Epoch 1/10\n",
      "1875/1875 [==============================] - 1s 555us/step - loss: 5.1593 - root_mean_squared_error: 2.2714 - val_loss: 0.9678 - val_root_mean_squared_error: 0.9838\n",
      "INFO:tensorflow:Assets written to: model2\\assets\n"
     ]
    },
    {
     "name": "stderr",
     "output_type": "stream",
     "text": [
      "INFO:tensorflow:Assets written to: model2\\assets\n"
     ]
    },
    {
     "name": "stdout",
     "output_type": "stream",
     "text": [
      "Epoch 2/10\n",
      "1875/1875 [==============================] - 1s 548us/step - loss: 1.0760 - root_mean_squared_error: 1.0373 - val_loss: 0.7259 - val_root_mean_squared_error: 0.8520\n",
      "INFO:tensorflow:Assets written to: model2\\assets\n"
     ]
    },
    {
     "name": "stderr",
     "output_type": "stream",
     "text": [
      "INFO:tensorflow:Assets written to: model2\\assets\n"
     ]
    },
    {
     "name": "stdout",
     "output_type": "stream",
     "text": [
      "Epoch 3/10\n",
      "1875/1875 [==============================] - 1s 524us/step - loss: 0.8212 - root_mean_squared_error: 0.9062 - val_loss: 0.6807 - val_root_mean_squared_error: 0.8251\n",
      "INFO:tensorflow:Assets written to: model2\\assets\n"
     ]
    },
    {
     "name": "stderr",
     "output_type": "stream",
     "text": [
      "INFO:tensorflow:Assets written to: model2\\assets\n"
     ]
    },
    {
     "name": "stdout",
     "output_type": "stream",
     "text": [
      "Epoch 4/10\n",
      "1875/1875 [==============================] - 1s 517us/step - loss: 0.7286 - root_mean_squared_error: 0.8536 - val_loss: 0.5485 - val_root_mean_squared_error: 0.7406\n",
      "INFO:tensorflow:Assets written to: model2\\assets\n"
     ]
    },
    {
     "name": "stderr",
     "output_type": "stream",
     "text": [
      "INFO:tensorflow:Assets written to: model2\\assets\n"
     ]
    },
    {
     "name": "stdout",
     "output_type": "stream",
     "text": [
      "Epoch 5/10\n",
      "1875/1875 [==============================] - 1s 520us/step - loss: 0.6930 - root_mean_squared_error: 0.8324 - val_loss: 0.5109 - val_root_mean_squared_error: 0.7148\n",
      "INFO:tensorflow:Assets written to: model2\\assets\n"
     ]
    },
    {
     "name": "stderr",
     "output_type": "stream",
     "text": [
      "INFO:tensorflow:Assets written to: model2\\assets\n"
     ]
    },
    {
     "name": "stdout",
     "output_type": "stream",
     "text": [
      "Epoch 6/10\n",
      "1875/1875 [==============================] - 1s 517us/step - loss: 0.6802 - root_mean_squared_error: 0.8248 - val_loss: 0.4994 - val_root_mean_squared_error: 0.7067\n",
      "INFO:tensorflow:Assets written to: model2\\assets\n"
     ]
    },
    {
     "name": "stderr",
     "output_type": "stream",
     "text": [
      "INFO:tensorflow:Assets written to: model2\\assets\n"
     ]
    },
    {
     "name": "stdout",
     "output_type": "stream",
     "text": [
      "Epoch 7/10\n",
      "1875/1875 [==============================] - 1s 529us/step - loss: 0.6653 - root_mean_squared_error: 0.8157 - val_loss: 0.5108 - val_root_mean_squared_error: 0.7147\n",
      "Epoch 8/10\n",
      "1875/1875 [==============================] - 1s 523us/step - loss: 0.6595 - root_mean_squared_error: 0.8121 - val_loss: 0.4986 - val_root_mean_squared_error: 0.7061\n",
      "INFO:tensorflow:Assets written to: model2\\assets\n"
     ]
    },
    {
     "name": "stderr",
     "output_type": "stream",
     "text": [
      "INFO:tensorflow:Assets written to: model2\\assets\n"
     ]
    },
    {
     "name": "stdout",
     "output_type": "stream",
     "text": [
      "Epoch 9/10\n",
      "1875/1875 [==============================] - 1s 521us/step - loss: 0.6568 - root_mean_squared_error: 0.8104 - val_loss: 0.5119 - val_root_mean_squared_error: 0.7155\n",
      "Epoch 10/10\n",
      "1875/1875 [==============================] - 1s 517us/step - loss: 0.6524 - root_mean_squared_error: 0.8077 - val_loss: 0.4952 - val_root_mean_squared_error: 0.7037\n",
      "INFO:tensorflow:Assets written to: model2\\assets\n"
     ]
    },
    {
     "name": "stderr",
     "output_type": "stream",
     "text": [
      "INFO:tensorflow:Assets written to: model2\\assets\n"
     ]
    },
    {
     "data": {
      "text/plain": [
       "<keras.callbacks.History at 0x14811a9b080>"
      ]
     },
     "execution_count": 25,
     "metadata": {},
     "output_type": "execute_result"
    }
   ],
   "source": [
    "model2.fit(X_train, y_train, validation_data=(X_val, y_val), epochs=10, callbacks=[cp2])"
   ]
  },
  {
   "cell_type": "code",
   "execution_count": null,
   "id": "1b112c33",
   "metadata": {},
   "outputs": [
    {
     "data": {
      "text/plain": [
       "\"GRU couples forget as well as input gates. GRU use less training parameters and therefore use less memory, \\nexecute faster and train faster than LSTM's whereas LSTM is more accurate on dataset using longer sequence. \\nIn short, if sequence is large or accuracy is very critical, please go for LSTM whereas for less memory consumption and \\nfaster operation go for GRU. If you donot have much floating point operations per second (FLOP's) to spare switch to GRU. \\nLSTM has three values at output (output, hidden and cell) whereas GRU has two values at output (output and hidden).\""
      ]
     },
     "execution_count": 26,
     "metadata": {},
     "output_type": "execute_result"
    }
   ],
   "source": [
    "# Gated Recurring Units\n",
    "# more prone to overfitting if you got more parameters and more complexity\n",
    "\"\"\"GRU couples forget as well as input gates. GRU use less training parameters and therefore use less memory, \n",
    "execute faster and train faster than LSTM's whereas LSTM is more accurate on dataset using longer sequence. \n",
    "In short, if sequence is large or accuracy is very critical, please go for LSTM whereas for less memory consumption and \n",
    "faster operation go for GRU. If you donot have much floating point operations per second (FLOP's) to spare switch to GRU. \n",
    "LSTM has three values at output (output, hidden and cell) whereas GRU has two values at output (output and hidden).\"\"\""
   ]
  },
  {
   "cell_type": "code",
   "execution_count": null,
   "id": "15b7d537",
   "metadata": {},
   "outputs": [
    {
     "name": "stdout",
     "output_type": "stream",
     "text": [
      "Model: \"sequential_2\"\n",
      "_________________________________________________________________\n",
      "Layer (type)                 Output Shape              Param #   \n",
      "=================================================================\n",
      "gru (GRU)                    (None, 64)                12864     \n",
      "_________________________________________________________________\n",
      "dense_4 (Dense)              (None, 8)                 520       \n",
      "_________________________________________________________________\n",
      "dense_5 (Dense)              (None, 1)                 9         \n",
      "=================================================================\n",
      "Total params: 13,393\n",
      "Trainable params: 13,393\n",
      "Non-trainable params: 0\n",
      "_________________________________________________________________\n"
     ]
    }
   ],
   "source": [
    "model3 = Sequential()\n",
    "model3.add(InputLayer((5, 1)))\n",
    "model3.add(GRU(64))\n",
    "model3.add(Dense(8, 'relu'))\n",
    "model3.add(Dense(1, 'linear'))\n",
    "model3.summary()"
   ]
  },
  {
   "cell_type": "code",
   "execution_count": null,
   "id": "fc0b235d",
   "metadata": {},
   "outputs": [],
   "source": [
    "cp3 = ModelCheckpoint('model3/', save_best_only=True)\n",
    "model3.compile(loss=MeanSquaredError(), optimizer=Adam(learning_rate=0.0001), metrics=[RootMeanSquaredError()])"
   ]
  },
  {
   "cell_type": "code",
   "execution_count": null,
   "id": "50508b5e",
   "metadata": {},
   "outputs": [
    {
     "name": "stdout",
     "output_type": "stream",
     "text": [
      "Epoch 1/10\n",
      "1875/1875 [==============================] - 3s 1ms/step - loss: 40.0385 - root_mean_squared_error: 6.3276 - val_loss: 1.0862 - val_root_mean_squared_error: 1.0422\n"
     ]
    },
    {
     "name": "stderr",
     "output_type": "stream",
     "text": [
      "WARNING:absl:Found untraced functions such as gru_cell_layer_call_fn, gru_cell_layer_call_and_return_conditional_losses, gru_cell_layer_call_fn, gru_cell_layer_call_and_return_conditional_losses, gru_cell_layer_call_and_return_conditional_losses while saving (showing 5 of 5). These functions will not be directly callable after loading.\n"
     ]
    },
    {
     "name": "stdout",
     "output_type": "stream",
     "text": [
      "INFO:tensorflow:Assets written to: model3\\assets\n"
     ]
    },
    {
     "name": "stderr",
     "output_type": "stream",
     "text": [
      "INFO:tensorflow:Assets written to: model3\\assets\n"
     ]
    },
    {
     "name": "stdout",
     "output_type": "stream",
     "text": [
      "Epoch 2/10\n",
      "1875/1875 [==============================] - 3s 1ms/step - loss: 1.9412 - root_mean_squared_error: 1.3933 - val_loss: 0.6945 - val_root_mean_squared_error: 0.8334\n"
     ]
    },
    {
     "name": "stderr",
     "output_type": "stream",
     "text": [
      "WARNING:absl:Found untraced functions such as gru_cell_layer_call_fn, gru_cell_layer_call_and_return_conditional_losses, gru_cell_layer_call_fn, gru_cell_layer_call_and_return_conditional_losses, gru_cell_layer_call_and_return_conditional_losses while saving (showing 5 of 5). These functions will not be directly callable after loading.\n"
     ]
    },
    {
     "name": "stdout",
     "output_type": "stream",
     "text": [
      "INFO:tensorflow:Assets written to: model3\\assets\n"
     ]
    },
    {
     "name": "stderr",
     "output_type": "stream",
     "text": [
      "INFO:tensorflow:Assets written to: model3\\assets\n"
     ]
    },
    {
     "name": "stdout",
     "output_type": "stream",
     "text": [
      "Epoch 3/10\n",
      "1875/1875 [==============================] - 3s 1ms/step - loss: 0.9428 - root_mean_squared_error: 0.9710 - val_loss: 0.5724 - val_root_mean_squared_error: 0.7565\n"
     ]
    },
    {
     "name": "stderr",
     "output_type": "stream",
     "text": [
      "WARNING:absl:Found untraced functions such as gru_cell_layer_call_fn, gru_cell_layer_call_and_return_conditional_losses, gru_cell_layer_call_fn, gru_cell_layer_call_and_return_conditional_losses, gru_cell_layer_call_and_return_conditional_losses while saving (showing 5 of 5). These functions will not be directly callable after loading.\n"
     ]
    },
    {
     "name": "stdout",
     "output_type": "stream",
     "text": [
      "INFO:tensorflow:Assets written to: model3\\assets\n"
     ]
    },
    {
     "name": "stderr",
     "output_type": "stream",
     "text": [
      "INFO:tensorflow:Assets written to: model3\\assets\n"
     ]
    },
    {
     "name": "stdout",
     "output_type": "stream",
     "text": [
      "Epoch 4/10\n",
      "1875/1875 [==============================] - 3s 1ms/step - loss: 0.7475 - root_mean_squared_error: 0.8646 - val_loss: 0.5256 - val_root_mean_squared_error: 0.7250\n"
     ]
    },
    {
     "name": "stderr",
     "output_type": "stream",
     "text": [
      "WARNING:absl:Found untraced functions such as gru_cell_layer_call_fn, gru_cell_layer_call_and_return_conditional_losses, gru_cell_layer_call_fn, gru_cell_layer_call_and_return_conditional_losses, gru_cell_layer_call_and_return_conditional_losses while saving (showing 5 of 5). These functions will not be directly callable after loading.\n"
     ]
    },
    {
     "name": "stdout",
     "output_type": "stream",
     "text": [
      "INFO:tensorflow:Assets written to: model3\\assets\n"
     ]
    },
    {
     "name": "stderr",
     "output_type": "stream",
     "text": [
      "INFO:tensorflow:Assets written to: model3\\assets\n"
     ]
    },
    {
     "name": "stdout",
     "output_type": "stream",
     "text": [
      "Epoch 5/10\n",
      "1875/1875 [==============================] - 3s 1ms/step - loss: 0.6892 - root_mean_squared_error: 0.8302 - val_loss: 0.5108 - val_root_mean_squared_error: 0.7147\n"
     ]
    },
    {
     "name": "stderr",
     "output_type": "stream",
     "text": [
      "WARNING:absl:Found untraced functions such as gru_cell_layer_call_fn, gru_cell_layer_call_and_return_conditional_losses, gru_cell_layer_call_fn, gru_cell_layer_call_and_return_conditional_losses, gru_cell_layer_call_and_return_conditional_losses while saving (showing 5 of 5). These functions will not be directly callable after loading.\n"
     ]
    },
    {
     "name": "stdout",
     "output_type": "stream",
     "text": [
      "INFO:tensorflow:Assets written to: model3\\assets\n"
     ]
    },
    {
     "name": "stderr",
     "output_type": "stream",
     "text": [
      "INFO:tensorflow:Assets written to: model3\\assets\n"
     ]
    },
    {
     "name": "stdout",
     "output_type": "stream",
     "text": [
      "Epoch 6/10\n",
      "1875/1875 [==============================] - 3s 1ms/step - loss: 0.6682 - root_mean_squared_error: 0.8175 - val_loss: 0.5119 - val_root_mean_squared_error: 0.7155\n",
      "Epoch 7/10\n",
      "1875/1875 [==============================] - 3s 1ms/step - loss: 0.6585 - root_mean_squared_error: 0.8115 - val_loss: 0.4898 - val_root_mean_squared_error: 0.6999\n"
     ]
    },
    {
     "name": "stderr",
     "output_type": "stream",
     "text": [
      "WARNING:absl:Found untraced functions such as gru_cell_layer_call_fn, gru_cell_layer_call_and_return_conditional_losses, gru_cell_layer_call_fn, gru_cell_layer_call_and_return_conditional_losses, gru_cell_layer_call_and_return_conditional_losses while saving (showing 5 of 5). These functions will not be directly callable after loading.\n"
     ]
    },
    {
     "name": "stdout",
     "output_type": "stream",
     "text": [
      "INFO:tensorflow:Assets written to: model3\\assets\n"
     ]
    },
    {
     "name": "stderr",
     "output_type": "stream",
     "text": [
      "INFO:tensorflow:Assets written to: model3\\assets\n"
     ]
    },
    {
     "name": "stdout",
     "output_type": "stream",
     "text": [
      "Epoch 8/10\n",
      "1875/1875 [==============================] - 3s 1ms/step - loss: 0.6550 - root_mean_squared_error: 0.8093 - val_loss: 0.5035 - val_root_mean_squared_error: 0.7096\n",
      "Epoch 9/10\n",
      "1875/1875 [==============================] - 3s 1ms/step - loss: 0.6506 - root_mean_squared_error: 0.8066 - val_loss: 0.5037 - val_root_mean_squared_error: 0.7097\n",
      "Epoch 10/10\n",
      "1875/1875 [==============================] - 3s 1ms/step - loss: 0.6475 - root_mean_squared_error: 0.8047 - val_loss: 0.5231 - val_root_mean_squared_error: 0.7233\n"
     ]
    },
    {
     "data": {
      "text/plain": [
       "<keras.callbacks.History at 0x148115729e8>"
      ]
     },
     "execution_count": 29,
     "metadata": {},
     "output_type": "execute_result"
    }
   ],
   "source": [
    "model3.fit(X_train, y_train, validation_data=(X_val, y_val), epochs=10, callbacks=[cp3])"
   ]
  },
  {
   "cell_type": "markdown",
   "id": "f2e7f34e",
   "metadata": {},
   "source": [
    "## MULTIVARIATE TIME SERIES"
   ]
  },
  {
   "cell_type": "code",
   "execution_count": null,
   "id": "560dba48",
   "metadata": {},
   "outputs": [
    {
     "data": {
      "text/plain": [
       "Date Time\n",
       "2009-01-01 01:00:00   -8.05\n",
       "2009-01-01 02:00:00   -8.88\n",
       "2009-01-01 03:00:00   -8.81\n",
       "2009-01-01 04:00:00   -9.05\n",
       "2009-01-01 05:00:00   -9.63\n",
       "                       ... \n",
       "2016-12-31 19:10:00   -0.98\n",
       "2016-12-31 20:10:00   -1.40\n",
       "2016-12-31 21:10:00   -2.75\n",
       "2016-12-31 22:10:00   -2.89\n",
       "2016-12-31 23:10:00   -3.93\n",
       "Name: T (degC), Length: 70091, dtype: float64"
      ]
     },
     "execution_count": 30,
     "metadata": {},
     "output_type": "execute_result"
    }
   ],
   "source": [
    "temp"
   ]
  },
  {
   "cell_type": "code",
   "execution_count": null,
   "id": "de226f71",
   "metadata": {},
   "outputs": [
    {
     "data": {
      "text/html": [
       "<div>\n",
       "<style scoped>\n",
       "    .dataframe tbody tr th:only-of-type {\n",
       "        vertical-align: middle;\n",
       "    }\n",
       "\n",
       "    .dataframe tbody tr th {\n",
       "        vertical-align: top;\n",
       "    }\n",
       "\n",
       "    .dataframe thead th {\n",
       "        text-align: right;\n",
       "    }\n",
       "</style>\n",
       "<table border=\"1\" class=\"dataframe\">\n",
       "  <thead>\n",
       "    <tr style=\"text-align: right;\">\n",
       "      <th></th>\n",
       "      <th>Temperature</th>\n",
       "      <th>Seconds</th>\n",
       "    </tr>\n",
       "    <tr>\n",
       "      <th>Date Time</th>\n",
       "      <th></th>\n",
       "      <th></th>\n",
       "    </tr>\n",
       "  </thead>\n",
       "  <tbody>\n",
       "    <tr>\n",
       "      <th>2009-01-01 01:00:00</th>\n",
       "      <td>-8.05</td>\n",
       "      <td>1.230772e+09</td>\n",
       "    </tr>\n",
       "    <tr>\n",
       "      <th>2009-01-01 02:00:00</th>\n",
       "      <td>-8.88</td>\n",
       "      <td>1.230775e+09</td>\n",
       "    </tr>\n",
       "    <tr>\n",
       "      <th>2009-01-01 03:00:00</th>\n",
       "      <td>-8.81</td>\n",
       "      <td>1.230779e+09</td>\n",
       "    </tr>\n",
       "    <tr>\n",
       "      <th>2009-01-01 04:00:00</th>\n",
       "      <td>-9.05</td>\n",
       "      <td>1.230782e+09</td>\n",
       "    </tr>\n",
       "    <tr>\n",
       "      <th>2009-01-01 05:00:00</th>\n",
       "      <td>-9.63</td>\n",
       "      <td>1.230786e+09</td>\n",
       "    </tr>\n",
       "    <tr>\n",
       "      <th>...</th>\n",
       "      <td>...</td>\n",
       "      <td>...</td>\n",
       "    </tr>\n",
       "    <tr>\n",
       "      <th>2016-12-31 19:10:00</th>\n",
       "      <td>-0.98</td>\n",
       "      <td>1.483211e+09</td>\n",
       "    </tr>\n",
       "    <tr>\n",
       "      <th>2016-12-31 20:10:00</th>\n",
       "      <td>-1.40</td>\n",
       "      <td>1.483215e+09</td>\n",
       "    </tr>\n",
       "    <tr>\n",
       "      <th>2016-12-31 21:10:00</th>\n",
       "      <td>-2.75</td>\n",
       "      <td>1.483219e+09</td>\n",
       "    </tr>\n",
       "    <tr>\n",
       "      <th>2016-12-31 22:10:00</th>\n",
       "      <td>-2.89</td>\n",
       "      <td>1.483222e+09</td>\n",
       "    </tr>\n",
       "    <tr>\n",
       "      <th>2016-12-31 23:10:00</th>\n",
       "      <td>-3.93</td>\n",
       "      <td>1.483226e+09</td>\n",
       "    </tr>\n",
       "  </tbody>\n",
       "</table>\n",
       "<p>70091 rows × 2 columns</p>\n",
       "</div>"
      ],
      "text/plain": [
       "                     Temperature       Seconds\n",
       "Date Time                                     \n",
       "2009-01-01 01:00:00        -8.05  1.230772e+09\n",
       "2009-01-01 02:00:00        -8.88  1.230775e+09\n",
       "2009-01-01 03:00:00        -8.81  1.230779e+09\n",
       "2009-01-01 04:00:00        -9.05  1.230782e+09\n",
       "2009-01-01 05:00:00        -9.63  1.230786e+09\n",
       "...                          ...           ...\n",
       "2016-12-31 19:10:00        -0.98  1.483211e+09\n",
       "2016-12-31 20:10:00        -1.40  1.483215e+09\n",
       "2016-12-31 21:10:00        -2.75  1.483219e+09\n",
       "2016-12-31 22:10:00        -2.89  1.483222e+09\n",
       "2016-12-31 23:10:00        -3.93  1.483226e+09\n",
       "\n",
       "[70091 rows x 2 columns]"
      ]
     },
     "execution_count": 32,
     "metadata": {},
     "output_type": "execute_result"
    }
   ],
   "source": [
    "# we are making pd with one column\n",
    "temp_df = pd.DataFrame({'Temperature': temp})\n",
    "temp_df['Seconds'] = temp_df.index.map(pd.Timestamp.timestamp)\n",
    "temp_df"
   ]
  },
  {
   "cell_type": "code",
   "execution_count": null,
   "id": "2e6fc4e8",
   "metadata": {},
   "outputs": [],
   "source": [
    "# making signals:\n",
    "# we doin this couse this columns have some better or worse function approx\n",
    "# in a year and in a day the temp is dropping down and goin up in some intervals\n",
    "day = 60*60*24\n",
    "year = 365.2425*day\n",
    "\n",
    "temp_df['Day sin'] = np.sin(temp_df['Seconds']*np.pi / day)\n",
    "temp_df['Day cos'] = np.cos(temp_df['Seconds']*np.pi / day)\n",
    "temp_df['Year sin'] = np.sin(temp_df['Seconds']*np.pi / day)\n",
    "temp_df['Year cos'] = np.cos(temp_df['Seconds']*np.pi / day)"
   ]
  },
  {
   "cell_type": "code",
   "execution_count": null,
   "id": "f5c72845",
   "metadata": {},
   "outputs": [
    {
     "data": {
      "text/html": [
       "<div>\n",
       "<style scoped>\n",
       "    .dataframe tbody tr th:only-of-type {\n",
       "        vertical-align: middle;\n",
       "    }\n",
       "\n",
       "    .dataframe tbody tr th {\n",
       "        vertical-align: top;\n",
       "    }\n",
       "\n",
       "    .dataframe thead th {\n",
       "        text-align: right;\n",
       "    }\n",
       "</style>\n",
       "<table border=\"1\" class=\"dataframe\">\n",
       "  <thead>\n",
       "    <tr style=\"text-align: right;\">\n",
       "      <th></th>\n",
       "      <th>Temperature</th>\n",
       "      <th>Day sin</th>\n",
       "      <th>Day cos</th>\n",
       "      <th>Year sin</th>\n",
       "      <th>Year cos</th>\n",
       "    </tr>\n",
       "    <tr>\n",
       "      <th>Date Time</th>\n",
       "      <th></th>\n",
       "      <th></th>\n",
       "      <th></th>\n",
       "      <th></th>\n",
       "      <th></th>\n",
       "    </tr>\n",
       "  </thead>\n",
       "  <tbody>\n",
       "    <tr>\n",
       "      <th>2009-01-01 01:00:00</th>\n",
       "      <td>-8.05</td>\n",
       "      <td>-0.130526</td>\n",
       "      <td>-0.991445</td>\n",
       "      <td>-0.130526</td>\n",
       "      <td>-0.991445</td>\n",
       "    </tr>\n",
       "    <tr>\n",
       "      <th>2009-01-01 02:00:00</th>\n",
       "      <td>-8.88</td>\n",
       "      <td>-0.258819</td>\n",
       "      <td>-0.965926</td>\n",
       "      <td>-0.258819</td>\n",
       "      <td>-0.965926</td>\n",
       "    </tr>\n",
       "    <tr>\n",
       "      <th>2009-01-01 03:00:00</th>\n",
       "      <td>-8.81</td>\n",
       "      <td>-0.382683</td>\n",
       "      <td>-0.923880</td>\n",
       "      <td>-0.382683</td>\n",
       "      <td>-0.923880</td>\n",
       "    </tr>\n",
       "    <tr>\n",
       "      <th>2009-01-01 04:00:00</th>\n",
       "      <td>-9.05</td>\n",
       "      <td>-0.500000</td>\n",
       "      <td>-0.866025</td>\n",
       "      <td>-0.500000</td>\n",
       "      <td>-0.866025</td>\n",
       "    </tr>\n",
       "    <tr>\n",
       "      <th>2009-01-01 05:00:00</th>\n",
       "      <td>-9.63</td>\n",
       "      <td>-0.608761</td>\n",
       "      <td>-0.793353</td>\n",
       "      <td>-0.608761</td>\n",
       "      <td>-0.793353</td>\n",
       "    </tr>\n",
       "    <tr>\n",
       "      <th>...</th>\n",
       "      <td>...</td>\n",
       "      <td>...</td>\n",
       "      <td>...</td>\n",
       "      <td>...</td>\n",
       "      <td>...</td>\n",
       "    </tr>\n",
       "    <tr>\n",
       "      <th>2016-12-31 19:10:00</th>\n",
       "      <td>-0.98</td>\n",
       "      <td>0.591310</td>\n",
       "      <td>-0.806445</td>\n",
       "      <td>0.591310</td>\n",
       "      <td>-0.806445</td>\n",
       "    </tr>\n",
       "    <tr>\n",
       "      <th>2016-12-31 20:10:00</th>\n",
       "      <td>-1.40</td>\n",
       "      <td>0.480989</td>\n",
       "      <td>-0.876727</td>\n",
       "      <td>0.480989</td>\n",
       "      <td>-0.876727</td>\n",
       "    </tr>\n",
       "    <tr>\n",
       "      <th>2016-12-31 21:10:00</th>\n",
       "      <td>-2.75</td>\n",
       "      <td>0.362438</td>\n",
       "      <td>-0.932008</td>\n",
       "      <td>0.362438</td>\n",
       "      <td>-0.932008</td>\n",
       "    </tr>\n",
       "    <tr>\n",
       "      <th>2016-12-31 22:10:00</th>\n",
       "      <td>-2.89</td>\n",
       "      <td>0.237686</td>\n",
       "      <td>-0.971342</td>\n",
       "      <td>0.237686</td>\n",
       "      <td>-0.971342</td>\n",
       "    </tr>\n",
       "    <tr>\n",
       "      <th>2016-12-31 23:10:00</th>\n",
       "      <td>-3.93</td>\n",
       "      <td>0.108867</td>\n",
       "      <td>-0.994056</td>\n",
       "      <td>0.108867</td>\n",
       "      <td>-0.994056</td>\n",
       "    </tr>\n",
       "  </tbody>\n",
       "</table>\n",
       "<p>70091 rows × 5 columns</p>\n",
       "</div>"
      ],
      "text/plain": [
       "                     Temperature   Day sin   Day cos  Year sin  Year cos\n",
       "Date Time                                                               \n",
       "2009-01-01 01:00:00        -8.05 -0.130526 -0.991445 -0.130526 -0.991445\n",
       "2009-01-01 02:00:00        -8.88 -0.258819 -0.965926 -0.258819 -0.965926\n",
       "2009-01-01 03:00:00        -8.81 -0.382683 -0.923880 -0.382683 -0.923880\n",
       "2009-01-01 04:00:00        -9.05 -0.500000 -0.866025 -0.500000 -0.866025\n",
       "2009-01-01 05:00:00        -9.63 -0.608761 -0.793353 -0.608761 -0.793353\n",
       "...                          ...       ...       ...       ...       ...\n",
       "2016-12-31 19:10:00        -0.98  0.591310 -0.806445  0.591310 -0.806445\n",
       "2016-12-31 20:10:00        -1.40  0.480989 -0.876727  0.480989 -0.876727\n",
       "2016-12-31 21:10:00        -2.75  0.362438 -0.932008  0.362438 -0.932008\n",
       "2016-12-31 22:10:00        -2.89  0.237686 -0.971342  0.237686 -0.971342\n",
       "2016-12-31 23:10:00        -3.93  0.108867 -0.994056  0.108867 -0.994056\n",
       "\n",
       "[70091 rows x 5 columns]"
      ]
     },
     "execution_count": 39,
     "metadata": {},
     "output_type": "execute_result"
    }
   ],
   "source": [
    "temp_df"
   ]
  },
  {
   "cell_type": "code",
   "execution_count": null,
   "id": "ff69ee4e",
   "metadata": {},
   "outputs": [],
   "source": [
    "# we dropping seconds couse they are irrelevant (we got colinearity with rest of columns)\n",
    "\n",
    "# temp_df = temp_df.drop('Seconds', axis=1)\n",
    "# temp_df.head(5)"
   ]
  },
  {
   "cell_type": "code",
   "execution_count": null,
   "id": "a54bf294",
   "metadata": {},
   "outputs": [],
   "source": [
    "# ds - day sin\n",
    "# dc - day cos\n",
    "# ys - year sin\n",
    "# yc - year cos\n",
    "# X=[[[t1, ds1, dc1], [t2, ds2], [t3, ds3], [t4, ds4], [t5, ds5]]]; Y=[t6]\n",
    "# X=[[[t2, ds2], [t3, ds3], [t4, ds4], [t5, ds5], [t6, ds6]]]; Y=[t7]\n",
    "# X=[[[t3, ds3], [t4, ds4], [t5, ds5], [t6, ds6], [t7, ds7]]]; Y=[t8]\n",
    "\n",
    "def df_to_X_y2(df, window_size=6):\n",
    "  \"\"\"\n",
    "  This function returns X array and y array \n",
    "\n",
    "  Parameters:\n",
    "    df (dataframe): our dataframe\n",
    "    window_size (int): this parameter decides how many last measurements we gonna take into consideration\n",
    "  \"\"\"\n",
    "  df_as_np =df.to_numpy()\n",
    "  X = []\n",
    "  y = []\n",
    "  for i in range(len(df_as_np)-window_size):\n",
    "    # we taking 5 values and put them in a list separately\n",
    "    row = [r for r in df_as_np[i:i+window_size]]\n",
    "    X.append(row)\n",
    "    # label is the next value after row\n",
    "    # adding [0] to append just the temp value\n",
    "    label = df_as_np[i+window_size][0]\n",
    "    y.append(label)\n",
    "  return np.array(X), np.array(y)\n"
   ]
  },
  {
   "cell_type": "code",
   "execution_count": null,
   "id": "97140c56",
   "metadata": {},
   "outputs": [
    {
     "data": {
      "text/plain": [
       "((70085, 6, 5), (70085,))"
      ]
     },
     "execution_count": 45,
     "metadata": {},
     "output_type": "execute_result"
    }
   ],
   "source": [
    "X2, y2 = df_to_X_y2(temp_df, window_size=6)\n",
    "X2.shape, y2.shape\n",
    "# X2 shape (num of samples, window_size-how many last measurements we taking into consideration, len of one vector - how many features we taking into consideration)"
   ]
  },
  {
   "cell_type": "code",
   "execution_count": null,
   "id": "00d4c717",
   "metadata": {},
   "outputs": [
    {
     "name": "stdout",
     "output_type": "stream",
     "text": [
      "(60000, 6, 5) (60000,)\n",
      "(5000, 6, 5) (5000,)\n",
      "(5085, 6, 5) (5085,)\n"
     ]
    }
   ],
   "source": [
    "# split to train validation\n",
    "X2_train, y2_train = X2[:60000], y2[:60000]\n",
    "X2_val, y2_val = X2[60000:65000], y2[60000:65000]\n",
    "X2_test, y2_test = X2[65000:], y2[65000:]\n",
    "\n",
    "print(X2_train.shape, y2_train.shape)\n",
    "print(X2_val.shape, y2_val.shape)\n",
    "print(X2_test.shape, y2_test.shape)"
   ]
  },
  {
   "cell_type": "code",
   "execution_count": null,
   "id": "96da47ce",
   "metadata": {},
   "outputs": [],
   "source": [
    "# we making standarization on data\n",
    "# in some strange way but thats how we do it on tensors ???\n",
    "\n",
    "#we countind mean and std based on 1 column - temp\n",
    "temp_training_mean = np.mean(X2_train[:, :, 0])\n",
    "temp_training_std = np.std(X2_train[:, :, 0])\n",
    "\n",
    "def preprocess(X):\n",
    "    X[:, :, 0] = (X[:, :, 0] - temp_training_mean) / temp_training_std\n",
    "    return X"
   ]
  },
  {
   "cell_type": "code",
   "execution_count": null,
   "id": "b13acf6a",
   "metadata": {},
   "outputs": [
    {
     "data": {
      "text/plain": [
       "array([[[ 1.04009706e+00, -6.08761429e-01,  7.93353340e-01,\n",
       "         -6.08761429e-01,  7.93353340e-01],\n",
       "        [ 9.90732794e-01, -5.00000000e-01,  8.66025404e-01,\n",
       "         -5.00000000e-01,  8.66025404e-01],\n",
       "        [ 8.49692028e-01, -3.82683432e-01,  9.23879533e-01,\n",
       "         -3.82683432e-01,  9.23879533e-01],\n",
       "        [ 7.55664851e-01, -2.58819045e-01,  9.65925826e-01,\n",
       "         -2.58819045e-01,  9.65925826e-01],\n",
       "        [ 6.66339032e-01, -1.30526192e-01,  9.91444861e-01,\n",
       "         -1.30526192e-01,  9.91444861e-01],\n",
       "        [ 5.37051663e-01, -3.58237185e-12,  1.00000000e+00,\n",
       "         -3.58237185e-12,  1.00000000e+00]],\n",
       "\n",
       "       [[ 9.90732794e-01, -5.00000000e-01,  8.66025404e-01,\n",
       "         -5.00000000e-01,  8.66025404e-01],\n",
       "        [ 8.49692028e-01, -3.82683432e-01,  9.23879533e-01,\n",
       "         -3.82683432e-01,  9.23879533e-01],\n",
       "        [ 7.55664851e-01, -2.58819045e-01,  9.65925826e-01,\n",
       "         -2.58819045e-01,  9.65925826e-01],\n",
       "        [ 6.66339032e-01, -1.30526192e-01,  9.91444861e-01,\n",
       "         -1.30526192e-01,  9.91444861e-01],\n",
       "        [ 5.37051663e-01, -3.58237185e-12,  1.00000000e+00,\n",
       "         -3.58237185e-12,  1.00000000e+00],\n",
       "        [ 4.74758658e-01,  1.30526192e-01,  9.91444861e-01,\n",
       "          1.30526192e-01,  9.91444861e-01]],\n",
       "\n",
       "       [[ 8.49692028e-01, -3.82683432e-01,  9.23879533e-01,\n",
       "         -3.82683432e-01,  9.23879533e-01],\n",
       "        [ 7.55664851e-01, -2.58819045e-01,  9.65925826e-01,\n",
       "         -2.58819045e-01,  9.65925826e-01],\n",
       "        [ 6.66339032e-01, -1.30526192e-01,  9.91444861e-01,\n",
       "         -1.30526192e-01,  9.91444861e-01],\n",
       "        [ 5.37051663e-01, -3.58237185e-12,  1.00000000e+00,\n",
       "         -3.58237185e-12,  1.00000000e+00],\n",
       "        [ 4.74758658e-01,  1.30526192e-01,  9.91444861e-01,\n",
       "          1.30526192e-01,  9.91444861e-01],\n",
       "        [ 4.12465653e-01,  2.58819045e-01,  9.65925826e-01,\n",
       "          2.58819045e-01,  9.65925826e-01]],\n",
       "\n",
       "       ...,\n",
       "\n",
       "       [[-5.23104762e-01,  9.15311479e-01, -4.02746690e-01,\n",
       "          9.15311479e-01, -4.02746690e-01],\n",
       "        [-8.20465711e-01,  8.54911871e-01, -5.18773258e-01,\n",
       "          8.54911871e-01, -5.18773258e-01],\n",
       "        [-9.55629779e-01,  7.79884483e-01, -6.25923472e-01,\n",
       "          7.79884483e-01, -6.25923472e-01],\n",
       "        [-1.15661287e+00,  6.91513056e-01, -7.22363962e-01,\n",
       "          6.91513056e-01, -7.22363962e-01],\n",
       "        [-1.22243189e+00,  5.91309648e-01, -8.06444604e-01,\n",
       "          5.91309648e-01, -8.06444604e-01],\n",
       "        [-1.27179616e+00,  4.80988769e-01, -8.76726756e-01,\n",
       "          4.80988769e-01, -8.76726756e-01]],\n",
       "\n",
       "       [[-8.20465711e-01,  8.54911871e-01, -5.18773258e-01,\n",
       "          8.54911871e-01, -5.18773258e-01],\n",
       "        [-9.55629779e-01,  7.79884483e-01, -6.25923472e-01,\n",
       "          7.79884483e-01, -6.25923472e-01],\n",
       "        [-1.15661287e+00,  6.91513056e-01, -7.22363962e-01,\n",
       "          6.91513056e-01, -7.22363962e-01],\n",
       "        [-1.22243189e+00,  5.91309648e-01, -8.06444604e-01,\n",
       "          5.91309648e-01, -8.06444604e-01],\n",
       "        [-1.27179616e+00,  4.80988769e-01, -8.76726756e-01,\n",
       "          4.80988769e-01, -8.76726756e-01],\n",
       "        [-1.43046702e+00,  3.62438038e-01, -9.32007869e-01,\n",
       "          3.62438038e-01, -9.32007869e-01]],\n",
       "\n",
       "       [[-9.55629779e-01,  7.79884483e-01, -6.25923472e-01,\n",
       "          7.79884483e-01, -6.25923472e-01],\n",
       "        [-1.15661287e+00,  6.91513056e-01, -7.22363962e-01,\n",
       "          6.91513056e-01, -7.22363962e-01],\n",
       "        [-1.22243189e+00,  5.91309648e-01, -8.06444604e-01,\n",
       "          5.91309648e-01, -8.06444604e-01],\n",
       "        [-1.27179616e+00,  4.80988769e-01, -8.76726756e-01,\n",
       "          4.80988769e-01, -8.76726756e-01],\n",
       "        [-1.43046702e+00,  3.62438038e-01, -9.32007869e-01,\n",
       "          3.62438038e-01, -9.32007869e-01],\n",
       "        [-1.44692178e+00,  2.37685892e-01, -9.71342070e-01,\n",
       "          2.37685892e-01, -9.71342070e-01]]])"
      ]
     },
     "execution_count": 52,
     "metadata": {},
     "output_type": "execute_result"
    }
   ],
   "source": [
    "preprocess(X2_train)\n",
    "preprocess(X2_val)\n",
    "preprocess(X2_test)"
   ]
  },
  {
   "cell_type": "code",
   "execution_count": null,
   "id": "5ff19e0d",
   "metadata": {},
   "outputs": [
    {
     "name": "stdout",
     "output_type": "stream",
     "text": [
      "Model: \"sequential_3\"\n",
      "_________________________________________________________________\n",
      "Layer (type)                 Output Shape              Param #   \n",
      "=================================================================\n",
      "lstm_1 (LSTM)                (None, 64)                17920     \n",
      "_________________________________________________________________\n",
      "dense_6 (Dense)              (None, 8)                 520       \n",
      "_________________________________________________________________\n",
      "dense_7 (Dense)              (None, 1)                 9         \n",
      "=================================================================\n",
      "Total params: 18,449\n",
      "Trainable params: 18,449\n",
      "Non-trainable params: 0\n",
      "_________________________________________________________________\n"
     ]
    }
   ],
   "source": [
    "model4 = Sequential()\n",
    "# we specify 6 by 5 vector as an input\n",
    "# we got 6 time steps and 5 features of interest\n",
    "model4.add(InputLayer((6, 5)))\n",
    "# we pass it to neural network (we can use GRU as well)\n",
    "model4.add(LSTM(64))\n",
    "model4.add(Dense(8, 'relu'))\n",
    "# we want linear value, we want to predict temp (positive or negative) so we want it to be linear\n",
    "model4.add(Dense(1, 'linear'))\n",
    "\n",
    "model4.summary()"
   ]
  },
  {
   "cell_type": "code",
   "execution_count": null,
   "id": "04a9aefb",
   "metadata": {},
   "outputs": [],
   "source": [
    "cp4 = ModelCheckpoint('model4/', save_best_only=True)\n",
    "model4.compile(loss=MeanSquaredError(), optimizer=Adam(learning_rate=0.0001), metrics=[RootMeanSquaredError()])"
   ]
  },
  {
   "cell_type": "code",
   "execution_count": null,
   "id": "375fbbf2",
   "metadata": {},
   "outputs": [
    {
     "name": "stdout",
     "output_type": "stream",
     "text": [
      "Epoch 1/10\n",
      "1875/1875 [==============================] - 4s 2ms/step - loss: 47.1535 - root_mean_squared_error: 6.8668 - val_loss: 4.9862 - val_root_mean_squared_error: 2.2330\n"
     ]
    },
    {
     "name": "stderr",
     "output_type": "stream",
     "text": [
      "WARNING:absl:Found untraced functions such as lstm_cell_2_layer_call_fn, lstm_cell_2_layer_call_and_return_conditional_losses, lstm_cell_2_layer_call_fn, lstm_cell_2_layer_call_and_return_conditional_losses, lstm_cell_2_layer_call_and_return_conditional_losses while saving (showing 5 of 5). These functions will not be directly callable after loading.\n"
     ]
    },
    {
     "name": "stdout",
     "output_type": "stream",
     "text": [
      "INFO:tensorflow:Assets written to: model4\\assets\n"
     ]
    },
    {
     "name": "stderr",
     "output_type": "stream",
     "text": [
      "INFO:tensorflow:Assets written to: model4\\assets\n"
     ]
    },
    {
     "name": "stdout",
     "output_type": "stream",
     "text": [
      "Epoch 2/10\n",
      "1875/1875 [==============================] - 3s 2ms/step - loss: 5.5054 - root_mean_squared_error: 2.3464 - val_loss: 2.3778 - val_root_mean_squared_error: 1.5420\n"
     ]
    },
    {
     "name": "stderr",
     "output_type": "stream",
     "text": [
      "WARNING:absl:Found untraced functions such as lstm_cell_2_layer_call_fn, lstm_cell_2_layer_call_and_return_conditional_losses, lstm_cell_2_layer_call_fn, lstm_cell_2_layer_call_and_return_conditional_losses, lstm_cell_2_layer_call_and_return_conditional_losses while saving (showing 5 of 5). These functions will not be directly callable after loading.\n"
     ]
    },
    {
     "name": "stdout",
     "output_type": "stream",
     "text": [
      "INFO:tensorflow:Assets written to: model4\\assets\n"
     ]
    },
    {
     "name": "stderr",
     "output_type": "stream",
     "text": [
      "INFO:tensorflow:Assets written to: model4\\assets\n"
     ]
    },
    {
     "name": "stdout",
     "output_type": "stream",
     "text": [
      "Epoch 3/10\n",
      "1875/1875 [==============================] - 3s 2ms/step - loss: 2.2340 - root_mean_squared_error: 1.4947 - val_loss: 1.1465 - val_root_mean_squared_error: 1.0708\n"
     ]
    },
    {
     "name": "stderr",
     "output_type": "stream",
     "text": [
      "WARNING:absl:Found untraced functions such as lstm_cell_2_layer_call_fn, lstm_cell_2_layer_call_and_return_conditional_losses, lstm_cell_2_layer_call_fn, lstm_cell_2_layer_call_and_return_conditional_losses, lstm_cell_2_layer_call_and_return_conditional_losses while saving (showing 5 of 5). These functions will not be directly callable after loading.\n"
     ]
    },
    {
     "name": "stdout",
     "output_type": "stream",
     "text": [
      "INFO:tensorflow:Assets written to: model4\\assets\n"
     ]
    },
    {
     "name": "stderr",
     "output_type": "stream",
     "text": [
      "INFO:tensorflow:Assets written to: model4\\assets\n"
     ]
    },
    {
     "name": "stdout",
     "output_type": "stream",
     "text": [
      "Epoch 4/10\n",
      "1875/1875 [==============================] - 3s 2ms/step - loss: 1.2014 - root_mean_squared_error: 1.0961 - val_loss: 0.7950 - val_root_mean_squared_error: 0.8916\n"
     ]
    },
    {
     "name": "stderr",
     "output_type": "stream",
     "text": [
      "WARNING:absl:Found untraced functions such as lstm_cell_2_layer_call_fn, lstm_cell_2_layer_call_and_return_conditional_losses, lstm_cell_2_layer_call_fn, lstm_cell_2_layer_call_and_return_conditional_losses, lstm_cell_2_layer_call_and_return_conditional_losses while saving (showing 5 of 5). These functions will not be directly callable after loading.\n"
     ]
    },
    {
     "name": "stdout",
     "output_type": "stream",
     "text": [
      "INFO:tensorflow:Assets written to: model4\\assets\n"
     ]
    },
    {
     "name": "stderr",
     "output_type": "stream",
     "text": [
      "INFO:tensorflow:Assets written to: model4\\assets\n"
     ]
    },
    {
     "name": "stdout",
     "output_type": "stream",
     "text": [
      "Epoch 5/10\n",
      "1875/1875 [==============================] - 3s 2ms/step - loss: 0.8640 - root_mean_squared_error: 0.9295 - val_loss: 0.6016 - val_root_mean_squared_error: 0.7756\n"
     ]
    },
    {
     "name": "stderr",
     "output_type": "stream",
     "text": [
      "WARNING:absl:Found untraced functions such as lstm_cell_2_layer_call_fn, lstm_cell_2_layer_call_and_return_conditional_losses, lstm_cell_2_layer_call_fn, lstm_cell_2_layer_call_and_return_conditional_losses, lstm_cell_2_layer_call_and_return_conditional_losses while saving (showing 5 of 5). These functions will not be directly callable after loading.\n"
     ]
    },
    {
     "name": "stdout",
     "output_type": "stream",
     "text": [
      "INFO:tensorflow:Assets written to: model4\\assets\n"
     ]
    },
    {
     "name": "stderr",
     "output_type": "stream",
     "text": [
      "INFO:tensorflow:Assets written to: model4\\assets\n"
     ]
    },
    {
     "name": "stdout",
     "output_type": "stream",
     "text": [
      "Epoch 6/10\n",
      "1875/1875 [==============================] - 3s 2ms/step - loss: 0.6933 - root_mean_squared_error: 0.8326 - val_loss: 0.5057 - val_root_mean_squared_error: 0.7112\n"
     ]
    },
    {
     "name": "stderr",
     "output_type": "stream",
     "text": [
      "WARNING:absl:Found untraced functions such as lstm_cell_2_layer_call_fn, lstm_cell_2_layer_call_and_return_conditional_losses, lstm_cell_2_layer_call_fn, lstm_cell_2_layer_call_and_return_conditional_losses, lstm_cell_2_layer_call_and_return_conditional_losses while saving (showing 5 of 5). These functions will not be directly callable after loading.\n"
     ]
    },
    {
     "name": "stdout",
     "output_type": "stream",
     "text": [
      "INFO:tensorflow:Assets written to: model4\\assets\n"
     ]
    },
    {
     "name": "stderr",
     "output_type": "stream",
     "text": [
      "INFO:tensorflow:Assets written to: model4\\assets\n"
     ]
    },
    {
     "name": "stdout",
     "output_type": "stream",
     "text": [
      "Epoch 7/10\n",
      "1875/1875 [==============================] - 3s 2ms/step - loss: 0.6112 - root_mean_squared_error: 0.7818 - val_loss: 0.4681 - val_root_mean_squared_error: 0.6842\n"
     ]
    },
    {
     "name": "stderr",
     "output_type": "stream",
     "text": [
      "WARNING:absl:Found untraced functions such as lstm_cell_2_layer_call_fn, lstm_cell_2_layer_call_and_return_conditional_losses, lstm_cell_2_layer_call_fn, lstm_cell_2_layer_call_and_return_conditional_losses, lstm_cell_2_layer_call_and_return_conditional_losses while saving (showing 5 of 5). These functions will not be directly callable after loading.\n"
     ]
    },
    {
     "name": "stdout",
     "output_type": "stream",
     "text": [
      "INFO:tensorflow:Assets written to: model4\\assets\n"
     ]
    },
    {
     "name": "stderr",
     "output_type": "stream",
     "text": [
      "INFO:tensorflow:Assets written to: model4\\assets\n"
     ]
    },
    {
     "name": "stdout",
     "output_type": "stream",
     "text": [
      "Epoch 8/10\n",
      "1875/1875 [==============================] - 3s 2ms/step - loss: 0.5823 - root_mean_squared_error: 0.7631 - val_loss: 0.4553 - val_root_mean_squared_error: 0.6748\n"
     ]
    },
    {
     "name": "stderr",
     "output_type": "stream",
     "text": [
      "WARNING:absl:Found untraced functions such as lstm_cell_2_layer_call_fn, lstm_cell_2_layer_call_and_return_conditional_losses, lstm_cell_2_layer_call_fn, lstm_cell_2_layer_call_and_return_conditional_losses, lstm_cell_2_layer_call_and_return_conditional_losses while saving (showing 5 of 5). These functions will not be directly callable after loading.\n"
     ]
    },
    {
     "name": "stdout",
     "output_type": "stream",
     "text": [
      "INFO:tensorflow:Assets written to: model4\\assets\n"
     ]
    },
    {
     "name": "stderr",
     "output_type": "stream",
     "text": [
      "INFO:tensorflow:Assets written to: model4\\assets\n"
     ]
    },
    {
     "name": "stdout",
     "output_type": "stream",
     "text": [
      "Epoch 9/10\n",
      "1875/1875 [==============================] - 3s 2ms/step - loss: 0.5700 - root_mean_squared_error: 0.7550 - val_loss: 0.4542 - val_root_mean_squared_error: 0.6740\n"
     ]
    },
    {
     "name": "stderr",
     "output_type": "stream",
     "text": [
      "WARNING:absl:Found untraced functions such as lstm_cell_2_layer_call_fn, lstm_cell_2_layer_call_and_return_conditional_losses, lstm_cell_2_layer_call_fn, lstm_cell_2_layer_call_and_return_conditional_losses, lstm_cell_2_layer_call_and_return_conditional_losses while saving (showing 5 of 5). These functions will not be directly callable after loading.\n"
     ]
    },
    {
     "name": "stdout",
     "output_type": "stream",
     "text": [
      "INFO:tensorflow:Assets written to: model4\\assets\n"
     ]
    },
    {
     "name": "stderr",
     "output_type": "stream",
     "text": [
      "INFO:tensorflow:Assets written to: model4\\assets\n"
     ]
    },
    {
     "name": "stdout",
     "output_type": "stream",
     "text": [
      "Epoch 10/10\n",
      "1875/1875 [==============================] - 3s 2ms/step - loss: 0.5667 - root_mean_squared_error: 0.7528 - val_loss: 0.4547 - val_root_mean_squared_error: 0.6743\n"
     ]
    },
    {
     "data": {
      "text/plain": [
       "<keras.callbacks.History at 0x1480b15d3c8>"
      ]
     },
     "execution_count": 55,
     "metadata": {},
     "output_type": "execute_result"
    }
   ],
   "source": [
    "# each epoch should decrease the loss, we can tune learning_rate to increase the the performance\n",
    "model4.fit(X2_train, y2_train, validation_data=(X2_val, y2_val), epochs=10, callbacks=[cp4])"
   ]
  },
  {
   "cell_type": "code",
   "execution_count": null,
   "id": "e337e040",
   "metadata": {},
   "outputs": [
    {
     "data": {
      "text/plain": [
       "[<matplotlib.lines.Line2D at 0x14837b47be0>]"
      ]
     },
     "execution_count": 56,
     "metadata": {},
     "output_type": "execute_result"
    },
    {
     "data": {
      "image/png": "[encoded data removed]",
      "text/plain": [
       "<Figure size 432x288 with 1 Axes>"
      ]
     },
     "metadata": {
      "needs_background": "light"
     },
     "output_type": "display_data"
    }
   ],
   "source": [
    "# the same thing for test data\n",
    "# we flatten becouse we dont want to have the X=[[[3], [4], [5], [6], [7]]] -> X=[[3, 4, 5, 6, 7]] inner brackets\n",
    "test_predictions = model4.predict(X2_test).flatten()\n",
    "# we make a dataframe from results put in dict, and show it below\n",
    "test_results = pd.DataFrame(data={'Test Predictions':test_predictions, 'Actuals':y2_test})\n",
    "test_results\n",
    "\n",
    "plt.plot(test_results['Test Predictions'][:30])\n",
    "plt.plot(test_results['Actuals'][:35])"
   ]
  },
  {
   "cell_type": "markdown",
   "id": "45b9a9de",
   "metadata": {},
   "source": [
    "## MULTIVARIATE TIME SERIES AND OUTPUT"
   ]
  },
  {
   "cell_type": "code",
   "execution_count": null,
   "id": "8fdd5785",
   "metadata": {},
   "outputs": [
    {
     "data": {
      "text/html": [
       "<div>\n",
       "<style scoped>\n",
       "    .dataframe tbody tr th:only-of-type {\n",
       "        vertical-align: middle;\n",
       "    }\n",
       "\n",
       "    .dataframe tbody tr th {\n",
       "        vertical-align: top;\n",
       "    }\n",
       "\n",
       "    .dataframe thead th {\n",
       "        text-align: right;\n",
       "    }\n",
       "</style>\n",
       "<table border=\"1\" class=\"dataframe\">\n",
       "  <thead>\n",
       "    <tr style=\"text-align: right;\">\n",
       "      <th></th>\n",
       "      <th>p (mbar)</th>\n",
       "      <th>Temperature</th>\n",
       "      <th>Day sin</th>\n",
       "      <th>Day cos</th>\n",
       "      <th>Year sin</th>\n",
       "      <th>Year cos</th>\n",
       "    </tr>\n",
       "    <tr>\n",
       "      <th>Date Time</th>\n",
       "      <th></th>\n",
       "      <th></th>\n",
       "      <th></th>\n",
       "      <th></th>\n",
       "      <th></th>\n",
       "      <th></th>\n",
       "    </tr>\n",
       "  </thead>\n",
       "  <tbody>\n",
       "    <tr>\n",
       "      <th>2009-01-01 01:00:00</th>\n",
       "      <td>996.50</td>\n",
       "      <td>-8.05</td>\n",
       "      <td>-0.130526</td>\n",
       "      <td>-0.991445</td>\n",
       "      <td>-0.130526</td>\n",
       "      <td>-0.991445</td>\n",
       "    </tr>\n",
       "    <tr>\n",
       "      <th>2009-01-01 02:00:00</th>\n",
       "      <td>996.62</td>\n",
       "      <td>-8.88</td>\n",
       "      <td>-0.258819</td>\n",
       "      <td>-0.965926</td>\n",
       "      <td>-0.258819</td>\n",
       "      <td>-0.965926</td>\n",
       "    </tr>\n",
       "    <tr>\n",
       "      <th>2009-01-01 03:00:00</th>\n",
       "      <td>996.84</td>\n",
       "      <td>-8.81</td>\n",
       "      <td>-0.382683</td>\n",
       "      <td>-0.923880</td>\n",
       "      <td>-0.382683</td>\n",
       "      <td>-0.923880</td>\n",
       "    </tr>\n",
       "    <tr>\n",
       "      <th>2009-01-01 04:00:00</th>\n",
       "      <td>996.99</td>\n",
       "      <td>-9.05</td>\n",
       "      <td>-0.500000</td>\n",
       "      <td>-0.866025</td>\n",
       "      <td>-0.500000</td>\n",
       "      <td>-0.866025</td>\n",
       "    </tr>\n",
       "    <tr>\n",
       "      <th>2009-01-01 05:00:00</th>\n",
       "      <td>997.46</td>\n",
       "      <td>-9.63</td>\n",
       "      <td>-0.608761</td>\n",
       "      <td>-0.793353</td>\n",
       "      <td>-0.608761</td>\n",
       "      <td>-0.793353</td>\n",
       "    </tr>\n",
       "  </tbody>\n",
       "</table>\n",
       "</div>"
      ],
      "text/plain": [
       "                     p (mbar)  Temperature   Day sin   Day cos  Year sin  \\\n",
       "Date Time                                                                  \n",
       "2009-01-01 01:00:00    996.50        -8.05 -0.130526 -0.991445 -0.130526   \n",
       "2009-01-01 02:00:00    996.62        -8.88 -0.258819 -0.965926 -0.258819   \n",
       "2009-01-01 03:00:00    996.84        -8.81 -0.382683 -0.923880 -0.382683   \n",
       "2009-01-01 04:00:00    996.99        -9.05 -0.500000 -0.866025 -0.500000   \n",
       "2009-01-01 05:00:00    997.46        -9.63 -0.608761 -0.793353 -0.608761   \n",
       "\n",
       "                     Year cos  \n",
       "Date Time                      \n",
       "2009-01-01 01:00:00 -0.991445  \n",
       "2009-01-01 02:00:00 -0.965926  \n",
       "2009-01-01 03:00:00 -0.923880  \n",
       "2009-01-01 04:00:00 -0.866025  \n",
       "2009-01-01 05:00:00 -0.793353  "
      ]
     },
     "execution_count": 58,
     "metadata": {},
     "output_type": "execute_result"
    }
   ],
   "source": [
    "p_temp_df = pd.concat([df['p (mbar)'], temp_df], axis=1)\n",
    "p_temp_df.head()"
   ]
  },
  {
   "cell_type": "code",
   "execution_count": null,
   "id": "ed5b0d05",
   "metadata": {},
   "outputs": [],
   "source": [
    "# ds - day sin\n",
    "# dc - day cos\n",
    "# ys - year sin\n",
    "# yc - year cos\n",
    "# X=[[[t1, ds1, dc1], [t2, ds2], [t3, ds3], [t4, ds4], [t5, ds5]]]; Y=[t6]\n",
    "# X=[[[t2, ds2], [t3, ds3], [t4, ds4], [t5, ds5], [t6, ds6]]]; Y=[t7]\n",
    "# X=[[[t3, ds3], [t4, ds4], [t5, ds5], [t6, ds6], [t7, ds7]]]; Y=[t8]\n",
    "\n",
    "def df_to_X_y3(df, window_size=7):\n",
    "  \"\"\"\n",
    "  This function returns X array and y array \n",
    "\n",
    "  Parameters:\n",
    "    df (dataframe): our dataframe\n",
    "    window_size (int): this parameter decides how many last measurements we gonna take into consideration\n",
    "  \"\"\"\n",
    "  df_as_np =df.to_numpy()\n",
    "  X = []\n",
    "  y = []\n",
    "  for i in range(len(df_as_np)-window_size):\n",
    "    row = [r for r in df_as_np[i:i+window_size]]\n",
    "    X.append(row)\n",
    "    # label is the next value after row\n",
    "    # adding [0] to append just the temp value and now we add as well second param \n",
    "    label = [df_as_np[i+window_size][0], df_as_np[i+window_size][1]]\n",
    "    y.append(label)\n",
    "  return np.array(X), np.array(y)"
   ]
  },
  {
   "cell_type": "code",
   "execution_count": null,
   "id": "8ff6fef9",
   "metadata": {},
   "outputs": [
    {
     "data": {
      "text/plain": [
       "((70084, 7, 6), (70084, 2))"
      ]
     },
     "execution_count": 63,
     "metadata": {},
     "output_type": "execute_result"
    }
   ],
   "source": [
    "X3, y3 = df_to_X_y3(p_temp_df)\n",
    "X3.shape, y3.shape"
   ]
  },
  {
   "cell_type": "code",
   "execution_count": null,
   "id": "63f68b90",
   "metadata": {},
   "outputs": [
    {
     "data": {
      "text/plain": [
       "((60000, 7, 6), (60000, 2), (5000, 7, 6), (5000, 2), (5084, 7, 6), (5084, 2))"
      ]
     },
     "execution_count": 64,
     "metadata": {},
     "output_type": "execute_result"
    }
   ],
   "source": [
    "X3_train, y3_train = X3[:60000], y3[:60000]\n",
    "X3_val, y3_val = X3[60000:65000], y3[60000:65000]\n",
    "X3_test, y3_test = X3[65000:], y3[65000:]\n",
    "X3_train.shape, y3_train.shape, X3_val.shape, y3_val.shape, X3_test.shape, y3_test.shape"
   ]
  },
  {
   "cell_type": "code",
   "execution_count": null,
   "id": "8e864854",
   "metadata": {},
   "outputs": [],
   "source": [
    "# now we need to std also a output due to different value range of them - to get the loss function work properly\n",
    "\n",
    "# [0] becaouse we taking first column\n",
    "p_training_mean3 = np.mean(X3_train[:, :, 0])\n",
    "p_training_std3 = np.std(X3_train[:, :, 0])\n",
    "\n",
    "# [1] because we taking second column\n",
    "temp_training_mean3 = np.mean(X3_train[:, :, 1])\n",
    "temp_training_std3 = np.std(X3_train[:, :, 1])\n",
    "\n",
    "def preprocess3(X):\n",
    "    X[:, :, 0] = (X[:, :, 0] - p_training_mean3) / p_training_std3\n",
    "    X[:, :, 1] = (X[:, :, 1] - temp_training_mean3) / temp_training_std3\n",
    "    return X\n",
    "\n",
    "def preprocess_output3(y):\n",
    "  y[:, 0] = (y[:, 0] - p_training_mean3) / p_training_std3\n",
    "  y[:, 1] = (y[:, 1] - temp_training_mean3) / temp_training_std3\n",
    "  return y"
   ]
  },
  {
   "cell_type": "code",
   "execution_count": null,
   "id": "e879c8a9",
   "metadata": {},
   "outputs": [
    {
     "data": {
      "text/plain": [
       "array([[[-1.07355644e+00,  1.04009390e+00, -6.08761429e-01,\n",
       "          7.93353340e-01, -6.08761429e-01,  7.93353340e-01],\n",
       "        [-1.00807435e+00,  9.90728707e-01, -5.00000000e-01,\n",
       "          8.66025404e-01, -5.00000000e-01,  8.66025404e-01],\n",
       "        [-9.51080673e-01,  8.49685305e-01, -3.82683432e-01,\n",
       "          9.23879533e-01, -3.82683432e-01,  9.23879533e-01],\n",
       "        ...,\n",
       "        [-8.80748054e-01,  6.66328883e-01, -1.30526192e-01,\n",
       "          9.91444861e-01, -1.30526192e-01,  9.91444861e-01],\n",
       "        [-8.29817537e-01,  5.37039098e-01, -3.58237185e-12,\n",
       "          1.00000000e+00, -3.58237185e-12,  1.00000000e+00],\n",
       "        [-8.01927015e-01,  4.74744929e-01,  1.30526192e-01,\n",
       "          9.91444861e-01,  1.30526192e-01,  9.91444861e-01]],\n",
       "\n",
       "       [[-1.00807435e+00,  9.90728707e-01, -5.00000000e-01,\n",
       "          8.66025404e-01, -5.00000000e-01,  8.66025404e-01],\n",
       "        [-9.51080673e-01,  8.49685305e-01, -3.82683432e-01,\n",
       "          9.23879533e-01, -3.82683432e-01,  9.23879533e-01],\n",
       "        [-9.14701732e-01,  7.55656370e-01, -2.58819045e-01,\n",
       "          9.65925826e-01, -2.58819045e-01,  9.65925826e-01],\n",
       "        ...,\n",
       "        [-8.29817537e-01,  5.37039098e-01, -3.58237185e-12,\n",
       "          1.00000000e+00, -3.58237185e-12,  1.00000000e+00],\n",
       "        [-8.01927015e-01,  4.74744929e-01,  1.30526192e-01,\n",
       "          9.91444861e-01,  1.30526192e-01,  9.91444861e-01],\n",
       "        [-7.93438596e-01,  4.12450760e-01,  2.58819045e-01,\n",
       "          9.65925826e-01,  2.58819045e-01,  9.65925826e-01]],\n",
       "\n",
       "       [[-9.51080673e-01,  8.49685305e-01, -3.82683432e-01,\n",
       "          9.23879533e-01, -3.82683432e-01,  9.23879533e-01],\n",
       "        [-9.14701732e-01,  7.55656370e-01, -2.58819045e-01,\n",
       "          9.65925826e-01, -2.58819045e-01,  9.65925826e-01],\n",
       "        [-8.80748054e-01,  6.66328883e-01, -1.30526192e-01,\n",
       "          9.91444861e-01, -1.30526192e-01,  9.91444861e-01],\n",
       "        ...,\n",
       "        [-8.01927015e-01,  4.74744929e-01,  1.30526192e-01,\n",
       "          9.91444861e-01,  1.30526192e-01,  9.91444861e-01],\n",
       "        [-7.93438596e-01,  4.12450760e-01,  2.58819045e-01,\n",
       "          9.65925826e-01,  2.58819045e-01,  9.65925826e-01],\n",
       "        [-7.63122812e-01,  3.53682676e-01,  3.82683432e-01,\n",
       "          9.23879533e-01,  3.82683432e-01,  9.23879533e-01]],\n",
       "\n",
       "       ...,\n",
       "\n",
       "       [[ 1.73125990e+00, -6.19516796e-01,  9.60049854e-01,\n",
       "         -2.79829014e-01,  9.60049854e-01, -2.79829014e-01],\n",
       "        [ 1.71185780e+00, -5.23137138e-01,  9.15311479e-01,\n",
       "         -4.02746690e-01,  9.15311479e-01, -4.02746690e-01],\n",
       "        [ 1.64516307e+00, -8.20503643e-01,  8.54911871e-01,\n",
       "         -5.18773258e-01,  8.54911871e-01, -5.18773258e-01],\n",
       "        ...,\n",
       "        [ 1.61242203e+00, -1.15665708e+00,  6.91513056e-01,\n",
       "         -7.22363962e-01,  6.91513056e-01, -7.22363962e-01],\n",
       "        [ 1.60150834e+00, -1.22247734e+00,  5.91309648e-01,\n",
       "         -8.06444604e-01,  5.91309648e-01, -8.06444604e-01],\n",
       "        [ 1.50692310e+00, -1.27184253e+00,  4.80988769e-01,\n",
       "         -8.76726756e-01,  4.80988769e-01, -8.76726756e-01]],\n",
       "\n",
       "       [[ 1.71185780e+00, -5.23137138e-01,  9.15311479e-01,\n",
       "         -4.02746690e-01,  9.15311479e-01, -4.02746690e-01],\n",
       "        [ 1.64516307e+00, -8.20503643e-01,  8.54911871e-01,\n",
       "         -5.18773258e-01,  8.54911871e-01, -5.18773258e-01],\n",
       "        [ 1.63182413e+00, -9.55670237e-01,  7.79884483e-01,\n",
       "         -6.25923472e-01,  7.79884483e-01, -6.25923472e-01],\n",
       "        ...,\n",
       "        [ 1.60150834e+00, -1.22247734e+00,  5.91309648e-01,\n",
       "         -8.06444604e-01,  5.91309648e-01, -8.06444604e-01],\n",
       "        [ 1.50692310e+00, -1.27184253e+00,  4.80988769e-01,\n",
       "         -8.76726756e-01,  4.80988769e-01, -8.76726756e-01],\n",
       "        [ 1.48145784e+00, -1.43051636e+00,  3.62438038e-01,\n",
       "         -9.32007869e-01,  3.62438038e-01, -9.32007869e-01]],\n",
       "\n",
       "       [[ 1.64516307e+00, -8.20503643e-01,  8.54911871e-01,\n",
       "         -5.18773258e-01,  8.54911871e-01, -5.18773258e-01],\n",
       "        [ 1.63182413e+00, -9.55670237e-01,  7.79884483e-01,\n",
       "         -6.25923472e-01,  7.79884483e-01, -6.25923472e-01],\n",
       "        [ 1.61242203e+00, -1.15665708e+00,  6.91513056e-01,\n",
       "         -7.22363962e-01,  6.91513056e-01, -7.22363962e-01],\n",
       "        ...,\n",
       "        [ 1.50692310e+00, -1.27184253e+00,  4.80988769e-01,\n",
       "         -8.76726756e-01,  4.80988769e-01, -8.76726756e-01],\n",
       "        [ 1.48145784e+00, -1.43051636e+00,  3.62438038e-01,\n",
       "         -9.32007869e-01,  3.62438038e-01, -9.32007869e-01],\n",
       "        [ 1.41597574e+00, -1.44697142e+00,  2.37685892e-01,\n",
       "         -9.71342070e-01,  2.37685892e-01, -9.71342070e-01]]])"
      ]
     },
     "execution_count": 66,
     "metadata": {},
     "output_type": "execute_result"
    }
   ],
   "source": [
    "preprocess3(X3_train)\n",
    "preprocess3(X3_val)\n",
    "preprocess3(X3_test)"
   ]
  },
  {
   "cell_type": "code",
   "execution_count": null,
   "id": "326f0c8c",
   "metadata": {},
   "outputs": [
    {
     "data": {
      "text/plain": [
       "array([[-0.7934386 ,  0.41245076],\n",
       "       [-0.76312281,  0.35368268],\n",
       "       [-0.72189335,  0.32312327],\n",
       "       ...,\n",
       "       [ 1.48145784, -1.43051636],\n",
       "       [ 1.41597574, -1.44697142],\n",
       "       [ 1.35049365, -1.56920903]])"
      ]
     },
     "execution_count": 67,
     "metadata": {},
     "output_type": "execute_result"
    }
   ],
   "source": [
    "preprocess_output3(y3_train)\n",
    "preprocess_output3(y3_val)\n",
    "preprocess_output3(y3_test)"
   ]
  },
  {
   "cell_type": "code",
   "execution_count": null,
   "id": "296269b3",
   "metadata": {},
   "outputs": [
    {
     "name": "stdout",
     "output_type": "stream",
     "text": [
      "Model: \"sequential_4\"\n",
      "_________________________________________________________________\n",
      "Layer (type)                 Output Shape              Param #   \n",
      "=================================================================\n",
      "lstm_2 (LSTM)                (None, 64)                18176     \n",
      "_________________________________________________________________\n",
      "dense_8 (Dense)              (None, 8)                 520       \n",
      "_________________________________________________________________\n",
      "dense_9 (Dense)              (None, 2)                 18        \n",
      "=================================================================\n",
      "Total params: 18,714\n",
      "Trainable params: 18,714\n",
      "Non-trainable params: 0\n",
      "_________________________________________________________________\n"
     ]
    }
   ],
   "source": [
    "model5 = Sequential()\n",
    "# input layer first int should be the same as window size\n",
    "model5.add(InputLayer((7, 6)))\n",
    "model5.add(LSTM(64))\n",
    "model5.add(Dense(8, 'relu'))\n",
    "# now we got 2 here, due to having 2 params: pressure and temp\n",
    "model5.add(Dense(2, 'linear'))\n",
    "\n",
    "model5.summary()"
   ]
  },
  {
   "cell_type": "code",
   "execution_count": null,
   "id": "9c80fcbf",
   "metadata": {},
   "outputs": [],
   "source": [
    "cp5 = ModelCheckpoint('model5/', save_best_only=True)\n",
    "model5.compile(loss=MeanSquaredError(), optimizer=Adam(learning_rate=0.0001), metrics=[RootMeanSquaredError()])"
   ]
  },
  {
   "cell_type": "code",
   "execution_count": null,
   "id": "43604568",
   "metadata": {},
   "outputs": [
    {
     "name": "stdout",
     "output_type": "stream",
     "text": [
      "Epoch 1/10\n",
      "1875/1875 [==============================] - 4s 2ms/step - loss: 0.1557 - root_mean_squared_error: 0.3945 - val_loss: 0.0342 - val_root_mean_squared_error: 0.1851\n"
     ]
    },
    {
     "name": "stderr",
     "output_type": "stream",
     "text": [
      "WARNING:absl:Found untraced functions such as lstm_cell_3_layer_call_fn, lstm_cell_3_layer_call_and_return_conditional_losses, lstm_cell_3_layer_call_fn, lstm_cell_3_layer_call_and_return_conditional_losses, lstm_cell_3_layer_call_and_return_conditional_losses while saving (showing 5 of 5). These functions will not be directly callable after loading.\n"
     ]
    },
    {
     "name": "stdout",
     "output_type": "stream",
     "text": [
      "INFO:tensorflow:Assets written to: model5\\assets\n"
     ]
    },
    {
     "name": "stderr",
     "output_type": "stream",
     "text": [
      "INFO:tensorflow:Assets written to: model5\\assets\n"
     ]
    },
    {
     "name": "stdout",
     "output_type": "stream",
     "text": [
      "Epoch 2/10\n",
      "1875/1875 [==============================] - 4s 2ms/step - loss: 0.0267 - root_mean_squared_error: 0.1633 - val_loss: 0.0182 - val_root_mean_squared_error: 0.1350\n"
     ]
    },
    {
     "name": "stderr",
     "output_type": "stream",
     "text": [
      "WARNING:absl:Found untraced functions such as lstm_cell_3_layer_call_fn, lstm_cell_3_layer_call_and_return_conditional_losses, lstm_cell_3_layer_call_fn, lstm_cell_3_layer_call_and_return_conditional_losses, lstm_cell_3_layer_call_and_return_conditional_losses while saving (showing 5 of 5). These functions will not be directly callable after loading.\n"
     ]
    },
    {
     "name": "stdout",
     "output_type": "stream",
     "text": [
      "INFO:tensorflow:Assets written to: model5\\assets\n"
     ]
    },
    {
     "name": "stderr",
     "output_type": "stream",
     "text": [
      "INFO:tensorflow:Assets written to: model5\\assets\n"
     ]
    },
    {
     "name": "stdout",
     "output_type": "stream",
     "text": [
      "Epoch 3/10\n",
      "1875/1875 [==============================] - 4s 2ms/step - loss: 0.0127 - root_mean_squared_error: 0.1126 - val_loss: 0.0086 - val_root_mean_squared_error: 0.0930\n"
     ]
    },
    {
     "name": "stderr",
     "output_type": "stream",
     "text": [
      "WARNING:absl:Found untraced functions such as lstm_cell_3_layer_call_fn, lstm_cell_3_layer_call_and_return_conditional_losses, lstm_cell_3_layer_call_fn, lstm_cell_3_layer_call_and_return_conditional_losses, lstm_cell_3_layer_call_and_return_conditional_losses while saving (showing 5 of 5). These functions will not be directly callable after loading.\n"
     ]
    },
    {
     "name": "stdout",
     "output_type": "stream",
     "text": [
      "INFO:tensorflow:Assets written to: model5\\assets\n"
     ]
    },
    {
     "name": "stderr",
     "output_type": "stream",
     "text": [
      "INFO:tensorflow:Assets written to: model5\\assets\n"
     ]
    },
    {
     "name": "stdout",
     "output_type": "stream",
     "text": [
      "Epoch 4/10\n",
      "1875/1875 [==============================] - 3s 2ms/step - loss: 0.0084 - root_mean_squared_error: 0.0914 - val_loss: 0.0062 - val_root_mean_squared_error: 0.0786\n"
     ]
    },
    {
     "name": "stderr",
     "output_type": "stream",
     "text": [
      "WARNING:absl:Found untraced functions such as lstm_cell_3_layer_call_fn, lstm_cell_3_layer_call_and_return_conditional_losses, lstm_cell_3_layer_call_fn, lstm_cell_3_layer_call_and_return_conditional_losses, lstm_cell_3_layer_call_and_return_conditional_losses while saving (showing 5 of 5). These functions will not be directly callable after loading.\n"
     ]
    },
    {
     "name": "stdout",
     "output_type": "stream",
     "text": [
      "INFO:tensorflow:Assets written to: model5\\assets\n"
     ]
    },
    {
     "name": "stderr",
     "output_type": "stream",
     "text": [
      "INFO:tensorflow:Assets written to: model5\\assets\n"
     ]
    },
    {
     "name": "stdout",
     "output_type": "stream",
     "text": [
      "Epoch 5/10\n",
      "1875/1875 [==============================] - 4s 2ms/step - loss: 0.0068 - root_mean_squared_error: 0.0824 - val_loss: 0.0051 - val_root_mean_squared_error: 0.0712\n"
     ]
    },
    {
     "name": "stderr",
     "output_type": "stream",
     "text": [
      "WARNING:absl:Found untraced functions such as lstm_cell_3_layer_call_fn, lstm_cell_3_layer_call_and_return_conditional_losses, lstm_cell_3_layer_call_fn, lstm_cell_3_layer_call_and_return_conditional_losses, lstm_cell_3_layer_call_and_return_conditional_losses while saving (showing 5 of 5). These functions will not be directly callable after loading.\n"
     ]
    },
    {
     "name": "stdout",
     "output_type": "stream",
     "text": [
      "INFO:tensorflow:Assets written to: model5\\assets\n"
     ]
    },
    {
     "name": "stderr",
     "output_type": "stream",
     "text": [
      "INFO:tensorflow:Assets written to: model5\\assets\n"
     ]
    },
    {
     "name": "stdout",
     "output_type": "stream",
     "text": [
      "Epoch 6/10\n",
      "1875/1875 [==============================] - 4s 2ms/step - loss: 0.0059 - root_mean_squared_error: 0.0771 - val_loss: 0.0044 - val_root_mean_squared_error: 0.0665\n"
     ]
    },
    {
     "name": "stderr",
     "output_type": "stream",
     "text": [
      "WARNING:absl:Found untraced functions such as lstm_cell_3_layer_call_fn, lstm_cell_3_layer_call_and_return_conditional_losses, lstm_cell_3_layer_call_fn, lstm_cell_3_layer_call_and_return_conditional_losses, lstm_cell_3_layer_call_and_return_conditional_losses while saving (showing 5 of 5). These functions will not be directly callable after loading.\n"
     ]
    },
    {
     "name": "stdout",
     "output_type": "stream",
     "text": [
      "INFO:tensorflow:Assets written to: model5\\assets\n"
     ]
    },
    {
     "name": "stderr",
     "output_type": "stream",
     "text": [
      "INFO:tensorflow:Assets written to: model5\\assets\n"
     ]
    },
    {
     "name": "stdout",
     "output_type": "stream",
     "text": [
      "Epoch 7/10\n",
      "1875/1875 [==============================] - 4s 2ms/step - loss: 0.0055 - root_mean_squared_error: 0.0744 - val_loss: 0.0042 - val_root_mean_squared_error: 0.0651\n"
     ]
    },
    {
     "name": "stderr",
     "output_type": "stream",
     "text": [
      "WARNING:absl:Found untraced functions such as lstm_cell_3_layer_call_fn, lstm_cell_3_layer_call_and_return_conditional_losses, lstm_cell_3_layer_call_fn, lstm_cell_3_layer_call_and_return_conditional_losses, lstm_cell_3_layer_call_and_return_conditional_losses while saving (showing 5 of 5). These functions will not be directly callable after loading.\n"
     ]
    },
    {
     "name": "stdout",
     "output_type": "stream",
     "text": [
      "INFO:tensorflow:Assets written to: model5\\assets\n"
     ]
    },
    {
     "name": "stderr",
     "output_type": "stream",
     "text": [
      "INFO:tensorflow:Assets written to: model5\\assets\n"
     ]
    },
    {
     "name": "stdout",
     "output_type": "stream",
     "text": [
      "Epoch 8/10\n",
      "1875/1875 [==============================] - 4s 2ms/step - loss: 0.0054 - root_mean_squared_error: 0.0732 - val_loss: 0.0042 - val_root_mean_squared_error: 0.0649\n"
     ]
    },
    {
     "name": "stderr",
     "output_type": "stream",
     "text": [
      "WARNING:absl:Found untraced functions such as lstm_cell_3_layer_call_fn, lstm_cell_3_layer_call_and_return_conditional_losses, lstm_cell_3_layer_call_fn, lstm_cell_3_layer_call_and_return_conditional_losses, lstm_cell_3_layer_call_and_return_conditional_losses while saving (showing 5 of 5). These functions will not be directly callable after loading.\n"
     ]
    },
    {
     "name": "stdout",
     "output_type": "stream",
     "text": [
      "INFO:tensorflow:Assets written to: model5\\assets\n"
     ]
    },
    {
     "name": "stderr",
     "output_type": "stream",
     "text": [
      "INFO:tensorflow:Assets written to: model5\\assets\n"
     ]
    },
    {
     "name": "stdout",
     "output_type": "stream",
     "text": [
      "Epoch 9/10\n",
      "1875/1875 [==============================] - 4s 2ms/step - loss: 0.0053 - root_mean_squared_error: 0.0725 - val_loss: 0.0043 - val_root_mean_squared_error: 0.0653\n",
      "Epoch 10/10\n",
      "1875/1875 [==============================] - 4s 2ms/step - loss: 0.0052 - root_mean_squared_error: 0.0722 - val_loss: 0.0039 - val_root_mean_squared_error: 0.0628\n"
     ]
    },
    {
     "name": "stderr",
     "output_type": "stream",
     "text": [
      "WARNING:absl:Found untraced functions such as lstm_cell_3_layer_call_fn, lstm_cell_3_layer_call_and_return_conditional_losses, lstm_cell_3_layer_call_fn, lstm_cell_3_layer_call_and_return_conditional_losses, lstm_cell_3_layer_call_and_return_conditional_losses while saving (showing 5 of 5). These functions will not be directly callable after loading.\n"
     ]
    },
    {
     "name": "stdout",
     "output_type": "stream",
     "text": [
      "INFO:tensorflow:Assets written to: model5\\assets\n"
     ]
    },
    {
     "name": "stderr",
     "output_type": "stream",
     "text": [
      "INFO:tensorflow:Assets written to: model5\\assets\n"
     ]
    },
    {
     "data": {
      "text/plain": [
       "<keras.callbacks.History at 0x14812119cc0>"
      ]
     },
     "execution_count": 70,
     "metadata": {},
     "output_type": "execute_result"
    }
   ],
   "source": [
    "model5.fit(X3_train, y3_train, validation_data=(X3_val, y3_val), epochs=10, callbacks=[cp5])"
   ]
  },
  {
   "cell_type": "code",
   "execution_count": null,
   "id": "63f60a39",
   "metadata": {},
   "outputs": [],
   "source": [
    "def plot_predictions(model, X, y, start=0, end=100):\n",
    "  predictions = model.predict(X)\n",
    "  p_preds, temp_preds = predictions[:, 0], predictions[:, 1]\n",
    "  p_actuals, temp_actuals = y[:, 0], y[:, 1]\n",
    "  df = pd.DataFrame(data={'Temperature Predictions': temp_preds,\n",
    "                          'Temperature Actuals':temp_actuals,\n",
    "                          'Pressure Predictions': p_preds,\n",
    "                          'Pressure Actuals': p_actuals\n",
    "                          })\n",
    "  plt.plot(df['Temperature Predictions'][start:end])\n",
    "  plt.plot(df['Temperature Actuals'][start:end])\n",
    "  plt.plot(df['Pressure Predictions'][start:end])\n",
    "  plt.plot(df['Pressure Actuals'][start:end])\n",
    "  return df[start:end]"
   ]
  },
  {
   "cell_type": "code",
   "execution_count": null,
   "id": "1ac64b1f",
   "metadata": {},
   "outputs": [
    {
     "data": {
      "text/html": [
       "<div>\n",
       "<style scoped>\n",
       "    .dataframe tbody tr th:only-of-type {\n",
       "        vertical-align: middle;\n",
       "    }\n",
       "\n",
       "    .dataframe tbody tr th {\n",
       "        vertical-align: top;\n",
       "    }\n",
       "\n",
       "    .dataframe thead th {\n",
       "        text-align: right;\n",
       "    }\n",
       "</style>\n",
       "<table border=\"1\" class=\"dataframe\">\n",
       "  <thead>\n",
       "    <tr style=\"text-align: right;\">\n",
       "      <th></th>\n",
       "      <th>Temperature Predictions</th>\n",
       "      <th>Temperature Actuals</th>\n",
       "      <th>Pressure Predictions</th>\n",
       "      <th>Pressure Actuals</th>\n",
       "    </tr>\n",
       "  </thead>\n",
       "  <tbody>\n",
       "    <tr>\n",
       "      <th>0</th>\n",
       "      <td>0.422467</td>\n",
       "      <td>0.412451</td>\n",
       "      <td>-0.780068</td>\n",
       "      <td>-0.793439</td>\n",
       "    </tr>\n",
       "    <tr>\n",
       "      <th>1</th>\n",
       "      <td>0.375417</td>\n",
       "      <td>0.353683</td>\n",
       "      <td>-0.774194</td>\n",
       "      <td>-0.763123</td>\n",
       "    </tr>\n",
       "    <tr>\n",
       "      <th>2</th>\n",
       "      <td>0.329064</td>\n",
       "      <td>0.323123</td>\n",
       "      <td>-0.743579</td>\n",
       "      <td>-0.721893</td>\n",
       "    </tr>\n",
       "    <tr>\n",
       "      <th>3</th>\n",
       "      <td>0.319674</td>\n",
       "      <td>0.250251</td>\n",
       "      <td>-0.693592</td>\n",
       "      <td>-0.652773</td>\n",
       "    </tr>\n",
       "    <tr>\n",
       "      <th>4</th>\n",
       "      <td>0.256855</td>\n",
       "      <td>0.254952</td>\n",
       "      <td>-0.606682</td>\n",
       "      <td>-0.652773</td>\n",
       "    </tr>\n",
       "    <tr>\n",
       "      <th>...</th>\n",
       "      <td>...</td>\n",
       "      <td>...</td>\n",
       "      <td>...</td>\n",
       "      <td>...</td>\n",
       "    </tr>\n",
       "    <tr>\n",
       "      <th>95</th>\n",
       "      <td>0.699166</td>\n",
       "      <td>0.716869</td>\n",
       "      <td>-0.407549</td>\n",
       "      <td>-0.416310</td>\n",
       "    </tr>\n",
       "    <tr>\n",
       "      <th>96</th>\n",
       "      <td>0.660983</td>\n",
       "      <td>0.687485</td>\n",
       "      <td>-0.410342</td>\n",
       "      <td>-0.399333</td>\n",
       "    </tr>\n",
       "    <tr>\n",
       "      <th>97</th>\n",
       "      <td>0.645981</td>\n",
       "      <td>0.663978</td>\n",
       "      <td>-0.394995</td>\n",
       "      <td>-0.399333</td>\n",
       "    </tr>\n",
       "    <tr>\n",
       "      <th>98</th>\n",
       "      <td>0.642959</td>\n",
       "      <td>0.641646</td>\n",
       "      <td>-0.389800</td>\n",
       "      <td>-0.400546</td>\n",
       "    </tr>\n",
       "    <tr>\n",
       "      <th>99</th>\n",
       "      <td>0.644841</td>\n",
       "      <td>0.653400</td>\n",
       "      <td>-0.384977</td>\n",
       "      <td>-0.369018</td>\n",
       "    </tr>\n",
       "  </tbody>\n",
       "</table>\n",
       "<p>100 rows × 4 columns</p>\n",
       "</div>"
      ],
      "text/plain": [
       "    Temperature Predictions  Temperature Actuals  Pressure Predictions  \\\n",
       "0                  0.422467             0.412451             -0.780068   \n",
       "1                  0.375417             0.353683             -0.774194   \n",
       "2                  0.329064             0.323123             -0.743579   \n",
       "3                  0.319674             0.250251             -0.693592   \n",
       "4                  0.256855             0.254952             -0.606682   \n",
       "..                      ...                  ...                   ...   \n",
       "95                 0.699166             0.716869             -0.407549   \n",
       "96                 0.660983             0.687485             -0.410342   \n",
       "97                 0.645981             0.663978             -0.394995   \n",
       "98                 0.642959             0.641646             -0.389800   \n",
       "99                 0.644841             0.653400             -0.384977   \n",
       "\n",
       "    Pressure Actuals  \n",
       "0          -0.793439  \n",
       "1          -0.763123  \n",
       "2          -0.721893  \n",
       "3          -0.652773  \n",
       "4          -0.652773  \n",
       "..               ...  \n",
       "95         -0.416310  \n",
       "96         -0.399333  \n",
       "97         -0.399333  \n",
       "98         -0.400546  \n",
       "99         -0.369018  \n",
       "\n",
       "[100 rows x 4 columns]"
      ]
     },
     "execution_count": 73,
     "metadata": {},
     "output_type": "execute_result"
    },
    {
     "data": {
      "image/png": "[encoded data removed]",
      "text/plain": [
       "<Figure size 432x288 with 1 Axes>"
      ]
     },
     "metadata": {
      "needs_background": "light"
     },
     "output_type": "display_data"
    }
   ],
   "source": [
    "post_processed_df = plot_predictions(model5, X3_test, y3_test)\n",
    "post_processed_df"
   ]
  },
  {
   "cell_type": "code",
   "execution_count": null,
   "id": "59e9bf50",
   "metadata": {},
   "outputs": [
    {
     "data": {
      "text/plain": [
       "[<matplotlib.lines.Line2D at 0x1483435b438>]"
      ]
     },
     "execution_count": 74,
     "metadata": {},
     "output_type": "execute_result"
    },
    {
     "data": {
      "image/png": "[encoded data removed]",
      "text/plain": [
       "<Figure size 432x288 with 1 Axes>"
      ]
     },
     "metadata": {
      "needs_background": "light"
     },
     "output_type": "display_data"
    }
   ],
   "source": [
    "start, end = 0, 100\n",
    "plt.plot(post_processed_df['Temperature Predictions'][start:end])\n",
    "plt.plot(post_processed_df['Temperature Actuals'][start:end])"
   ]
  },
  {
   "cell_type": "code",
   "execution_count": null,
   "id": "4f72c7ac",
   "metadata": {},
   "outputs": [
    {
     "data": {
      "text/plain": [
       "[<matplotlib.lines.Line2D at 0x1481245c1d0>]"
      ]
     },
     "execution_count": 75,
     "metadata": {},
     "output_type": "execute_result"
    },
    {
     "data": {
      "image/png": "[encoded data removed]",
      "text/plain": [
       "<Figure size 432x288 with 1 Axes>"
      ]
     },
     "metadata": {
      "needs_background": "light"
     },
     "output_type": "display_data"
    }
   ],
   "source": [
    "plt.plot(post_processed_df['Pressure Predictions'][start:end])\n",
    "plt.plot(post_processed_df['Pressure Actuals'][start:end])"
   ]
  },
  {
   "cell_type": "code",
   "execution_count": null,
   "id": "e4b91106",
   "metadata": {},
   "outputs": [],
   "source": [
    "def postprocess_temp(arr):\n",
    "  arr = (arr*temp_training_std3) + temp_training_mean3\n",
    "  return arr\n",
    "\n",
    "def postprocess_p(arr):\n",
    "  arr = (arr*p_training_std3) + p_training_mean3\n",
    "  return arr"
   ]
  },
  {
   "cell_type": "code",
   "execution_count": null,
   "id": "33da36d0",
   "metadata": {},
   "outputs": [],
   "source": [
    "def plot_predictions2(model, X, y, start=0, end=100):\n",
    "  predictions = model.predict(X)\n",
    "  p_preds, temp_preds = postprocess_p(predictions[:, 0]), postprocess_temp(predictions[:, 1])\n",
    "  p_actuals, temp_actuals = postprocess_p(y[:, 0]), postprocess_temp(y[:, 1])\n",
    "  df = pd.DataFrame(data={'Temperature Predictions': temp_preds,\n",
    "                          'Temperature Actuals':temp_actuals,\n",
    "                          'Pressure Predictions': p_preds,\n",
    "                          'Pressure Actuals': p_actuals\n",
    "                          })\n",
    "  plt.plot(df['Temperature Predictions'][start:end])\n",
    "  plt.plot(df['Temperature Actuals'][start:end])\n",
    "  plt.plot(df['Pressure Predictions'][start:end])\n",
    "  plt.plot(df['Pressure Actuals'][start:end])\n",
    "  return df[start:end]"
   ]
  },
  {
   "cell_type": "code",
   "execution_count": null,
   "id": "5919d222",
   "metadata": {},
   "outputs": [
    {
     "data": {
      "text/html": [
       "<div>\n",
       "<style scoped>\n",
       "    .dataframe tbody tr th:only-of-type {\n",
       "        vertical-align: middle;\n",
       "    }\n",
       "\n",
       "    .dataframe tbody tr th {\n",
       "        vertical-align: top;\n",
       "    }\n",
       "\n",
       "    .dataframe thead th {\n",
       "        text-align: right;\n",
       "    }\n",
       "</style>\n",
       "<table border=\"1\" class=\"dataframe\">\n",
       "  <thead>\n",
       "    <tr style=\"text-align: right;\">\n",
       "      <th></th>\n",
       "      <th>Temperature Predictions</th>\n",
       "      <th>Temperature Actuals</th>\n",
       "      <th>Pressure Predictions</th>\n",
       "      <th>Pressure Actuals</th>\n",
       "    </tr>\n",
       "  </thead>\n",
       "  <tbody>\n",
       "    <tr>\n",
       "      <th>0</th>\n",
       "      <td>13.015222</td>\n",
       "      <td>12.93</td>\n",
       "      <td>982.540283</td>\n",
       "      <td>982.43</td>\n",
       "    </tr>\n",
       "    <tr>\n",
       "      <th>1</th>\n",
       "      <td>12.614920</td>\n",
       "      <td>12.43</td>\n",
       "      <td>982.588745</td>\n",
       "      <td>982.68</td>\n",
       "    </tr>\n",
       "    <tr>\n",
       "      <th>2</th>\n",
       "      <td>12.220540</td>\n",
       "      <td>12.17</td>\n",
       "      <td>982.841187</td>\n",
       "      <td>983.02</td>\n",
       "    </tr>\n",
       "    <tr>\n",
       "      <th>3</th>\n",
       "      <td>12.140651</td>\n",
       "      <td>11.55</td>\n",
       "      <td>983.253418</td>\n",
       "      <td>983.59</td>\n",
       "    </tr>\n",
       "    <tr>\n",
       "      <th>4</th>\n",
       "      <td>11.606188</td>\n",
       "      <td>11.59</td>\n",
       "      <td>983.970154</td>\n",
       "      <td>983.59</td>\n",
       "    </tr>\n",
       "    <tr>\n",
       "      <th>...</th>\n",
       "      <td>...</td>\n",
       "      <td>...</td>\n",
       "      <td>...</td>\n",
       "      <td>...</td>\n",
       "    </tr>\n",
       "    <tr>\n",
       "      <th>95</th>\n",
       "      <td>15.369381</td>\n",
       "      <td>15.52</td>\n",
       "      <td>985.612305</td>\n",
       "      <td>985.54</td>\n",
       "    </tr>\n",
       "    <tr>\n",
       "      <th>96</th>\n",
       "      <td>15.044514</td>\n",
       "      <td>15.27</td>\n",
       "      <td>985.589233</td>\n",
       "      <td>985.68</td>\n",
       "    </tr>\n",
       "    <tr>\n",
       "      <th>97</th>\n",
       "      <td>14.916876</td>\n",
       "      <td>15.07</td>\n",
       "      <td>985.715820</td>\n",
       "      <td>985.68</td>\n",
       "    </tr>\n",
       "    <tr>\n",
       "      <th>98</th>\n",
       "      <td>14.891172</td>\n",
       "      <td>14.88</td>\n",
       "      <td>985.758667</td>\n",
       "      <td>985.67</td>\n",
       "    </tr>\n",
       "    <tr>\n",
       "      <th>99</th>\n",
       "      <td>14.907180</td>\n",
       "      <td>14.98</td>\n",
       "      <td>985.798401</td>\n",
       "      <td>985.93</td>\n",
       "    </tr>\n",
       "  </tbody>\n",
       "</table>\n",
       "<p>100 rows × 4 columns</p>\n",
       "</div>"
      ],
      "text/plain": [
       "    Temperature Predictions  Temperature Actuals  Pressure Predictions  \\\n",
       "0                 13.015222                12.93            982.540283   \n",
       "1                 12.614920                12.43            982.588745   \n",
       "2                 12.220540                12.17            982.841187   \n",
       "3                 12.140651                11.55            983.253418   \n",
       "4                 11.606188                11.59            983.970154   \n",
       "..                      ...                  ...                   ...   \n",
       "95                15.369381                15.52            985.612305   \n",
       "96                15.044514                15.27            985.589233   \n",
       "97                14.916876                15.07            985.715820   \n",
       "98                14.891172                14.88            985.758667   \n",
       "99                14.907180                14.98            985.798401   \n",
       "\n",
       "    Pressure Actuals  \n",
       "0             982.43  \n",
       "1             982.68  \n",
       "2             983.02  \n",
       "3             983.59  \n",
       "4             983.59  \n",
       "..               ...  \n",
       "95            985.54  \n",
       "96            985.68  \n",
       "97            985.68  \n",
       "98            985.67  \n",
       "99            985.93  \n",
       "\n",
       "[100 rows x 4 columns]"
      ]
     },
     "execution_count": 78,
     "metadata": {},
     "output_type": "execute_result"
    },
    {
     "data": {
      "image/png": "[encoded data removed]",
      "text/plain": [
       "<Figure size 432x288 with 1 Axes>"
      ]
     },
     "metadata": {
      "needs_background": "light"
     },
     "output_type": "display_data"
    }
   ],
   "source": [
    "post_processed_df = plot_predictions2(model5, X3_test, y3_test)\n",
    "post_processed_df"
   ]
  },
  {
   "cell_type": "code",
   "execution_count": null,
   "id": "0fc72c4b",
   "metadata": {},
   "outputs": [
    {
     "data": {
      "text/plain": [
       "[<matplotlib.lines.Line2D at 0x148366c3748>]"
      ]
     },
     "execution_count": 79,
     "metadata": {},
     "output_type": "execute_result"
    },
    {
     "data": {
      "image/png": "[encoded data removed]",
      "text/plain": [
       "<Figure size 432x288 with 1 Axes>"
      ]
     },
     "metadata": {
      "needs_background": "light"
     },
     "output_type": "display_data"
    }
   ],
   "source": [
    "start, end = 0, 100\n",
    "plt.plot(post_processed_df['Temperature Predictions'][start:end])\n",
    "plt.plot(post_processed_df['Temperature Actuals'][start:end])"
   ]
  },
  {
   "cell_type": "code",
   "execution_count": null,
   "id": "a4a126bc",
   "metadata": {},
   "outputs": [
    {
     "data": {
      "text/plain": [
       "[<matplotlib.lines.Line2D at 0x148141899b0>]"
      ]
     },
     "execution_count": 80,
     "metadata": {},
     "output_type": "execute_result"
    },
    {
     "data": {
      "image/png": "[encoded data removed]",
      "text/plain": [
       "<Figure size 432x288 with 1 Axes>"
      ]
     },
     "metadata": {
      "needs_background": "light"
     },
     "output_type": "display_data"
    }
   ],
   "source": [
    "plt.plot(post_processed_df['Pressure Predictions'][start:end])\n",
    "plt.plot(post_processed_df['Pressure Actuals'][start:end])"
   ]
  },
  {
   "cell_type": "code",
   "execution_count": null,
   "id": "f10ccc2f",
   "metadata": {},
   "outputs": [],
   "source": []
  }
 ],
 "metadata": {
  "kernelspec": {
   "display_name": "Python 3",
   "language": "python",
   "name": "python3"
  },
  "language_info": {
   "codemirror_mode": {
    "name": "ipython",
    "version": 3
   },
   "file_extension": ".py",
   "mimetype": "text/x-python",
   "name": "python",
   "nbconvert_exporter": "python",
   "pygments_lexer": "ipython3",
   "version": "3.9.7"
  }
 },
 "nbformat": 4,
 "nbformat_minor": 5
}
