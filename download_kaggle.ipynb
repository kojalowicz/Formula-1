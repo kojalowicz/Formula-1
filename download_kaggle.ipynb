{
 "cells": [
  {
   "cell_type": "code",
   "execution_count": null,
   "id": "1d100e83",
   "metadata": {},
   "outputs": [],
   "source": [
    "# Set up\n",
    "dataset_kaggle = \"https://www.kaggle.com/oracledevrel/\"\n",
    "dataset_folder = \"formulaaihackathon2022\"\n",
    "dataset_uri = dataset_kaggle + dataset_folder\n",
    "dataset_file = dataset_folder + \"/weather.csv\""
   ]
  },
  {
   "cell_type": "code",
   "execution_count": null,
   "id": "3cb99dd7",
   "metadata": {},
   "outputs": [],
   "source": [
    "#username:povergrrr\n",
    "#key:4ab9a2b112addb191cdbdf82bacaae50"
   ]
  },
  {
   "cell_type": "code",
   "execution_count": null,
   "id": "146d0947",
   "metadata": {},
   "outputs": [],
   "source": [
    "# Download kaggle resources\n",
    "od.download(dataset_uri)"
   ]
  }
 ],
 "metadata": {
  "kernelspec": {
   "display_name": "Python 3 (ipykernel)",
   "language": "python",
   "name": "python3"
  },
  "language_info": {
   "codemirror_mode": {
    "name": "ipython",
    "version": 3
   },
   "file_extension": ".py",
   "mimetype": "text/x-python",
   "name": "python",
   "nbconvert_exporter": "python",
   "pygments_lexer": "ipython3",
   "version": "3.9.7"
  }
 },
 "nbformat": 4,
 "nbformat_minor": 5
}
