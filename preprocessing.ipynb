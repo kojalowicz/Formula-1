{
 "cells": [
  {
   "cell_type": "code",
   "execution_count": 190,
   "metadata": {
    "collapsed": true
   },
   "outputs": [
    {
     "name": "stderr",
     "output_type": "stream",
     "text": [
      "/Users/gsochaj/Library/Python/3.9/lib/python/site-packages/IPython/core/interactiveshell.py:3441: DtypeWarning: Columns (21) have mixed types.Specify dtype option on import or set low_memory=False.\n",
      "  exec(code_obj, self.user_global_ns, self.user_ns)\n"
     ]
    },
    {
     "name": "stdout",
     "output_type": "stream",
     "text": [
      "3572328\n",
      "2598054\n",
      "680055\n",
      "35651\n"
     ]
    }
   ],
   "source": [
    "import pandas as pd # import pandas\n",
    "import numpy as np\n",
    "import json\n",
    "import datetime\n",
    "\n",
    "# Reading the CSV file.\n",
    "\n",
    "df = pd.read_csv('weather.csv')\n",
    "\n",
    "# Preprocessing\n",
    "\n",
    "df_new = df.drop(['M_ZONE_START','M_ZONE_FLAG'],axis=1)     # Dropujemy miejsca startowe i flagi\n",
    "print(len(df_new))\n",
    "df_new = df_new.dropna(subset=['M_WEATHER_FORECAST_SAMPLES_M_WEATHER'])     # Dropujemy na z Forecastu\n",
    "print(len(df_new))\n",
    "df_new = df_new[df_new['M_NUM_WEATHER_FORECAST_SAMPLES']!=0]       # Df tylko jeśli forecast sample inny od 0\n",
    "df_new = df_new[df_new['M_SESSION_TYPE']!=0]        # Df tylko jeśli session type inny od 0\n",
    "\n",
    "df_new = df_new.drop_duplicates()   # drop duplikatów całych wierszy\n",
    "print(len(df_new))\n",
    "df_new['M_SESSION_UID'] = df_new['M_SESSION_UID'].apply(int)    # Session ID jako int\n",
    "df_new['TIMESTAMP'] = df_new['TIMESTAMP'].apply(datetime.datetime.fromtimestamp)    # Timestamp jako datetime\n",
    "\n",
    "df_new = df_new[df_new['M_TIME_OFFSET']==0.0]       # Offset jako 0 na stan faktyczny\n",
    "df_new=df_new[df_new['M_WEATHER_FORECAST_SAMPLES_M_SESSION_TYPE']==df_new['M_SESSION_TYPE']]        # Session type rowny forecast session type\n",
    "\n",
    "print(len(df_new))\n"
   ]
  },
  {
   "cell_type": "code",
   "execution_count": 163,
   "outputs": [
    {
     "data": {
      "text/plain": "         M_WEATHER_FORECAST_SAMPLES_M_SESSION_TYPE  M_SESSION_TYPE  \\\n68320                                          1.0               1   \n68327                                          2.0               1   \n68334                                          3.0               1   \n68341                                          5.0               1   \n68347                                          6.0               1   \n...                                            ...             ...   \n2358013                                        5.0               1   \n2358019                                        6.0               1   \n2358025                                        7.0               1   \n2358031                                       10.0               1   \n2358040                                        0.0               1   \n\n         M_NUM_WEATHER_FORECAST_SAMPLES  M_WEATHER_FORECAST_SAMPLES_M_WEATHER  \\\n68320                                48                                   0.0   \n68327                                48                                   0.0   \n68334                                48                                   0.0   \n68341                                48                                   0.0   \n68347                                48                                   0.0   \n...                                 ...                                   ...   \n2358013                              48                                   0.0   \n2358019                              48                                   0.0   \n2358025                              48                                   0.0   \n2358031                              48                                   0.0   \n2358040                              48                                   0.0   \n\n         M_FORECAST_ACCURACY  M_WEATHER_FORECAST_SAMPLES_M_AIR_TEMPERATURE  \\\n68320                      1                                          29.0   \n68327                      1                                          26.0   \n68334                      1                                          29.0   \n68341                      1                                          26.0   \n68347                      1                                          26.0   \n...                      ...                                           ...   \n2358013                    1                                          26.0   \n2358019                    1                                          26.0   \n2358025                    1                                          26.0   \n2358031                    1                                          24.0   \n2358040                    1                                           0.0   \n\n         M_WEATHER_FORECAST_SAMPLES_M_TRACK_TEMPERATURE  \n68320                                              36.0  \n68327                                              32.0  \n68334                                              36.0  \n68341                                              32.0  \n68347                                              32.0  \n...                                                 ...  \n2358013                                            32.0  \n2358019                                            32.0  \n2358025                                            32.0  \n2358031                                            30.0  \n2358040                                             0.0  \n\n[4336 rows x 7 columns]",
      "text/html": "<div>\n<style scoped>\n    .dataframe tbody tr th:only-of-type {\n        vertical-align: middle;\n    }\n\n    .dataframe tbody tr th {\n        vertical-align: top;\n    }\n\n    .dataframe thead th {\n        text-align: right;\n    }\n</style>\n<table border=\"1\" class=\"dataframe\">\n  <thead>\n    <tr style=\"text-align: right;\">\n      <th></th>\n      <th>M_WEATHER_FORECAST_SAMPLES_M_SESSION_TYPE</th>\n      <th>M_SESSION_TYPE</th>\n      <th>M_NUM_WEATHER_FORECAST_SAMPLES</th>\n      <th>M_WEATHER_FORECAST_SAMPLES_M_WEATHER</th>\n      <th>M_FORECAST_ACCURACY</th>\n      <th>M_WEATHER_FORECAST_SAMPLES_M_AIR_TEMPERATURE</th>\n      <th>M_WEATHER_FORECAST_SAMPLES_M_TRACK_TEMPERATURE</th>\n    </tr>\n  </thead>\n  <tbody>\n    <tr>\n      <th>68320</th>\n      <td>1.0</td>\n      <td>1</td>\n      <td>48</td>\n      <td>0.0</td>\n      <td>1</td>\n      <td>29.0</td>\n      <td>36.0</td>\n    </tr>\n    <tr>\n      <th>68327</th>\n      <td>2.0</td>\n      <td>1</td>\n      <td>48</td>\n      <td>0.0</td>\n      <td>1</td>\n      <td>26.0</td>\n      <td>32.0</td>\n    </tr>\n    <tr>\n      <th>68334</th>\n      <td>3.0</td>\n      <td>1</td>\n      <td>48</td>\n      <td>0.0</td>\n      <td>1</td>\n      <td>29.0</td>\n      <td>36.0</td>\n    </tr>\n    <tr>\n      <th>68341</th>\n      <td>5.0</td>\n      <td>1</td>\n      <td>48</td>\n      <td>0.0</td>\n      <td>1</td>\n      <td>26.0</td>\n      <td>32.0</td>\n    </tr>\n    <tr>\n      <th>68347</th>\n      <td>6.0</td>\n      <td>1</td>\n      <td>48</td>\n      <td>0.0</td>\n      <td>1</td>\n      <td>26.0</td>\n      <td>32.0</td>\n    </tr>\n    <tr>\n      <th>...</th>\n      <td>...</td>\n      <td>...</td>\n      <td>...</td>\n      <td>...</td>\n      <td>...</td>\n      <td>...</td>\n      <td>...</td>\n    </tr>\n    <tr>\n      <th>2358013</th>\n      <td>5.0</td>\n      <td>1</td>\n      <td>48</td>\n      <td>0.0</td>\n      <td>1</td>\n      <td>26.0</td>\n      <td>32.0</td>\n    </tr>\n    <tr>\n      <th>2358019</th>\n      <td>6.0</td>\n      <td>1</td>\n      <td>48</td>\n      <td>0.0</td>\n      <td>1</td>\n      <td>26.0</td>\n      <td>32.0</td>\n    </tr>\n    <tr>\n      <th>2358025</th>\n      <td>7.0</td>\n      <td>1</td>\n      <td>48</td>\n      <td>0.0</td>\n      <td>1</td>\n      <td>26.0</td>\n      <td>32.0</td>\n    </tr>\n    <tr>\n      <th>2358031</th>\n      <td>10.0</td>\n      <td>1</td>\n      <td>48</td>\n      <td>0.0</td>\n      <td>1</td>\n      <td>24.0</td>\n      <td>30.0</td>\n    </tr>\n    <tr>\n      <th>2358040</th>\n      <td>0.0</td>\n      <td>1</td>\n      <td>48</td>\n      <td>0.0</td>\n      <td>1</td>\n      <td>0.0</td>\n      <td>0.0</td>\n    </tr>\n  </tbody>\n</table>\n<p>4336 rows × 7 columns</p>\n</div>"
     },
     "execution_count": 163,
     "metadata": {},
     "output_type": "execute_result"
    }
   ],
   "source": [
    "# Test z SESSION ID\n",
    "\n",
    "df_new[df_new['M_SESSION_UID']==3734445177271223808][['M_WEATHER_FORECAST_SAMPLES_M_SESSION_TYPE','M_SESSION_TYPE','M_NUM_WEATHER_FORECAST_SAMPLES','M_WEATHER_FORECAST_SAMPLES_M_WEATHER','M_FORECAST_ACCURACY','M_WEATHER_FORECAST_SAMPLES_M_AIR_TEMPERATURE','M_WEATHER_FORECAST_SAMPLES_M_TRACK_TEMPERATURE']]\n",
    "\n"
   ],
   "metadata": {
    "collapsed": false,
    "pycharm": {
     "name": "#%%\n"
    }
   }
  },
  {
   "cell_type": "code",
   "execution_count": 191,
   "outputs": [
    {
     "name": "stdout",
     "output_type": "stream",
     "text": [
      "2939734289500381696 -> 540-540\n",
      "3734445177271223808 -> 542-542\n",
      "2148720622742364160 -> 301-301\n",
      "6740664712580023296 -> 160-160\n",
      "7571059373791474688 -> 38-38\n",
      "12353162835949107200 -> 4-4\n",
      "10606999475394856960 -> 36-36\n",
      "12965771888842305536 -> 9-9\n",
      "8577134997333479424 -> 37-37\n",
      "13859540119692961792 -> 131-131\n",
      "5131882212211026944 -> 2-2\n",
      "10924589045696636928 -> 126-126\n",
      "11725831002906730496 -> 126-126\n",
      "2375253586702444032 -> 174-174\n",
      "10208185256540702720 -> 315-315\n",
      "8562486677285334016 -> 267-267\n",
      "4162814131879546368 -> 79-79\n",
      "11410883316863320064 -> 45-45\n",
      "1844402308831118848 -> 78-78\n",
      "731698304933047040 -> 154-154\n",
      "7399509276955794432 -> 1012-1012\n",
      "7706848746807917568 -> 104-104\n",
      "3688942053969944576 -> 149-149\n",
      "6206021592960190464 -> 108-108\n",
      "17070085402106165248 -> 1160-1160\n",
      "17986789450456119296 -> 128-128\n",
      "10752148373787498496 -> 231-231\n",
      "10154977874364762112 -> 68-68\n",
      "225678745705498656 -> 125-125\n",
      "17761651970480412672 -> 100-100\n",
      "4579319030059534336 -> 6-6\n",
      "7695536579992419328 -> 88-88\n",
      "5057013239687063552 -> 238-238\n",
      "14604689668899229696 -> 164-164\n",
      "8183544490995236864 -> 172-172\n",
      "11927383548626350080 -> 1126-1126\n",
      "8837776980781088768 -> 1102-1102\n",
      "10929277407573190656 -> 1133-1133\n",
      "14423358407437291520 -> 6-6\n",
      "7876673241077905408 -> 126-126\n",
      "8645451312818641920 -> 297-297\n",
      "4531992351395781120 -> 486-486\n",
      "14653184077370189824 -> 670-670\n",
      "5345606301583849472 -> 619-619\n",
      "2334919922128649728 -> 78-78\n",
      "17250830067848251392 -> 50-50\n",
      "3556950213536510976 -> 103-103\n",
      "13237200517501583360 -> 13-13\n",
      "17764663866017337344 -> 173-173\n",
      "7801244177467699200 -> 80-80\n",
      "11119216661053784064 -> 52-52\n",
      "10159988515541657600 -> 130-130\n",
      "8680634554990998528 -> 128-128\n",
      "11086427086685954048 -> 129-129\n",
      "944774610458079872 -> 208-208\n",
      "10092483444773801984 -> 6-6\n",
      "12473127777831925760 -> 72-72\n",
      "9958733883537733632 -> 140-140\n",
      "6172901419200224256 -> 186-186\n",
      "16691483122275028992 -> 155-155\n",
      "4462140241353674240 -> 117-117\n",
      "11219092879567937536 -> 7-7\n",
      "14036623952519540736 -> 161-161\n",
      "14343085536185149440 -> 73-73\n",
      "12851205587159844864 -> 149-149\n",
      "12303963868832667648 -> 266-266\n",
      "5701130051347629056 -> 79-79\n",
      "3010623014033540096 -> 210-210\n",
      "13171874632560531456 -> 113-113\n",
      "3401398640455785472 -> 26-26\n",
      "17614243770679040000 -> 202-202\n",
      "8466489591920222208 -> 7-7\n",
      "13868755767150610432 -> 168-168\n",
      "4331197848214491136 -> 102-102\n",
      "2564602581329736704 -> 185-185\n",
      "735015051110473088 -> 68-68\n",
      "10495179747232886784 -> 118-118\n",
      "17474857766214451200 -> 99-99\n",
      "2032449665864809216 -> 154-154\n",
      "17445604437376806912 -> 130-130\n",
      "9056596084716282880 -> 65-65\n",
      "6759116481953823744 -> 12-12\n",
      "8818561627976853504 -> 40-40\n",
      "4349155262188341760 -> 19-19\n",
      "2250909318467216128 -> 78-78\n",
      "1391867972949549056 -> 395-395\n",
      "7388521933043484672 -> 1471-1471\n",
      "4275852682245677568 -> 560-560\n",
      "6816528550818486272 -> 1498-1498\n",
      "3474269793225142272 -> 25-25\n",
      "2806565448289445376 -> 70-70\n",
      "8405925840065428480 -> 19-19\n",
      "11235443233977524224 -> 139-139\n",
      "805883893754338432 -> 349-349\n",
      "21060822879603068 -> 98-98\n",
      "3551778684422706176 -> 153-153\n",
      "17257353080153202688 -> 148-148\n",
      "11561214540048703488 -> 108-108\n",
      "10182310933574215680 -> 123-123\n",
      "14439280038133915648 -> 112-112\n",
      "5101883971836916736 -> 78-78\n",
      "12792065167819689984 -> 86-86\n",
      "10966174291222685696 -> 83-83\n",
      "4360147878372829184 -> 378-378\n",
      "10885597801285693440 -> 106-106\n",
      "5249009973204737024 -> 40-40\n",
      "13290343531329482752 -> 41-41\n",
      "6513923103296029696 -> 55-55\n",
      "17702678024026339328 -> 79-79\n",
      "5885987659777522688 -> 42-42\n",
      "9850665107815204864 -> 19-19\n",
      "933566907388519168 -> 6450-6450\n",
      "18024707237561860096 -> 4-4\n",
      "17290300263684157440 -> 140-140\n",
      "12909400051024857088 -> 82-82\n",
      "15963865474907404288 -> 30-30\n",
      "16606278739066535936 -> 126-126\n",
      "10862815468833216512 -> 3737-3737\n",
      "15490609964643610624 -> 290-290\n",
      "4804603399437129728 -> 285-285\n",
      "2915416227681615360 -> 288-288\n",
      "11312848405141606400 -> 298-298\n",
      "6133223025893629952 -> 127-127\n",
      "7145091589928744960 -> 55-55\n",
      "9038312491514508288 -> 78-78\n",
      "7942854170025449472 -> 102-102\n",
      "14148235944774445056 -> 88-88\n",
      "1613583305999911680 -> 93-93\n",
      "7847441993040644096 -> 90-90\n",
      "7715721758312196096 -> 80-80\n"
     ]
    }
   ],
   "source": [
    "for x in df_new['M_SESSION_UID'].unique():\n",
    "    # print(x)\n",
    "    y = list(df_new[df_new['M_SESSION_UID']==x]['TIMESTAMP'].unique())\n",
    "    y.sort()\n",
    "    print(f'{int(x)} -> {len(y)}-{len(df_new[df_new[\"M_SESSION_UID\"]==x][\"TIMESTAMP\"])}')"
   ],
   "metadata": {
    "collapsed": false,
    "pycharm": {
     "name": "#%%\n"
    }
   }
  },
  {
   "cell_type": "code",
   "execution_count": 5,
   "outputs": [
    {
     "name": "stdout",
     "output_type": "stream",
     "text": [
      "M_PACKET_FORMAT\n",
      "M_GAME_MAJOR_VERSION\n",
      "M_GAME_MINOR_VERSION\n",
      "M_PACKET_VERSION\n",
      "M_PACKET_ID\n",
      "M_SESSION_UID\n",
      "M_SESSION_TIME\n",
      "M_FRAME_IDENTIFIER\n",
      "M_PLAYER_CAR_INDEX\n",
      "M_SECONDARY_PLAYER_CAR_INDEX\n",
      "M_BRAKING_ASSIST\n",
      "M_SESSION_LINK_IDENTIFIER\n",
      "M_PIT_RELEASE_ASSIST\n",
      "TIMESTAMP\n",
      "M_ZONE_START\n",
      "M_ZONE_FLAG\n",
      "M_PIT_STOP_WINDOW_IDEAL_LAP\n",
      "M_TRACK_TEMPERATURE\n",
      "M_TRACK_LENGTH\n",
      "M_GAME_PAUSED\n",
      "M_FORECAST_ACCURACY\n",
      "GAMEHOST\n",
      "M_AIR_TEMPERATURE\n",
      "M_NUM_WEATHER_FORECAST_SAMPLES\n",
      "M_SLI_PRO_NATIVE_SUPPORT\n",
      "M_SAFETY_CAR_STATUS\n",
      "M_TRACK_ID\n",
      "M_ERSASSIST\n",
      "M_FORMULA\n",
      "M_SEASON_LINK_IDENTIFIER\n",
      "M_PIT_ASSIST\n",
      "M_GEARBOX_ASSIST\n",
      "M_SESSION_TYPE\n",
      "M_SPECTATOR_CAR_INDEX\n",
      "M_PIT_STOP_WINDOW_LATEST_LAP\n",
      "M_WEEKEND_LINK_IDENTIFIER\n",
      "M_DYNAMIC_RACING_LINE_TYPE\n",
      "M_SESSION_TIME_LEFT\n",
      "M_SESSION_DURATION\n",
      "M_PIT_STOP_REJOIN_POSITION\n",
      "M_WEATHER_FORECAST_SAMPLES_M_SESSION_TYPE\n",
      "M_TIME_OFFSET\n",
      "M_WEATHER_FORECAST_SAMPLES_M_WEATHER\n",
      "M_WEATHER_FORECAST_SAMPLES_M_TRACK_TEMPERATURE\n",
      "M_TRACK_TEMPERATURE_CHANGE\n",
      "M_WEATHER_FORECAST_SAMPLES_M_AIR_TEMPERATURE\n",
      "M_AIR_TEMPERATURE_CHANGE\n",
      "M_RAIN_PERCENTAGE\n",
      "M_WEATHER\n",
      "M_AI_DIFFICULTY\n",
      "M_PIT_SPEED_LIMIT\n",
      "M_NETWORK_GAME\n",
      "M_TOTAL_LAPS\n",
      "M_STEERING_ASSIST\n",
      "M_IS_SPECTATING\n",
      "M_DYNAMIC_RACING_LINE\n",
      "M_DRSASSIST\n",
      "M_NUM_MARSHAL_ZONES\n",
      "Unnamed: 58\n"
     ]
    }
   ],
   "source": [
    "for x in list(df.columns):\n",
    "    print (x)"
   ],
   "metadata": {
    "collapsed": false,
    "pycharm": {
     "name": "#%%\n"
    }
   }
  }
 ],
 "metadata": {
  "kernelspec": {
   "display_name": "Python 3",
   "language": "python",
   "name": "python3"
  },
  "language_info": {
   "codemirror_mode": {
    "name": "ipython",
    "version": 2
   },
   "file_extension": ".py",
   "mimetype": "text/x-python",
   "name": "python",
   "nbconvert_exporter": "python",
   "pygments_lexer": "ipython2",
   "version": "2.7.6"
  }
 },
 "nbformat": 4,
 "nbformat_minor": 0
}