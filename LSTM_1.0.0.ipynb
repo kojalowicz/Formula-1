{
 "cells": [
  {
   "cell_type": "code",
   "execution_count": 1,
   "id": "11bb3b6d",
   "metadata": {},
   "outputs": [],
   "source": [
    "# general imports\n",
    "import datetime\n",
    "import pandas as pd\n",
    "import numpy as np\n",
    "import tensorflow as tf\n",
    "import opendatasets as od\n",
    "import matplotlib.pyplot as plt"
   ]
  },
  {
   "cell_type": "code",
   "execution_count": 2,
   "id": "c756f385",
   "metadata": {},
   "outputs": [],
   "source": [
    "DATATYPE = \"datetime64[ns]\"\n",
    "FORMAT = '%Y-%m-%d %H:%M:%S'\n",
    "LABELS = ['M_WEATHER','M_RAIN_PERCENTAGE']\n",
    "WINDOW_SIZE = 30"
   ]
  },
  {
   "cell_type": "code",
   "execution_count": 3,
   "id": "a30d1049",
   "metadata": {},
   "outputs": [],
   "source": [
    "def clean(df):\n",
    "    df_new = df.drop(['M_ZONE_START','M_ZONE_FLAG'],axis=1)     # Drop start zones and flags\n",
    "    df_new = df_new.dropna(subset=['M_WEATHER_FORECAST_SAMPLES_M_WEATHER'])     # Drop NaNs from Forecast\n",
    "    df_new = df_new.loc[df_new['M_NUM_WEATHER_FORECAST_SAMPLES']!=0]       # Only if forecast sample is different than 0\n",
    "    df_new = df_new.loc[df_new['M_SESSION_TYPE']!=0]        # Only if session type different than 0\n",
    "    df_new['M_SESSION_UID'] = df_new['M_SESSION_UID'].astype(int)    # Session ID as int\n",
    "    df_new['TIMESTAMP'] = df_new['TIMESTAMP'].apply(datetime.datetime.fromtimestamp)    # Timestamp as datetime\n",
    "    df_new = df_new.loc[df_new['M_TIME_OFFSET']==0.0]       # Offset as 0 \n",
    "    df_new = df_new[df_new['M_WEATHER_FORECAST_SAMPLES_M_SESSION_TYPE']==df_new['M_SESSION_TYPE']] # Session type equal to forecast session type\n",
    "    return df_new"
   ]
  },
  {
   "cell_type": "code",
   "execution_count": 4,
   "id": "b15a9ab0",
   "metadata": {},
   "outputs": [],
   "source": [
    "dataset_folder = \"formulaaihackathon2022\"\n",
    "dataset_file = dataset_folder + \"/weather.csv\"\n",
    "\n",
    "chunks = []\n",
    "\n",
    "for chunk in pd.read_csv(dataset_file, sep = \",\", chunksize=10**6, low_memory=False):\n",
    "    part = clean(chunk)\n",
    "    chunks.append(part)"
   ]
  },
  {
   "cell_type": "code",
   "execution_count": 5,
   "id": "c057a956",
   "metadata": {},
   "outputs": [],
   "source": [
    "FEATURES = ['TIMESTAMP',\n",
    "            'M_TRACK_TEMPERATURE', \n",
    "            'M_FORECAST_ACCURACY', \n",
    "            'M_AIR_TEMPERATURE', \n",
    "            'M_NUM_WEATHER_FORECAST_SAMPLES', \n",
    "            'M_WEATHER_FORECAST_SAMPLES_M_SESSION_TYPE',\n",
    "            'M_WEATHER_FORECAST_SAMPLES_M_WEATHER',\n",
    "            'M_WEATHER_FORECAST_SAMPLES_M_TRACK_TEMPERATURE',\n",
    "            'M_TRACK_TEMPERATURE_CHANGE',\n",
    "            'M_WEATHER_FORECAST_SAMPLES_M_AIR_TEMPERATURE', \n",
    "            'M_AIR_TEMPERATURE_CHANGE', \n",
    "            'M_TIME_OFFSET']\n",
    "FEATURES_TO_DROP = ['M_SESSION_UID', 'M_TRACK_ID',]"
   ]
  },
  {
   "cell_type": "code",
   "execution_count": 6,
   "id": "00536c62",
   "metadata": {},
   "outputs": [
    {
     "name": "stdout",
     "output_type": "stream",
     "text": [
      "After cleaning:  35651\n"
     ]
    }
   ],
   "source": [
    "df = pd.concat(chunks)\n",
    "df = df.drop_duplicates()\n",
    "df = df[FEATURES+LABELS+FEATURES_TO_DROP]\n",
    "print(\"After cleaning: \", str(len(df)))"
   ]
  },
  {
   "cell_type": "code",
   "execution_count": 7,
   "id": "e17892a6",
   "metadata": {},
   "outputs": [
    {
     "data": {
      "text/html": [
       "<div>\n",
       "<style scoped>\n",
       "    .dataframe tbody tr th:only-of-type {\n",
       "        vertical-align: middle;\n",
       "    }\n",
       "\n",
       "    .dataframe tbody tr th {\n",
       "        vertical-align: top;\n",
       "    }\n",
       "\n",
       "    .dataframe thead th {\n",
       "        text-align: right;\n",
       "    }\n",
       "</style>\n",
       "<table border=\"1\" class=\"dataframe\">\n",
       "  <thead>\n",
       "    <tr style=\"text-align: right;\">\n",
       "      <th></th>\n",
       "      <th>TIMESTAMP</th>\n",
       "      <th>M_TRACK_TEMPERATURE</th>\n",
       "      <th>M_FORECAST_ACCURACY</th>\n",
       "      <th>M_AIR_TEMPERATURE</th>\n",
       "      <th>M_NUM_WEATHER_FORECAST_SAMPLES</th>\n",
       "      <th>M_WEATHER_FORECAST_SAMPLES_M_SESSION_TYPE</th>\n",
       "      <th>M_WEATHER_FORECAST_SAMPLES_M_WEATHER</th>\n",
       "      <th>M_WEATHER_FORECAST_SAMPLES_M_TRACK_TEMPERATURE</th>\n",
       "      <th>M_TRACK_TEMPERATURE_CHANGE</th>\n",
       "      <th>M_WEATHER_FORECAST_SAMPLES_M_AIR_TEMPERATURE</th>\n",
       "      <th>M_AIR_TEMPERATURE_CHANGE</th>\n",
       "      <th>M_TIME_OFFSET</th>\n",
       "      <th>M_WEATHER</th>\n",
       "      <th>M_RAIN_PERCENTAGE</th>\n",
       "      <th>M_SESSION_UID</th>\n",
       "      <th>M_TRACK_ID</th>\n",
       "    </tr>\n",
       "  </thead>\n",
       "  <tbody>\n",
       "    <tr>\n",
       "      <th>3571974</th>\n",
       "      <td>2022-01-15 23:14:47</td>\n",
       "      <td>33</td>\n",
       "      <td>0</td>\n",
       "      <td>25</td>\n",
       "      <td>10</td>\n",
       "      <td>8.0</td>\n",
       "      <td>0.0</td>\n",
       "      <td>33.0</td>\n",
       "      <td>2.0</td>\n",
       "      <td>25.0</td>\n",
       "      <td>2.0</td>\n",
       "      <td>0.0</td>\n",
       "      <td>0</td>\n",
       "      <td>4.0</td>\n",
       "      <td>-7583928604876334117</td>\n",
       "      <td>28</td>\n",
       "    </tr>\n",
       "    <tr>\n",
       "      <th>3572051</th>\n",
       "      <td>2022-01-15 23:14:48</td>\n",
       "      <td>33</td>\n",
       "      <td>0</td>\n",
       "      <td>25</td>\n",
       "      <td>10</td>\n",
       "      <td>8.0</td>\n",
       "      <td>0.0</td>\n",
       "      <td>33.0</td>\n",
       "      <td>2.0</td>\n",
       "      <td>25.0</td>\n",
       "      <td>2.0</td>\n",
       "      <td>0.0</td>\n",
       "      <td>0</td>\n",
       "      <td>4.0</td>\n",
       "      <td>-7583928604876334117</td>\n",
       "      <td>28</td>\n",
       "    </tr>\n",
       "    <tr>\n",
       "      <th>3572128</th>\n",
       "      <td>2022-01-15 23:14:49</td>\n",
       "      <td>33</td>\n",
       "      <td>0</td>\n",
       "      <td>25</td>\n",
       "      <td>10</td>\n",
       "      <td>8.0</td>\n",
       "      <td>0.0</td>\n",
       "      <td>33.0</td>\n",
       "      <td>2.0</td>\n",
       "      <td>25.0</td>\n",
       "      <td>2.0</td>\n",
       "      <td>0.0</td>\n",
       "      <td>0</td>\n",
       "      <td>4.0</td>\n",
       "      <td>-7583928604876334117</td>\n",
       "      <td>28</td>\n",
       "    </tr>\n",
       "    <tr>\n",
       "      <th>3572205</th>\n",
       "      <td>2022-01-15 23:14:50</td>\n",
       "      <td>33</td>\n",
       "      <td>0</td>\n",
       "      <td>25</td>\n",
       "      <td>10</td>\n",
       "      <td>8.0</td>\n",
       "      <td>0.0</td>\n",
       "      <td>33.0</td>\n",
       "      <td>2.0</td>\n",
       "      <td>25.0</td>\n",
       "      <td>2.0</td>\n",
       "      <td>0.0</td>\n",
       "      <td>0</td>\n",
       "      <td>4.0</td>\n",
       "      <td>-7583928604876334117</td>\n",
       "      <td>28</td>\n",
       "    </tr>\n",
       "    <tr>\n",
       "      <th>3572282</th>\n",
       "      <td>2022-01-15 23:14:51</td>\n",
       "      <td>33</td>\n",
       "      <td>0</td>\n",
       "      <td>25</td>\n",
       "      <td>10</td>\n",
       "      <td>8.0</td>\n",
       "      <td>0.0</td>\n",
       "      <td>33.0</td>\n",
       "      <td>2.0</td>\n",
       "      <td>25.0</td>\n",
       "      <td>2.0</td>\n",
       "      <td>0.0</td>\n",
       "      <td>0</td>\n",
       "      <td>4.0</td>\n",
       "      <td>-7583928604876334117</td>\n",
       "      <td>28</td>\n",
       "    </tr>\n",
       "  </tbody>\n",
       "</table>\n",
       "</div>"
      ],
      "text/plain": [
       "                  TIMESTAMP  M_TRACK_TEMPERATURE  M_FORECAST_ACCURACY  \\\n",
       "3571974 2022-01-15 23:14:47                   33                    0   \n",
       "3572051 2022-01-15 23:14:48                   33                    0   \n",
       "3572128 2022-01-15 23:14:49                   33                    0   \n",
       "3572205 2022-01-15 23:14:50                   33                    0   \n",
       "3572282 2022-01-15 23:14:51                   33                    0   \n",
       "\n",
       "         M_AIR_TEMPERATURE  M_NUM_WEATHER_FORECAST_SAMPLES  \\\n",
       "3571974                 25                              10   \n",
       "3572051                 25                              10   \n",
       "3572128                 25                              10   \n",
       "3572205                 25                              10   \n",
       "3572282                 25                              10   \n",
       "\n",
       "         M_WEATHER_FORECAST_SAMPLES_M_SESSION_TYPE  \\\n",
       "3571974                                        8.0   \n",
       "3572051                                        8.0   \n",
       "3572128                                        8.0   \n",
       "3572205                                        8.0   \n",
       "3572282                                        8.0   \n",
       "\n",
       "         M_WEATHER_FORECAST_SAMPLES_M_WEATHER  \\\n",
       "3571974                                   0.0   \n",
       "3572051                                   0.0   \n",
       "3572128                                   0.0   \n",
       "3572205                                   0.0   \n",
       "3572282                                   0.0   \n",
       "\n",
       "         M_WEATHER_FORECAST_SAMPLES_M_TRACK_TEMPERATURE  \\\n",
       "3571974                                            33.0   \n",
       "3572051                                            33.0   \n",
       "3572128                                            33.0   \n",
       "3572205                                            33.0   \n",
       "3572282                                            33.0   \n",
       "\n",
       "         M_TRACK_TEMPERATURE_CHANGE  \\\n",
       "3571974                         2.0   \n",
       "3572051                         2.0   \n",
       "3572128                         2.0   \n",
       "3572205                         2.0   \n",
       "3572282                         2.0   \n",
       "\n",
       "         M_WEATHER_FORECAST_SAMPLES_M_AIR_TEMPERATURE  \\\n",
       "3571974                                          25.0   \n",
       "3572051                                          25.0   \n",
       "3572128                                          25.0   \n",
       "3572205                                          25.0   \n",
       "3572282                                          25.0   \n",
       "\n",
       "         M_AIR_TEMPERATURE_CHANGE  M_TIME_OFFSET  M_WEATHER  \\\n",
       "3571974                       2.0            0.0          0   \n",
       "3572051                       2.0            0.0          0   \n",
       "3572128                       2.0            0.0          0   \n",
       "3572205                       2.0            0.0          0   \n",
       "3572282                       2.0            0.0          0   \n",
       "\n",
       "         M_RAIN_PERCENTAGE        M_SESSION_UID  M_TRACK_ID  \n",
       "3571974                4.0 -7583928604876334117          28  \n",
       "3572051                4.0 -7583928604876334117          28  \n",
       "3572128                4.0 -7583928604876334117          28  \n",
       "3572205                4.0 -7583928604876334117          28  \n",
       "3572282                4.0 -7583928604876334117          28  "
      ]
     },
     "execution_count": 7,
     "metadata": {},
     "output_type": "execute_result"
    }
   ],
   "source": [
    "df.tail()"
   ]
  },
  {
   "cell_type": "code",
   "execution_count": 8,
   "id": "815626f3",
   "metadata": {},
   "outputs": [
    {
     "data": {
      "text/plain": [
       "(array([24416.,     0.,     0.,     0.,     0.,  9917.,     0.,     0.,\n",
       "            0.,  1318.]),\n",
       " array([0. , 0.2, 0.4, 0.6, 0.8, 1. , 1.2, 1.4, 1.6, 1.8, 2. ]),\n",
       " <BarContainer object of 10 artists>)"
      ]
     },
     "execution_count": 8,
     "metadata": {},
     "output_type": "execute_result"
    },
    {
     "data": {
      "image/png": "[encoded data removed]",
      "text/plain": [
       "<Figure size 432x288 with 1 Axes>"
      ]
     },
     "metadata": {
      "needs_background": "light"
     },
     "output_type": "display_data"
    }
   ],
   "source": [
    "#histogram przed czyszczeniem danych\n",
    "plt.hist(df['M_WEATHER'])"
   ]
  },
  {
   "cell_type": "code",
   "execution_count": 9,
   "id": "2e72884d",
   "metadata": {},
   "outputs": [
    {
     "data": {
      "text/plain": [
       "(array([24416.,     0.,     0.,     0.,     0.,  9917.,     0.,     0.,\n",
       "            0.,  1318.]),\n",
       " array([0. , 0.2, 0.4, 0.6, 0.8, 1. , 1.2, 1.4, 1.6, 1.8, 2. ]),\n",
       " <BarContainer object of 10 artists>)"
      ]
     },
     "execution_count": 9,
     "metadata": {},
     "output_type": "execute_result"
    },
    {
     "data": {
      "image/png": "[encoded data removed]",
      "text/plain": [
       "<Figure size 432x288 with 1 Axes>"
      ]
     },
     "metadata": {
      "needs_background": "light"
     },
     "output_type": "display_data"
    }
   ],
   "source": [
    "#histogram po czyszczeniu danych + wnioski: Z naszej analizy wynika, że sesje, gdzie M_WEATHER===5 to gry customowe, w któych gracz ustawił const wartrtosc M_WEATHER i to sprawdza ta kolumna: M_NUM_WEATHER_FORECAST_SAMPLES\n",
    "plt.hist(df['M_WEATHER'])"
   ]
  },
  {
   "cell_type": "code",
   "execution_count": 10,
   "id": "22c47e46",
   "metadata": {},
   "outputs": [
    {
     "data": {
      "image/png": "[encoded data removed]",
      "text/plain": [
       "<Figure size 432x288 with 1 Axes>"
      ]
     },
     "metadata": {
      "needs_background": "light"
     },
     "output_type": "display_data"
    }
   ],
   "source": [
    "#LSTM - prepare data for models\n",
    "\n",
    "df_1 = df.drop(['M_SESSION_UID'], axis=1)\n",
    "df_2 = df.drop(['M_TRACK_ID'], axis=1)\n",
    "df_3 = df.drop(['M_SESSION_UID', 'M_TRACK_ID'], axis=1)\n",
    "\n",
    "df_1.index = pd.to_datetime(df_1['TIMESTAMP'], format=FORMAT)\n",
    "df_2.index = pd.to_datetime(df_2['TIMESTAMP'], format=FORMAT)\n",
    "df_3.index = pd.to_datetime(df_3['TIMESTAMP'], format=FORMAT)\n",
    "\n",
    "def split_x_y(df, window_size=WINDOW_SIZE):\n",
    "    df_X = df[FEATURES].to_numpy()\n",
    "    df_y = df[LABELS].to_numpy()\n",
    "    X = []\n",
    "    y = []\n",
    "    \n",
    "    for i in range(len(df_X)-window_size):\n",
    "        row = [r for r in df_X[i:i+window_size]]\n",
    "        label = df_y[i+window_size]\n",
    "        X.append(row)\n",
    "        y.append(label)\n",
    "    return np.array(X), np.array(y)\n",
    "\n",
    "df[LABELS].plot()\n",
    "X, y = split_x_y(df_3)\n",
    "# X.shape, y.shape"
   ]
  },
  {
   "cell_type": "code",
   "execution_count": 11,
   "id": "6fcf514a",
   "metadata": {},
   "outputs": [],
   "source": [
    "# tf imports \n",
    "from tensorflow.keras.models import Sequential\n",
    "from tensorflow.keras.models import load_model\n",
    "from tensorflow.keras.layers import *\n",
    "from tensorflow.keras.callbacks import ModelCheckpoint\n",
    "from tensorflow.keras.losses import MeanSquaredError\n",
    "from tensorflow.keras.metrics import RootMeanSquaredError\n",
    "from tensorflow.keras.optimizers import Adam\n",
    "from tensorflow.keras.callbacks import EarlyStopping"
   ]
  },
  {
   "cell_type": "code",
   "execution_count": 12,
   "id": "2f53ba03",
   "metadata": {},
   "outputs": [],
   "source": [
    "# Set configuration\n",
    "\n",
    "BATCH_SIZE = 64\n",
    "NUM_EPOCHS = 50\n",
    "MAX_PATIENCE = 3"
   ]
  },
  {
   "cell_type": "code",
   "execution_count": 13,
   "id": "18836ec3",
   "metadata": {},
   "outputs": [
    {
     "name": "stdout",
     "output_type": "stream",
     "text": [
      "(25000, 30, 12) (25000, 2)\n",
      "(5000, 30, 12) (5000, 2)\n",
      "(5621, 30, 12) (5621, 2)\n"
     ]
    }
   ],
   "source": [
    "# split to train validation\n",
    "X_train, y_train = X[:25000], y[:25000]\n",
    "X_val, y_val = X[25000:30000], y[25000:30000] \n",
    "X_test, y_test = X[30000:], y[30000:] \n",
    "\n",
    "print(X_train.shape, y_train.shape)\n",
    "print(X_val.shape, y_val.shape)\n",
    "print(X_test.shape, y_test.shape)"
   ]
  },
  {
   "cell_type": "code",
   "execution_count": 14,
   "id": "55852080",
   "metadata": {},
   "outputs": [],
   "source": [
    "def generator(samples, labels, batch_size=BATCH_SIZE, shuffle_data=True):\n",
    "    \"\"\" Yields the next training batch.\"\"\"\n",
    "    num_samples = len(samples)\n",
    "    while True: \n",
    "        \n",
    "        X = []\n",
    "        y = []\n",
    "        \n",
    "        for offset in range(0, num_samples, batch_size):\n",
    "            # Get the samples you'll use in this batch\n",
    "            batch_samples = samples[offset:offset+batch_size]\n",
    "            batch_labels = labels[offset:offset+batch_size]\n",
    "            X_ = []\n",
    "            y_ = []\n",
    "\n",
    "            for batch_sample in batch_samples:\n",
    "                sample = batch_sample\n",
    "                X_.append(sample)\n",
    "   \n",
    "            for batch_label in batch_labels:\n",
    "                label = batch_label\n",
    "                y_.append(label)\n",
    "\n",
    "            X = np.array(X_)\n",
    "            y = np.array(y_)\n",
    "            \n",
    "        yield X, y"
   ]
  },
  {
   "cell_type": "code",
   "execution_count": 15,
   "id": "d4f7fb18",
   "metadata": {},
   "outputs": [
    {
     "name": "stderr",
     "output_type": "stream",
     "text": [
      "2022-02-23 00:17:56.463320: W tensorflow/stream_executor/platform/default/dso_loader.cc:64] Could not load dynamic library 'libcuda.so.1'; dlerror: libcuda.so.1: cannot open shared object file: No such file or directory\n",
      "2022-02-23 00:17:56.463378: W tensorflow/stream_executor/cuda/cuda_driver.cc:269] failed call to cuInit: UNKNOWN ERROR (303)\n",
      "2022-02-23 00:17:56.463415: I tensorflow/stream_executor/cuda/cuda_diagnostics.cc:156] kernel driver does not appear to be running on this host (e1862a900b82): /proc/driver/nvidia/version does not exist\n",
      "2022-02-23 00:17:56.463660: I tensorflow/core/platform/cpu_feature_guard.cc:142] This TensorFlow binary is optimized with oneAPI Deep Neural Network Library (oneDNN) to use the following CPU instructions in performance-critical operations:  SSE4.1 SSE4.2 AVX AVX2 FMA\n",
      "To enable them in other operations, rebuild TensorFlow with the appropriate compiler flags.\n"
     ]
    },
    {
     "name": "stdout",
     "output_type": "stream",
     "text": [
      "Model: \"sequential\"\n",
      "_________________________________________________________________\n",
      "Layer (type)                 Output Shape              Param #   \n",
      "=================================================================\n",
      "lstm (LSTM)                  (None, 64)                17152     \n",
      "_________________________________________________________________\n",
      "dense (Dense)                (None, 32)                2080      \n",
      "_________________________________________________________________\n",
      "dense_1 (Dense)              (None, 2)                 66        \n",
      "=================================================================\n",
      "Total params: 19,298\n",
      "Trainable params: 19,298\n",
      "Non-trainable params: 0\n",
      "_________________________________________________________________\n",
      "Model: \"sequential\"\n",
      "_________________________________________________________________\n",
      "Layer (type)                 Output Shape              Param #   \n",
      "=================================================================\n",
      "lstm (LSTM)                  (None, 64)                17152     \n",
      "_________________________________________________________________\n",
      "dense (Dense)                (None, 32)                2080      \n",
      "_________________________________________________________________\n",
      "dense_1 (Dense)              (None, 2)                 66        \n",
      "=================================================================\n",
      "Total params: 19,298\n",
      "Trainable params: 19,298\n",
      "Non-trainable params: 0\n",
      "_________________________________________________________________\n"
     ]
    }
   ],
   "source": [
    "model = Sequential()\n",
    "model.add(InputLayer((12, 2)))\n",
    "model.add(LSTM(64))\n",
    "model.add(Dense(32, activation='tanh'))\n",
    "model.add(Dense(2))\n",
    "model.summary()\n",
    "\n",
    "# we will monitor when to stop epochs, it depends on val_loss and it wont stop before 3 epochs no matter what\n",
    "early_stop = EarlyStopping(monitor='val_loss', mode='min', patience=MAX_PATIENCE)\n",
    "cp1 = ModelCheckpoint('model1/', save_best_only=True)\n",
    "model.compile(loss='categorical_crossentropy',\n",
    "              optimizer='adam',\n",
    "              metrics=['accuracy'])\n",
    "model.summary()"
   ]
  },
  {
   "cell_type": "code",
   "execution_count": 16,
   "id": "5e71b26e",
   "metadata": {},
   "outputs": [],
   "source": [
    "# Create generator\n",
    "train_generator = generator(X_train, y_train)\n",
    "validation_generator = generator(X_val, y_val)\n",
    "test_generator = generator(X_test, y_test)\n",
    "num_train_samples = y_train.shape[0]\n",
    "num_valid_samples = y_val.shape[0]\n",
    "test_valid_samples = y_test.shape[0]"
   ]
  },
  {
   "cell_type": "code",
   "execution_count": 17,
   "id": "6e072d1c",
   "metadata": {},
   "outputs": [
    {
     "name": "stdout",
     "output_type": "stream",
     "text": [
      "(40, 30, 12)\n"
     ]
    }
   ],
   "source": [
    "x,y = next(train_generator)\n",
    "print (x.shape)"
   ]
  },
  {
   "cell_type": "code",
   "execution_count": 1,
   "id": "679001ce",
   "metadata": {},
   "outputs": [],
   "source": [
    "model.fit(\n",
    "        train_generator,\n",
    "        steps_per_epoch=num_train_samples // BATCH_SIZE,\n",
    "        validation_data=validation_generator,\n",
    "        validation_steps=num_valid_samples // BATCH_SIZE, \n",
    "        epochs=NUM_EPOCHS,\n",
    "        callbacks=[cp1, early_stop])"
   ]
  },
  {
   "cell_type": "code",
   "execution_count": null,
   "id": "5faf58a8",
   "metadata": {},
   "outputs": [],
   "source": [
    "# we make a dataframe from results put in dict, and show it below\n",
    "train_results = pd.DataFrame(data={'predicted_weather':train_predictions[:,[0,]].flatten(),\n",
    "                                   'predicted_rain_percentage':train_predictions[:,[1,]].flatten(),\n",
    "                                   'actual_weather':y_train[:,[0,]].flatten(),\n",
    "                                   'actual_rain_percentage':y_train[:,[1,]].flatten()\n",
    "                                  })\n",
    "train_results"
   ]
  },
  {
   "cell_type": "code",
   "execution_count": null,
   "id": "eefb6b15",
   "metadata": {},
   "outputs": [],
   "source": [
    "# makind predictions on X_test data\n",
    "test_predictions = model1.predict(X_test)"
   ]
  },
  {
   "cell_type": "code",
   "execution_count": null,
   "id": "84cfed5e",
   "metadata": {},
   "outputs": [],
   "source": [
    "# we make a dataframe from results put in dict, and show it below\n",
    "test_results = pd.DataFrame(data={'predicted_weather':test_predictions[:,[0,]].flatten(),\n",
    "                                   'predicted_rain_percentage':test_predictions[:,[1,]].flatten(),\n",
    "                                   'actual_weather':y_test[:,[0,]].flatten(),\n",
    "                                   'actual_rain_percentage':y_test[:,[1,]].flatten()\n",
    "                                  })\n",
    "test_results"
   ]
  },
  {
   "cell_type": "code",
   "execution_count": null,
   "id": "93239fe0",
   "metadata": {},
   "outputs": [],
   "source": [
    "# Weather\n",
    "test_results['predicted_weather'].plot()\n",
    "test_results['actual_weather'].plot()"
   ]
  },
  {
   "cell_type": "code",
   "execution_count": null,
   "id": "eba519d5",
   "metadata": {},
   "outputs": [],
   "source": [
    "# Rain probability\n",
    "test_results['predicted_rain_percentage'].plot()\n",
    "test_results['actual_rain_percentage'].plot()"
   ]
  },
  {
   "cell_type": "code",
   "execution_count": null,
   "id": "e2601cd9",
   "metadata": {},
   "outputs": [],
   "source": []
  }
 ],
 "metadata": {
  "kernelspec": {
   "display_name": "Python 3",
   "language": "python",
   "name": "python3"
  },
  "language_info": {
   "codemirror_mode": {
    "name": "ipython",
    "version": 3
   },
   "file_extension": ".py",
   "mimetype": "text/x-python",
   "name": "python",
   "nbconvert_exporter": "python",
   "pygments_lexer": "ipython3",
   "version": "3.6.10"
  }
 },
 "nbformat": 4,
 "nbformat_minor": 5
}
