{
 "cells": [
  {
   "cell_type": "code",
   "execution_count": 1,
   "id": "35cf125c",
   "metadata": {},
   "outputs": [
    {
     "name": "stdout",
     "output_type": "stream",
     "text": [
      "Requirement already satisfied: opendatasets in c:\\users\\48785\\anaconda3\\envs\\tensorflow_env\\lib\\site-packages (0.1.20)\n",
      "Requirement already satisfied: click in c:\\users\\48785\\anaconda3\\envs\\tensorflow_env\\lib\\site-packages (from opendatasets) (8.0.4)\n",
      "Requirement already satisfied: tqdm in c:\\users\\48785\\anaconda3\\envs\\tensorflow_env\\lib\\site-packages (from opendatasets) (4.62.3)\n",
      "Requirement already satisfied: kaggle in c:\\users\\48785\\anaconda3\\envs\\tensorflow_env\\lib\\site-packages (from opendatasets) (1.5.12)\n",
      "Requirement already satisfied: importlib-metadata in c:\\users\\48785\\anaconda3\\envs\\tensorflow_env\\lib\\site-packages (from click->opendatasets) (4.8.3)\n",
      "Requirement already satisfied: colorama in c:\\users\\48785\\anaconda3\\envs\\tensorflow_env\\lib\\site-packages (from click->opendatasets) (0.4.4)\n",
      "Requirement already satisfied: typing-extensions>=3.6.4 in c:\\users\\48785\\anaconda3\\envs\\tensorflow_env\\lib\\site-packages (from importlib-metadata->click->opendatasets) (3.7.4.3)\n",
      "Requirement already satisfied: zipp>=0.5 in c:\\users\\48785\\anaconda3\\envs\\tensorflow_env\\lib\\site-packages (from importlib-metadata->click->opendatasets) (3.6.0)\n",
      "Requirement already satisfied: python-slugify in c:\\users\\48785\\anaconda3\\envs\\tensorflow_env\\lib\\site-packages (from kaggle->opendatasets) (6.0.1)\n",
      "Requirement already satisfied: urllib3 in c:\\users\\48785\\anaconda3\\envs\\tensorflow_env\\lib\\site-packages (from kaggle->opendatasets) (1.26.8)\n",
      "Requirement already satisfied: python-dateutil in c:\\users\\48785\\anaconda3\\envs\\tensorflow_env\\lib\\site-packages (from kaggle->opendatasets) (2.8.2)\n",
      "Requirement already satisfied: six>=1.10 in c:\\users\\48785\\anaconda3\\envs\\tensorflow_env\\lib\\site-packages (from kaggle->opendatasets) (1.16.0)\n",
      "Requirement already satisfied: certifi in c:\\users\\48785\\anaconda3\\envs\\tensorflow_env\\lib\\site-packages (from kaggle->opendatasets) (2021.5.30)\n",
      "Requirement already satisfied: requests in c:\\users\\48785\\anaconda3\\envs\\tensorflow_env\\lib\\site-packages (from kaggle->opendatasets) (2.27.1)\n",
      "Requirement already satisfied: text-unidecode>=1.3 in c:\\users\\48785\\anaconda3\\envs\\tensorflow_env\\lib\\site-packages (from python-slugify->kaggle->opendatasets) (1.3)\n",
      "Requirement already satisfied: idna<4,>=2.5 in c:\\users\\48785\\anaconda3\\envs\\tensorflow_env\\lib\\site-packages (from requests->kaggle->opendatasets) (3.3)\n",
      "Requirement already satisfied: charset-normalizer~=2.0.0 in c:\\users\\48785\\anaconda3\\envs\\tensorflow_env\\lib\\site-packages (from requests->kaggle->opendatasets) (2.0.10)\n"
     ]
    }
   ],
   "source": [
    "! pip install opendatasets"
   ]
  },
  {
   "cell_type": "code",
   "execution_count": 2,
   "id": "e3a55244",
   "metadata": {},
   "outputs": [
    {
     "name": "stdout",
     "output_type": "stream",
     "text": [
      "Skipping, found downloaded files in \".\\formulaaihackathon2022\" (use force=True to force download)\n"
     ]
    },
    {
     "name": "stderr",
     "output_type": "stream",
     "text": [
      "C:\\Users\\48785\\anaconda3\\envs\\tensorflow_env\\lib\\site-packages\\IPython\\core\\interactiveshell.py:3072: DtypeWarning: Columns (21) have mixed types. Specify dtype option on import or set low_memory=False.\n",
      "  interactivity=interactivity, compiler=compiler, result=result)\n"
     ]
    }
   ],
   "source": [
    "#imports\n",
    "import datetime\n",
    "import pandas as pd\n",
    "import numpy as np\n",
    "import tensorflow as tf\n",
    "import opendatasets as od\n",
    "import matplotlib.pyplot as plt\n",
    "\n",
    "from tensorflow.keras.models import Sequential\n",
    "from tensorflow.keras.models import load_model\n",
    "from tensorflow.keras.layers import *\n",
    "from tensorflow.keras.callbacks import ModelCheckpoint\n",
    "from tensorflow.keras.losses import MeanSquaredError\n",
    "from tensorflow.keras.metrics import RootMeanSquaredError\n",
    "from tensorflow.keras.optimizers import Adam\n",
    "from tensorflow.keras.callbacks import EarlyStopping\n",
    "\n",
    "#setings\n",
    "#username:povergrrr\n",
    "#key:4ab9a2b112addb191cdbdf82bacaae50\n",
    "dataset_kaggle = \"https://www.kaggle.com/oracledevrel/\"\n",
    "dataset_folder = \"formulaaihackathon2022\"\n",
    "dataset_uri = dataset_kaggle+dataset_folder\n",
    "dataset_file = dataset_folder + \"/weather.csv\"\n",
    "DATATYPE = \"datetime64[ns]\"\n",
    "FORMAT = '%Y-%m.%d %H:%M:%S'\n",
    "DECISION = ['M_AIR_TEMPERATURE','M_TRACK_TEMPERATURE','M_RAIN_PERCENTAGE']\n",
    "TIMESTAMP = 'TIMESTAMP'\n",
    "WINDOW_SIZE = 30\n",
    "columns = [\n",
    "            'TIMESTAMP',\n",
    "            'M_SESSION_UID',\n",
    "            'M_TRACK_ID',\n",
    "            'M_TRACK_TEMPERATURE', #wywalone bo ma 98% korelacji z M_AIR_TEMP ~Rafał\n",
    "            'M_FORECAST_ACCURACY', \n",
    "            'M_AIR_TEMPERATURE', \n",
    "            'M_NUM_WEATHER_FORECAST_SAMPLES', \n",
    "            'M_WEATHER_FORECAST_SAMPLES_M_SESSION_TYPE',\n",
    "            'M_WEATHER_FORECAST_SAMPLES_M_WEATHER',\n",
    "            'M_WEATHER_FORECAST_SAMPLES_M_TRACK_TEMPERATURE', #korelacja na 99% ~Rafał\n",
    "            'M_TRACK_TEMPERATURE_CHANGE',\n",
    "            'M_WEATHER_FORECAST_SAMPLES_M_AIR_TEMPERATURE', #korelacja na 99% ~Rafał\n",
    "            'M_AIR_TEMPERATURE_CHANGE', \n",
    "            'M_RAIN_PERCENTAGE',\n",
    "            'M_WEATHER',\n",
    "            'M_TIME_OFFSET'\n",
    "        ]\n",
    "\n",
    "#reading data\n",
    "od.download(dataset_uri)\n",
    "df = pd.read_csv(dataset_folder+'/weather.csv')\n",
    "\n",
    "#TODO\n",
    "#jak usunąć ten czerwony błąd? co to za tajemnicza 21 kolumna?"
   ]
  },
  {
   "cell_type": "code",
   "execution_count": 3,
   "id": "d24c544d",
   "metadata": {},
   "outputs": [
    {
     "data": {
      "text/plain": [
       "(array([2664421.,       0.,  763609.,       0.,  101486.,       0.,\n",
       "              0.,       0.,       0.,   42812.]),\n",
       " array([0. , 0.5, 1. , 1.5, 2. , 2.5, 3. , 3.5, 4. , 4.5, 5. ]),\n",
       " <a list of 10 Patch objects>)"
      ]
     },
     "execution_count": 3,
     "metadata": {},
     "output_type": "execute_result"
    },
    {
     "data": {
      "image/png": "[encoded data removed]",
      "text/plain": [
       "<Figure size 432x288 with 1 Axes>"
      ]
     },
     "metadata": {
      "needs_background": "light"
     },
     "output_type": "display_data"
    }
   ],
   "source": [
    "#histogram przed czyszczeniem danych\n",
    "plt.hist(df['M_WEATHER'])"
   ]
  },
  {
   "cell_type": "code",
   "execution_count": 4,
   "id": "65926d23",
   "metadata": {},
   "outputs": [
    {
     "name": "stdout",
     "output_type": "stream",
     "text": [
      "Before cleaning: 3572328\n",
      "After cleaning:  140615\n"
     ]
    },
    {
     "data": {
      "text/html": [
       "<div>\n",
       "<style scoped>\n",
       "    .dataframe tbody tr th:only-of-type {\n",
       "        vertical-align: middle;\n",
       "    }\n",
       "\n",
       "    .dataframe tbody tr th {\n",
       "        vertical-align: top;\n",
       "    }\n",
       "\n",
       "    .dataframe thead th {\n",
       "        text-align: right;\n",
       "    }\n",
       "</style>\n",
       "<table border=\"1\" class=\"dataframe\">\n",
       "  <thead>\n",
       "    <tr style=\"text-align: right;\">\n",
       "      <th></th>\n",
       "      <th>TIMESTAMP</th>\n",
       "      <th>M_SESSION_UID</th>\n",
       "      <th>M_TRACK_ID</th>\n",
       "      <th>M_TRACK_TEMPERATURE</th>\n",
       "      <th>M_FORECAST_ACCURACY</th>\n",
       "      <th>M_AIR_TEMPERATURE</th>\n",
       "      <th>M_NUM_WEATHER_FORECAST_SAMPLES</th>\n",
       "      <th>M_WEATHER_FORECAST_SAMPLES_M_SESSION_TYPE</th>\n",
       "      <th>M_WEATHER_FORECAST_SAMPLES_M_WEATHER</th>\n",
       "      <th>M_WEATHER_FORECAST_SAMPLES_M_TRACK_TEMPERATURE</th>\n",
       "      <th>M_TRACK_TEMPERATURE_CHANGE</th>\n",
       "      <th>M_WEATHER_FORECAST_SAMPLES_M_AIR_TEMPERATURE</th>\n",
       "      <th>M_AIR_TEMPERATURE_CHANGE</th>\n",
       "      <th>M_RAIN_PERCENTAGE</th>\n",
       "      <th>M_WEATHER</th>\n",
       "    </tr>\n",
       "  </thead>\n",
       "  <tbody>\n",
       "    <tr>\n",
       "      <th>17038</th>\n",
       "      <td>2022-01-21 01:16:50</td>\n",
       "      <td>2939734289500381696</td>\n",
       "      <td>28</td>\n",
       "      <td>33</td>\n",
       "      <td>0</td>\n",
       "      <td>25</td>\n",
       "      <td>10</td>\n",
       "      <td>8.0</td>\n",
       "      <td>0.0</td>\n",
       "      <td>33.0</td>\n",
       "      <td>2.0</td>\n",
       "      <td>25.0</td>\n",
       "      <td>2.0</td>\n",
       "      <td>1.0</td>\n",
       "      <td>0</td>\n",
       "    </tr>\n",
       "    <tr>\n",
       "      <th>17041</th>\n",
       "      <td>2022-01-21 01:16:50</td>\n",
       "      <td>2939734289500381696</td>\n",
       "      <td>28</td>\n",
       "      <td>33</td>\n",
       "      <td>0</td>\n",
       "      <td>25</td>\n",
       "      <td>10</td>\n",
       "      <td>10.0</td>\n",
       "      <td>1.0</td>\n",
       "      <td>32.0</td>\n",
       "      <td>1.0</td>\n",
       "      <td>24.0</td>\n",
       "      <td>1.0</td>\n",
       "      <td>5.0</td>\n",
       "      <td>0</td>\n",
       "    </tr>\n",
       "    <tr>\n",
       "      <th>17048</th>\n",
       "      <td>2022-01-21 01:16:50</td>\n",
       "      <td>2939734289500381696</td>\n",
       "      <td>28</td>\n",
       "      <td>33</td>\n",
       "      <td>0</td>\n",
       "      <td>25</td>\n",
       "      <td>10</td>\n",
       "      <td>0.0</td>\n",
       "      <td>0.0</td>\n",
       "      <td>0.0</td>\n",
       "      <td>0.0</td>\n",
       "      <td>0.0</td>\n",
       "      <td>0.0</td>\n",
       "      <td>0.0</td>\n",
       "      <td>0</td>\n",
       "    </tr>\n",
       "    <tr>\n",
       "      <th>17115</th>\n",
       "      <td>2022-01-21 01:16:51</td>\n",
       "      <td>2939734289500381696</td>\n",
       "      <td>28</td>\n",
       "      <td>33</td>\n",
       "      <td>0</td>\n",
       "      <td>25</td>\n",
       "      <td>10</td>\n",
       "      <td>8.0</td>\n",
       "      <td>0.0</td>\n",
       "      <td>33.0</td>\n",
       "      <td>2.0</td>\n",
       "      <td>25.0</td>\n",
       "      <td>2.0</td>\n",
       "      <td>1.0</td>\n",
       "      <td>0</td>\n",
       "    </tr>\n",
       "    <tr>\n",
       "      <th>17118</th>\n",
       "      <td>2022-01-21 01:16:51</td>\n",
       "      <td>2939734289500381696</td>\n",
       "      <td>28</td>\n",
       "      <td>33</td>\n",
       "      <td>0</td>\n",
       "      <td>25</td>\n",
       "      <td>10</td>\n",
       "      <td>10.0</td>\n",
       "      <td>1.0</td>\n",
       "      <td>32.0</td>\n",
       "      <td>1.0</td>\n",
       "      <td>24.0</td>\n",
       "      <td>1.0</td>\n",
       "      <td>5.0</td>\n",
       "      <td>0</td>\n",
       "    </tr>\n",
       "    <tr>\n",
       "      <th>...</th>\n",
       "      <td>...</td>\n",
       "      <td>...</td>\n",
       "      <td>...</td>\n",
       "      <td>...</td>\n",
       "      <td>...</td>\n",
       "      <td>...</td>\n",
       "      <td>...</td>\n",
       "      <td>...</td>\n",
       "      <td>...</td>\n",
       "      <td>...</td>\n",
       "      <td>...</td>\n",
       "      <td>...</td>\n",
       "      <td>...</td>\n",
       "      <td>...</td>\n",
       "      <td>...</td>\n",
       "    </tr>\n",
       "    <tr>\n",
       "      <th>3572208</th>\n",
       "      <td>2022-01-16 00:14:50</td>\n",
       "      <td>10862815468833218560</td>\n",
       "      <td>28</td>\n",
       "      <td>33</td>\n",
       "      <td>0</td>\n",
       "      <td>25</td>\n",
       "      <td>10</td>\n",
       "      <td>10.0</td>\n",
       "      <td>0.0</td>\n",
       "      <td>33.0</td>\n",
       "      <td>2.0</td>\n",
       "      <td>25.0</td>\n",
       "      <td>2.0</td>\n",
       "      <td>2.0</td>\n",
       "      <td>0</td>\n",
       "    </tr>\n",
       "    <tr>\n",
       "      <th>3572215</th>\n",
       "      <td>2022-01-16 00:14:50</td>\n",
       "      <td>10862815468833218560</td>\n",
       "      <td>28</td>\n",
       "      <td>33</td>\n",
       "      <td>0</td>\n",
       "      <td>25</td>\n",
       "      <td>10</td>\n",
       "      <td>0.0</td>\n",
       "      <td>0.0</td>\n",
       "      <td>0.0</td>\n",
       "      <td>0.0</td>\n",
       "      <td>0.0</td>\n",
       "      <td>0.0</td>\n",
       "      <td>0.0</td>\n",
       "      <td>0</td>\n",
       "    </tr>\n",
       "    <tr>\n",
       "      <th>3572282</th>\n",
       "      <td>2022-01-16 00:14:51</td>\n",
       "      <td>10862815468833218560</td>\n",
       "      <td>28</td>\n",
       "      <td>33</td>\n",
       "      <td>0</td>\n",
       "      <td>25</td>\n",
       "      <td>10</td>\n",
       "      <td>8.0</td>\n",
       "      <td>0.0</td>\n",
       "      <td>33.0</td>\n",
       "      <td>2.0</td>\n",
       "      <td>25.0</td>\n",
       "      <td>2.0</td>\n",
       "      <td>4.0</td>\n",
       "      <td>0</td>\n",
       "    </tr>\n",
       "    <tr>\n",
       "      <th>3572285</th>\n",
       "      <td>2022-01-16 00:14:51</td>\n",
       "      <td>10862815468833218560</td>\n",
       "      <td>28</td>\n",
       "      <td>33</td>\n",
       "      <td>0</td>\n",
       "      <td>25</td>\n",
       "      <td>10</td>\n",
       "      <td>10.0</td>\n",
       "      <td>0.0</td>\n",
       "      <td>33.0</td>\n",
       "      <td>2.0</td>\n",
       "      <td>25.0</td>\n",
       "      <td>2.0</td>\n",
       "      <td>2.0</td>\n",
       "      <td>0</td>\n",
       "    </tr>\n",
       "    <tr>\n",
       "      <th>3572292</th>\n",
       "      <td>2022-01-16 00:14:51</td>\n",
       "      <td>10862815468833218560</td>\n",
       "      <td>28</td>\n",
       "      <td>33</td>\n",
       "      <td>0</td>\n",
       "      <td>25</td>\n",
       "      <td>10</td>\n",
       "      <td>0.0</td>\n",
       "      <td>0.0</td>\n",
       "      <td>0.0</td>\n",
       "      <td>0.0</td>\n",
       "      <td>0.0</td>\n",
       "      <td>0.0</td>\n",
       "      <td>0.0</td>\n",
       "      <td>0</td>\n",
       "    </tr>\n",
       "  </tbody>\n",
       "</table>\n",
       "<p>140615 rows × 15 columns</p>\n",
       "</div>"
      ],
      "text/plain": [
       "                  TIMESTAMP         M_SESSION_UID  M_TRACK_ID  \\\n",
       "17038   2022-01-21 01:16:50   2939734289500381696          28   \n",
       "17041   2022-01-21 01:16:50   2939734289500381696          28   \n",
       "17048   2022-01-21 01:16:50   2939734289500381696          28   \n",
       "17115   2022-01-21 01:16:51   2939734289500381696          28   \n",
       "17118   2022-01-21 01:16:51   2939734289500381696          28   \n",
       "...                     ...                   ...         ...   \n",
       "3572208 2022-01-16 00:14:50  10862815468833218560          28   \n",
       "3572215 2022-01-16 00:14:50  10862815468833218560          28   \n",
       "3572282 2022-01-16 00:14:51  10862815468833218560          28   \n",
       "3572285 2022-01-16 00:14:51  10862815468833218560          28   \n",
       "3572292 2022-01-16 00:14:51  10862815468833218560          28   \n",
       "\n",
       "         M_TRACK_TEMPERATURE  M_FORECAST_ACCURACY  M_AIR_TEMPERATURE  \\\n",
       "17038                     33                    0                 25   \n",
       "17041                     33                    0                 25   \n",
       "17048                     33                    0                 25   \n",
       "17115                     33                    0                 25   \n",
       "17118                     33                    0                 25   \n",
       "...                      ...                  ...                ...   \n",
       "3572208                   33                    0                 25   \n",
       "3572215                   33                    0                 25   \n",
       "3572282                   33                    0                 25   \n",
       "3572285                   33                    0                 25   \n",
       "3572292                   33                    0                 25   \n",
       "\n",
       "         M_NUM_WEATHER_FORECAST_SAMPLES  \\\n",
       "17038                                10   \n",
       "17041                                10   \n",
       "17048                                10   \n",
       "17115                                10   \n",
       "17118                                10   \n",
       "...                                 ...   \n",
       "3572208                              10   \n",
       "3572215                              10   \n",
       "3572282                              10   \n",
       "3572285                              10   \n",
       "3572292                              10   \n",
       "\n",
       "         M_WEATHER_FORECAST_SAMPLES_M_SESSION_TYPE  \\\n",
       "17038                                          8.0   \n",
       "17041                                         10.0   \n",
       "17048                                          0.0   \n",
       "17115                                          8.0   \n",
       "17118                                         10.0   \n",
       "...                                            ...   \n",
       "3572208                                       10.0   \n",
       "3572215                                        0.0   \n",
       "3572282                                        8.0   \n",
       "3572285                                       10.0   \n",
       "3572292                                        0.0   \n",
       "\n",
       "         M_WEATHER_FORECAST_SAMPLES_M_WEATHER  \\\n",
       "17038                                     0.0   \n",
       "17041                                     1.0   \n",
       "17048                                     0.0   \n",
       "17115                                     0.0   \n",
       "17118                                     1.0   \n",
       "...                                       ...   \n",
       "3572208                                   0.0   \n",
       "3572215                                   0.0   \n",
       "3572282                                   0.0   \n",
       "3572285                                   0.0   \n",
       "3572292                                   0.0   \n",
       "\n",
       "         M_WEATHER_FORECAST_SAMPLES_M_TRACK_TEMPERATURE  \\\n",
       "17038                                              33.0   \n",
       "17041                                              32.0   \n",
       "17048                                               0.0   \n",
       "17115                                              33.0   \n",
       "17118                                              32.0   \n",
       "...                                                 ...   \n",
       "3572208                                            33.0   \n",
       "3572215                                             0.0   \n",
       "3572282                                            33.0   \n",
       "3572285                                            33.0   \n",
       "3572292                                             0.0   \n",
       "\n",
       "         M_TRACK_TEMPERATURE_CHANGE  \\\n",
       "17038                           2.0   \n",
       "17041                           1.0   \n",
       "17048                           0.0   \n",
       "17115                           2.0   \n",
       "17118                           1.0   \n",
       "...                             ...   \n",
       "3572208                         2.0   \n",
       "3572215                         0.0   \n",
       "3572282                         2.0   \n",
       "3572285                         2.0   \n",
       "3572292                         0.0   \n",
       "\n",
       "         M_WEATHER_FORECAST_SAMPLES_M_AIR_TEMPERATURE  \\\n",
       "17038                                            25.0   \n",
       "17041                                            24.0   \n",
       "17048                                             0.0   \n",
       "17115                                            25.0   \n",
       "17118                                            24.0   \n",
       "...                                               ...   \n",
       "3572208                                          25.0   \n",
       "3572215                                           0.0   \n",
       "3572282                                          25.0   \n",
       "3572285                                          25.0   \n",
       "3572292                                           0.0   \n",
       "\n",
       "         M_AIR_TEMPERATURE_CHANGE  M_RAIN_PERCENTAGE  M_WEATHER  \n",
       "17038                         2.0                1.0          0  \n",
       "17041                         1.0                5.0          0  \n",
       "17048                         0.0                0.0          0  \n",
       "17115                         2.0                1.0          0  \n",
       "17118                         1.0                5.0          0  \n",
       "...                           ...                ...        ...  \n",
       "3572208                       2.0                2.0          0  \n",
       "3572215                       0.0                0.0          0  \n",
       "3572282                       2.0                4.0          0  \n",
       "3572285                       2.0                2.0          0  \n",
       "3572292                       0.0                0.0          0  \n",
       "\n",
       "[140615 rows x 15 columns]"
      ]
     },
     "execution_count": 4,
     "metadata": {},
     "output_type": "execute_result"
    }
   ],
   "source": [
    "#preprocesing data\n",
    "#z 3572328 do 532536 - usunięcie duplikatów\n",
    "#z 532536 do 486142 - usunięcie dropna M_WEATHER_FORECAST_SAMPLES_M_WEATHER\n",
    "#z 486142 do 475399 - usunięcie M_NUM_WEATHER_FORECAST_SAMPLES !=0\n",
    "#z 475399 do 140615 - zostawienie tylko tych row, dla których M_TIME_OFFSET == 0\n",
    "\n",
    "#cleaning data\n",
    "print(\"Before cleaning:\",str(len(df)))\n",
    "\n",
    "df = df[columns]\n",
    "df = df.dropna(subset=['M_WEATHER_FORECAST_SAMPLES_M_WEATHER'])\n",
    "df = df[df['M_NUM_WEATHER_FORECAST_SAMPLES']!=0]\n",
    "df = df[df['M_TIME_OFFSET']==0.0]       \n",
    "df = df.drop(['M_TIME_OFFSET'], axis=1)\n",
    "df = df.drop_duplicates()\n",
    "    \n",
    "print(\"After cleaning: \",str(len(df)))\n",
    "\n",
    "#seting column type\n",
    "if(df['TIMESTAMP'].dtypes != DATATYPE):\n",
    "    df['TIMESTAMP'] = df['TIMESTAMP'].apply(datetime.datetime.fromtimestamp)\n",
    "df['M_SESSION_UID'] = df['M_SESSION_UID'].apply(int)\n",
    "    \n",
    "df"
   ]
  },
  {
   "cell_type": "code",
   "execution_count": 5,
   "id": "41301545",
   "metadata": {},
   "outputs": [
    {
     "data": {
      "text/plain": [
       "(array([99887.,     0.,     0.,     0.,     0., 36905.,     0.,     0.,\n",
       "            0.,  3823.]),\n",
       " array([0. , 0.2, 0.4, 0.6, 0.8, 1. , 1.2, 1.4, 1.6, 1.8, 2. ]),\n",
       " <a list of 10 Patch objects>)"
      ]
     },
     "execution_count": 5,
     "metadata": {},
     "output_type": "execute_result"
    },
    {
     "data": {
      "image/png": "[encoded data removed]",
      "text/plain": [
       "<Figure size 432x288 with 1 Axes>"
      ]
     },
     "metadata": {
      "needs_background": "light"
     },
     "output_type": "display_data"
    }
   ],
   "source": [
    "#hostogram po czyszczeniu danych + wnioski: Z naszej analizy wynika, że sesje, gdzie M_WEATHER===5 to gry customowe, w któych gracz ustawił const wartrtosc M_WEATHER i to sprawdza ta kolumna: M_NUM_WEATHER_FORECAST_SAMPLES\n",
    "plt.hist(df['M_WEATHER'])"
   ]
  },
  {
   "cell_type": "code",
   "execution_count": 6,
   "id": "a5b22f73",
   "metadata": {},
   "outputs": [
    {
     "data": {
      "text/plain": [
       "((140585, 30, 3), (140585, 3))"
      ]
     },
     "execution_count": 6,
     "metadata": {},
     "output_type": "execute_result"
    },
    {
     "data": {
      "image/png": "[encoded data removed]",
      "text/plain": [
       "<Figure size 432x288 with 1 Axes>"
      ]
     },
     "metadata": {
      "needs_background": "light"
     },
     "output_type": "display_data"
    }
   ],
   "source": [
    "#LSTM - prepere data for models\n",
    "\n",
    "df_1 = df.drop(['M_SESSION_UID'], axis=1)\n",
    "df_2 = df.drop(['M_TRACK_ID'], axis=1)\n",
    "df_3 = df.drop(['M_SESSION_UID', 'M_TRACK_ID'], axis=1)\n",
    "\n",
    "df_1.index = pd.to_datetime(df_1[TIMESTAMP], format=FORMAT)\n",
    "df_2.index = pd.to_datetime(df_2[TIMESTAMP], format=FORMAT)\n",
    "df_3.index = pd.to_datetime(df_3[TIMESTAMP], format=FORMAT)\n",
    "\n",
    "#fun \n",
    "def df_to_X_y(df, window_size=30):\n",
    "  df_as_np =df.to_numpy()\n",
    "  X = []\n",
    "  y = []\n",
    "  for i in range(len(df_as_np)-window_size):\n",
    "    row = [r for r in df_as_np[i:i+window_size]]\n",
    "    X.append(row)\n",
    "    label = df_as_np[i+window_size]\n",
    "    y.append(label)\n",
    "  return np.array(X), np.array(y)\n",
    "\n",
    "\n",
    "\n",
    "# Sesion ID (_1)\n",
    "\n",
    "\n",
    "\n",
    "\n",
    "# Track ID (_2)\n",
    "\n",
    "\n",
    "# ALL (_3)\n",
    "temp = df_3[DECISION]\n",
    "temp.plot()\n",
    "X, y = df_to_X_y(temp, WINDOW_SIZE)\n",
    "X.shape, y.shape\n",
    "# number of rows = 140610 \n",
    "\n",
    "#TODO model"
   ]
  },
  {
   "cell_type": "code",
   "execution_count": 7,
   "id": "fd985220",
   "metadata": {},
   "outputs": [
    {
     "data": {
      "text/plain": [
       "array([[[25., 33.,  1.],\n",
       "        [25., 33.,  5.],\n",
       "        [25., 33.,  0.],\n",
       "        ...,\n",
       "        [25., 33.,  1.],\n",
       "        [25., 33.,  5.],\n",
       "        [25., 33.,  0.]],\n",
       "\n",
       "       [[25., 33.,  5.],\n",
       "        [25., 33.,  0.],\n",
       "        [25., 33.,  1.],\n",
       "        ...,\n",
       "        [25., 33.,  5.],\n",
       "        [25., 33.,  0.],\n",
       "        [25., 33.,  1.]],\n",
       "\n",
       "       [[25., 33.,  0.],\n",
       "        [25., 33.,  1.],\n",
       "        [25., 33.,  5.],\n",
       "        ...,\n",
       "        [25., 33.,  0.],\n",
       "        [25., 33.,  1.],\n",
       "        [25., 33.,  5.]],\n",
       "\n",
       "       ...,\n",
       "\n",
       "       [[25., 33.,  4.],\n",
       "        [25., 33.,  2.],\n",
       "        [25., 33.,  0.],\n",
       "        ...,\n",
       "        [25., 33.,  4.],\n",
       "        [25., 33.,  2.],\n",
       "        [25., 33.,  0.]],\n",
       "\n",
       "       [[25., 33.,  2.],\n",
       "        [25., 33.,  0.],\n",
       "        [25., 33.,  4.],\n",
       "        ...,\n",
       "        [25., 33.,  2.],\n",
       "        [25., 33.,  0.],\n",
       "        [25., 33.,  4.]],\n",
       "\n",
       "       [[25., 33.,  0.],\n",
       "        [25., 33.,  4.],\n",
       "        [25., 33.,  2.],\n",
       "        ...,\n",
       "        [25., 33.,  0.],\n",
       "        [25., 33.,  4.],\n",
       "        [25., 33.,  2.]]])"
      ]
     },
     "execution_count": 7,
     "metadata": {},
     "output_type": "execute_result"
    }
   ],
   "source": [
    "X"
   ]
  },
  {
   "cell_type": "code",
   "execution_count": 8,
   "id": "89425c13",
   "metadata": {},
   "outputs": [
    {
     "name": "stdout",
     "output_type": "stream",
     "text": [
      "(105458, 30, 3) (105458, 3)\n",
      "(17576, 30, 3) (17576, 3)\n",
      "(17551, 30, 3) (17551, 3)\n",
      "Model: \"sequential\"\n",
      "_________________________________________________________________\n",
      "Layer (type)                 Output Shape              Param #   \n",
      "=================================================================\n",
      "lstm (LSTM)                  (None, 64)                17408     \n",
      "_________________________________________________________________\n",
      "dense (Dense)                (None, 32)                2080      \n",
      "_________________________________________________________________\n",
      "dense_1 (Dense)              (None, 3)                 99        \n",
      "=================================================================\n",
      "Total params: 19,587\n",
      "Trainable params: 19,587\n",
      "Non-trainable params: 0\n",
      "_________________________________________________________________\n",
      "Model: \"sequential\"\n",
      "_________________________________________________________________\n",
      "Layer (type)                 Output Shape              Param #   \n",
      "=================================================================\n",
      "lstm (LSTM)                  (None, 64)                17408     \n",
      "_________________________________________________________________\n",
      "dense (Dense)                (None, 32)                2080      \n",
      "_________________________________________________________________\n",
      "dense_1 (Dense)              (None, 3)                 99        \n",
      "=================================================================\n",
      "Total params: 19,587\n",
      "Trainable params: 19,587\n",
      "Non-trainable params: 0\n",
      "_________________________________________________________________\n"
     ]
    }
   ],
   "source": [
    "#model variant 3 (ALL _3)\n",
    "\n",
    "# split to train validation\n",
    "X_train, y_train = X[:105458], y[:105458] #105458 rows\n",
    "X_val, y_val = X[105458:123034], y[105458:123034] #17576 rows\n",
    "X_test, y_test = X[123034:], y[123034:] #17576 rows\n",
    "\n",
    "print(X_train.shape, y_train.shape)\n",
    "print(X_val.shape, y_val.shape)\n",
    "print(X_test.shape, y_test.shape)\n",
    "\n",
    "model1 = Sequential()\n",
    "model1.add(InputLayer((12, 3)))\n",
    "model1.add(LSTM(64))\n",
    "model1.add(Dense(32, activation='tanh'))\n",
    "model1.add(Dense(3))\n",
    "\n",
    "model1.summary()\n",
    "\n",
    "# we will monitor when to stop epochs, it depends on val_loss and it wont stop before 3 epochs no matter what\n",
    "early_stop = EarlyStopping(monitor='val_loss', mode='min', patience=3)\n",
    "cp1 = ModelCheckpoint('model1/', save_best_only=True)\n",
    "model1.compile(loss=MeanSquaredError(), optimizer=Adam(learning_rate=0.0001), metrics=[RootMeanSquaredError()])\n",
    "model1.summary()"
   ]
  },
  {
   "cell_type": "code",
   "execution_count": 9,
   "id": "74fb520c",
   "metadata": {},
   "outputs": [
    {
     "name": "stdout",
     "output_type": "stream",
     "text": [
      "Epoch 1/10\n",
      "WARNING:tensorflow:Model was constructed with shape (None, 12, 3) for input KerasTensor(type_spec=TensorSpec(shape=(None, 12, 3), dtype=tf.float32, name='input_1'), name='input_1', description=\"created by layer 'input_1'\"), but it was called on an input with incompatible shape (None, 30, 3).\n",
      "WARNING:tensorflow:Model was constructed with shape (None, 12, 3) for input KerasTensor(type_spec=TensorSpec(shape=(None, 12, 3), dtype=tf.float32, name='input_1'), name='input_1', description=\"created by layer 'input_1'\"), but it was called on an input with incompatible shape (None, 30, 3).\n",
      "3291/3296 [============================>.] - ETA: 0s - loss: 285.2298 - root_mean_squared_error: 16.8888WARNING:tensorflow:Model was constructed with shape (None, 12, 3) for input KerasTensor(type_spec=TensorSpec(shape=(None, 12, 3), dtype=tf.float32, name='input_1'), name='input_1', description=\"created by layer 'input_1'\"), but it was called on an input with incompatible shape (None, 30, 3).\n",
      "3296/3296 [==============================] - 20s 6ms/step - loss: 285.0488 - root_mean_squared_error: 16.8834 - val_loss: 159.2742 - val_root_mean_squared_error: 12.6204\n"
     ]
    },
    {
     "name": "stderr",
     "output_type": "stream",
     "text": [
      "WARNING:absl:Found untraced functions such as lstm_cell_layer_call_fn, lstm_cell_layer_call_and_return_conditional_losses, lstm_cell_layer_call_fn, lstm_cell_layer_call_and_return_conditional_losses, lstm_cell_layer_call_and_return_conditional_losses while saving (showing 5 of 5). These functions will not be directly callable after loading.\n"
     ]
    },
    {
     "name": "stdout",
     "output_type": "stream",
     "text": [
      "INFO:tensorflow:Assets written to: model1\\assets\n"
     ]
    },
    {
     "name": "stderr",
     "output_type": "stream",
     "text": [
      "INFO:tensorflow:Assets written to: model1\\assets\n"
     ]
    },
    {
     "name": "stdout",
     "output_type": "stream",
     "text": [
      "Epoch 2/10\n",
      "3296/3296 [==============================] - 19s 6ms/step - loss: 89.4370 - root_mean_squared_error: 9.4571 - val_loss: 47.3693 - val_root_mean_squared_error: 6.8825\n"
     ]
    },
    {
     "name": "stderr",
     "output_type": "stream",
     "text": [
      "WARNING:absl:Found untraced functions such as lstm_cell_layer_call_fn, lstm_cell_layer_call_and_return_conditional_losses, lstm_cell_layer_call_fn, lstm_cell_layer_call_and_return_conditional_losses, lstm_cell_layer_call_and_return_conditional_losses while saving (showing 5 of 5). These functions will not be directly callable after loading.\n"
     ]
    },
    {
     "name": "stdout",
     "output_type": "stream",
     "text": [
      "INFO:tensorflow:Assets written to: model1\\assets\n"
     ]
    },
    {
     "name": "stderr",
     "output_type": "stream",
     "text": [
      "INFO:tensorflow:Assets written to: model1\\assets\n"
     ]
    },
    {
     "name": "stdout",
     "output_type": "stream",
     "text": [
      "Epoch 3/10\n",
      "3296/3296 [==============================] - 20s 6ms/step - loss: 20.8536 - root_mean_squared_error: 4.5666 - val_loss: 22.3628 - val_root_mean_squared_error: 4.7289\n"
     ]
    },
    {
     "name": "stderr",
     "output_type": "stream",
     "text": [
      "WARNING:absl:Found untraced functions such as lstm_cell_layer_call_fn, lstm_cell_layer_call_and_return_conditional_losses, lstm_cell_layer_call_fn, lstm_cell_layer_call_and_return_conditional_losses, lstm_cell_layer_call_and_return_conditional_losses while saving (showing 5 of 5). These functions will not be directly callable after loading.\n"
     ]
    },
    {
     "name": "stdout",
     "output_type": "stream",
     "text": [
      "INFO:tensorflow:Assets written to: model1\\assets\n"
     ]
    },
    {
     "name": "stderr",
     "output_type": "stream",
     "text": [
      "INFO:tensorflow:Assets written to: model1\\assets\n"
     ]
    },
    {
     "name": "stdout",
     "output_type": "stream",
     "text": [
      "Epoch 4/10\n",
      "3296/3296 [==============================] - 19s 6ms/step - loss: 8.4169 - root_mean_squared_error: 2.9012 - val_loss: 8.6444 - val_root_mean_squared_error: 2.9401\n"
     ]
    },
    {
     "name": "stderr",
     "output_type": "stream",
     "text": [
      "WARNING:absl:Found untraced functions such as lstm_cell_layer_call_fn, lstm_cell_layer_call_and_return_conditional_losses, lstm_cell_layer_call_fn, lstm_cell_layer_call_and_return_conditional_losses, lstm_cell_layer_call_and_return_conditional_losses while saving (showing 5 of 5). These functions will not be directly callable after loading.\n"
     ]
    },
    {
     "name": "stdout",
     "output_type": "stream",
     "text": [
      "INFO:tensorflow:Assets written to: model1\\assets\n"
     ]
    },
    {
     "name": "stderr",
     "output_type": "stream",
     "text": [
      "INFO:tensorflow:Assets written to: model1\\assets\n"
     ]
    },
    {
     "name": "stdout",
     "output_type": "stream",
     "text": [
      "Epoch 5/10\n",
      "3296/3296 [==============================] - 20s 6ms/step - loss: 4.1636 - root_mean_squared_error: 2.0405 - val_loss: 6.4875 - val_root_mean_squared_error: 2.5471\n"
     ]
    },
    {
     "name": "stderr",
     "output_type": "stream",
     "text": [
      "WARNING:absl:Found untraced functions such as lstm_cell_layer_call_fn, lstm_cell_layer_call_and_return_conditional_losses, lstm_cell_layer_call_fn, lstm_cell_layer_call_and_return_conditional_losses, lstm_cell_layer_call_and_return_conditional_losses while saving (showing 5 of 5). These functions will not be directly callable after loading.\n"
     ]
    },
    {
     "name": "stdout",
     "output_type": "stream",
     "text": [
      "INFO:tensorflow:Assets written to: model1\\assets\n"
     ]
    },
    {
     "name": "stderr",
     "output_type": "stream",
     "text": [
      "INFO:tensorflow:Assets written to: model1\\assets\n"
     ]
    },
    {
     "name": "stdout",
     "output_type": "stream",
     "text": [
      "Epoch 6/10\n",
      "3296/3296 [==============================] - 20s 6ms/step - loss: 3.3735 - root_mean_squared_error: 1.8367 - val_loss: 4.1318 - val_root_mean_squared_error: 2.0327\n"
     ]
    },
    {
     "name": "stderr",
     "output_type": "stream",
     "text": [
      "WARNING:absl:Found untraced functions such as lstm_cell_layer_call_fn, lstm_cell_layer_call_and_return_conditional_losses, lstm_cell_layer_call_fn, lstm_cell_layer_call_and_return_conditional_losses, lstm_cell_layer_call_and_return_conditional_losses while saving (showing 5 of 5). These functions will not be directly callable after loading.\n"
     ]
    },
    {
     "name": "stdout",
     "output_type": "stream",
     "text": [
      "INFO:tensorflow:Assets written to: model1\\assets\n"
     ]
    },
    {
     "name": "stderr",
     "output_type": "stream",
     "text": [
      "INFO:tensorflow:Assets written to: model1\\assets\n"
     ]
    },
    {
     "name": "stdout",
     "output_type": "stream",
     "text": [
      "Epoch 7/10\n",
      "3296/3296 [==============================] - 20s 6ms/step - loss: 2.1939 - root_mean_squared_error: 1.4812 - val_loss: 1.6552 - val_root_mean_squared_error: 1.2866\n"
     ]
    },
    {
     "name": "stderr",
     "output_type": "stream",
     "text": [
      "WARNING:absl:Found untraced functions such as lstm_cell_layer_call_fn, lstm_cell_layer_call_and_return_conditional_losses, lstm_cell_layer_call_fn, lstm_cell_layer_call_and_return_conditional_losses, lstm_cell_layer_call_and_return_conditional_losses while saving (showing 5 of 5). These functions will not be directly callable after loading.\n"
     ]
    },
    {
     "name": "stdout",
     "output_type": "stream",
     "text": [
      "INFO:tensorflow:Assets written to: model1\\assets\n"
     ]
    },
    {
     "name": "stderr",
     "output_type": "stream",
     "text": [
      "INFO:tensorflow:Assets written to: model1\\assets\n"
     ]
    },
    {
     "name": "stdout",
     "output_type": "stream",
     "text": [
      "Epoch 8/10\n",
      "3296/3296 [==============================] - 20s 6ms/step - loss: 1.4048 - root_mean_squared_error: 1.1852 - val_loss: 0.8683 - val_root_mean_squared_error: 0.9318\n"
     ]
    },
    {
     "name": "stderr",
     "output_type": "stream",
     "text": [
      "WARNING:absl:Found untraced functions such as lstm_cell_layer_call_fn, lstm_cell_layer_call_and_return_conditional_losses, lstm_cell_layer_call_fn, lstm_cell_layer_call_and_return_conditional_losses, lstm_cell_layer_call_and_return_conditional_losses while saving (showing 5 of 5). These functions will not be directly callable after loading.\n"
     ]
    },
    {
     "name": "stdout",
     "output_type": "stream",
     "text": [
      "INFO:tensorflow:Assets written to: model1\\assets\n"
     ]
    },
    {
     "name": "stderr",
     "output_type": "stream",
     "text": [
      "INFO:tensorflow:Assets written to: model1\\assets\n"
     ]
    },
    {
     "name": "stdout",
     "output_type": "stream",
     "text": [
      "Epoch 9/10\n",
      "3296/3296 [==============================] - 21s 6ms/step - loss: 1.0717 - root_mean_squared_error: 1.0352 - val_loss: 0.6939 - val_root_mean_squared_error: 0.8330\n"
     ]
    },
    {
     "name": "stderr",
     "output_type": "stream",
     "text": [
      "WARNING:absl:Found untraced functions such as lstm_cell_layer_call_fn, lstm_cell_layer_call_and_return_conditional_losses, lstm_cell_layer_call_fn, lstm_cell_layer_call_and_return_conditional_losses, lstm_cell_layer_call_and_return_conditional_losses while saving (showing 5 of 5). These functions will not be directly callable after loading.\n"
     ]
    },
    {
     "name": "stdout",
     "output_type": "stream",
     "text": [
      "INFO:tensorflow:Assets written to: model1\\assets\n"
     ]
    },
    {
     "name": "stderr",
     "output_type": "stream",
     "text": [
      "INFO:tensorflow:Assets written to: model1\\assets\n"
     ]
    },
    {
     "name": "stdout",
     "output_type": "stream",
     "text": [
      "Epoch 10/10\n",
      "3296/3296 [==============================] - 22s 7ms/step - loss: 0.9313 - root_mean_squared_error: 0.9651 - val_loss: 0.6228 - val_root_mean_squared_error: 0.7892\n"
     ]
    },
    {
     "name": "stderr",
     "output_type": "stream",
     "text": [
      "WARNING:absl:Found untraced functions such as lstm_cell_layer_call_fn, lstm_cell_layer_call_and_return_conditional_losses, lstm_cell_layer_call_fn, lstm_cell_layer_call_and_return_conditional_losses, lstm_cell_layer_call_and_return_conditional_losses while saving (showing 5 of 5). These functions will not be directly callable after loading.\n"
     ]
    },
    {
     "name": "stdout",
     "output_type": "stream",
     "text": [
      "INFO:tensorflow:Assets written to: model1\\assets\n"
     ]
    },
    {
     "name": "stderr",
     "output_type": "stream",
     "text": [
      "INFO:tensorflow:Assets written to: model1\\assets\n"
     ]
    }
   ],
   "source": [
    "model1.fit(X_train, y_train, validation_data=(X_val, y_val), epochs=10, callbacks=[cp1, early_stop])\n",
    "model1 = load_model('model1/')"
   ]
  },
  {
   "cell_type": "code",
   "execution_count": 10,
   "id": "54ba922b",
   "metadata": {},
   "outputs": [
    {
     "name": "stdout",
     "output_type": "stream",
     "text": [
      "WARNING:tensorflow:Model was constructed with shape (None, 12, 3) for input KerasTensor(type_spec=TensorSpec(shape=(None, 12, 3), dtype=tf.float32, name='input_1'), name='input_1', description=\"created by layer 'input_1'\"), but it was called on an input with incompatible shape (None, 30, 3).\n"
     ]
    },
    {
     "name": "stderr",
     "output_type": "stream",
     "text": [
      "WARNING:tensorflow:Model was constructed with shape (None, 12, 3) for input KerasTensor(type_spec=TensorSpec(shape=(None, 12, 3), dtype=tf.float32, name='input_1'), name='input_1', description=\"created by layer 'input_1'\"), but it was called on an input with incompatible shape (None, 30, 3).\n"
     ]
    },
    {
     "name": "stdout",
     "output_type": "stream",
     "text": [
      "(105458, 3)\n",
      "(105458, 3)\n"
     ]
    }
   ],
   "source": [
    "# we flatten becouse we dont want to have the X=[[[3], [4], [5], [6], [7]]] -> X=[[3, 4, 5, 6, 7]] inner brackets\n",
    "train_predictions = model1.predict(X_train)\n",
    "print(train_predictions.shape)\n",
    "print(y_train.shape)"
   ]
  },
  {
   "cell_type": "code",
   "execution_count": 11,
   "id": "71d4cafb",
   "metadata": {},
   "outputs": [
    {
     "data": {
      "text/html": [
       "<div>\n",
       "<style scoped>\n",
       "    .dataframe tbody tr th:only-of-type {\n",
       "        vertical-align: middle;\n",
       "    }\n",
       "\n",
       "    .dataframe tbody tr th {\n",
       "        vertical-align: top;\n",
       "    }\n",
       "\n",
       "    .dataframe thead th {\n",
       "        text-align: right;\n",
       "    }\n",
       "</style>\n",
       "<table border=\"1\" class=\"dataframe\">\n",
       "  <thead>\n",
       "    <tr style=\"text-align: right;\">\n",
       "      <th></th>\n",
       "      <th>Train_air_temp</th>\n",
       "      <th>Train_track_temp</th>\n",
       "      <th>Train_rain_percentage</th>\n",
       "      <th>Actuals_air_temp</th>\n",
       "      <th>Actuals_track_temp</th>\n",
       "      <th>Actuals_rain_percentage</th>\n",
       "    </tr>\n",
       "  </thead>\n",
       "  <tbody>\n",
       "    <tr>\n",
       "      <th>0</th>\n",
       "      <td>24.805906</td>\n",
       "      <td>32.661724</td>\n",
       "      <td>2.404823</td>\n",
       "      <td>25.0</td>\n",
       "      <td>33.0</td>\n",
       "      <td>1.0</td>\n",
       "    </tr>\n",
       "    <tr>\n",
       "      <th>1</th>\n",
       "      <td>25.099287</td>\n",
       "      <td>32.738232</td>\n",
       "      <td>3.495519</td>\n",
       "      <td>25.0</td>\n",
       "      <td>33.0</td>\n",
       "      <td>5.0</td>\n",
       "    </tr>\n",
       "    <tr>\n",
       "      <th>2</th>\n",
       "      <td>25.040199</td>\n",
       "      <td>32.583809</td>\n",
       "      <td>-0.022486</td>\n",
       "      <td>25.0</td>\n",
       "      <td>33.0</td>\n",
       "      <td>0.0</td>\n",
       "    </tr>\n",
       "    <tr>\n",
       "      <th>3</th>\n",
       "      <td>24.805906</td>\n",
       "      <td>32.661724</td>\n",
       "      <td>2.404823</td>\n",
       "      <td>25.0</td>\n",
       "      <td>33.0</td>\n",
       "      <td>1.0</td>\n",
       "    </tr>\n",
       "    <tr>\n",
       "      <th>4</th>\n",
       "      <td>25.099287</td>\n",
       "      <td>32.738232</td>\n",
       "      <td>3.495519</td>\n",
       "      <td>25.0</td>\n",
       "      <td>33.0</td>\n",
       "      <td>5.0</td>\n",
       "    </tr>\n",
       "    <tr>\n",
       "      <th>...</th>\n",
       "      <td>...</td>\n",
       "      <td>...</td>\n",
       "      <td>...</td>\n",
       "      <td>...</td>\n",
       "      <td>...</td>\n",
       "      <td>...</td>\n",
       "    </tr>\n",
       "    <tr>\n",
       "      <th>105453</th>\n",
       "      <td>28.113497</td>\n",
       "      <td>35.080402</td>\n",
       "      <td>1.131231</td>\n",
       "      <td>28.0</td>\n",
       "      <td>35.0</td>\n",
       "      <td>1.0</td>\n",
       "    </tr>\n",
       "    <tr>\n",
       "      <th>105454</th>\n",
       "      <td>28.234198</td>\n",
       "      <td>35.202824</td>\n",
       "      <td>1.201681</td>\n",
       "      <td>28.0</td>\n",
       "      <td>35.0</td>\n",
       "      <td>2.0</td>\n",
       "    </tr>\n",
       "    <tr>\n",
       "      <th>105455</th>\n",
       "      <td>27.985836</td>\n",
       "      <td>34.956985</td>\n",
       "      <td>0.606188</td>\n",
       "      <td>28.0</td>\n",
       "      <td>35.0</td>\n",
       "      <td>0.0</td>\n",
       "    </tr>\n",
       "    <tr>\n",
       "      <th>105456</th>\n",
       "      <td>27.788643</td>\n",
       "      <td>35.199932</td>\n",
       "      <td>2.019768</td>\n",
       "      <td>28.0</td>\n",
       "      <td>35.0</td>\n",
       "      <td>2.0</td>\n",
       "    </tr>\n",
       "    <tr>\n",
       "      <th>105457</th>\n",
       "      <td>27.977417</td>\n",
       "      <td>35.169182</td>\n",
       "      <td>6.057091</td>\n",
       "      <td>28.0</td>\n",
       "      <td>35.0</td>\n",
       "      <td>6.0</td>\n",
       "    </tr>\n",
       "  </tbody>\n",
       "</table>\n",
       "<p>105458 rows × 6 columns</p>\n",
       "</div>"
      ],
      "text/plain": [
       "        Train_air_temp  Train_track_temp  Train_rain_percentage  \\\n",
       "0            24.805906         32.661724               2.404823   \n",
       "1            25.099287         32.738232               3.495519   \n",
       "2            25.040199         32.583809              -0.022486   \n",
       "3            24.805906         32.661724               2.404823   \n",
       "4            25.099287         32.738232               3.495519   \n",
       "...                ...               ...                    ...   \n",
       "105453       28.113497         35.080402               1.131231   \n",
       "105454       28.234198         35.202824               1.201681   \n",
       "105455       27.985836         34.956985               0.606188   \n",
       "105456       27.788643         35.199932               2.019768   \n",
       "105457       27.977417         35.169182               6.057091   \n",
       "\n",
       "        Actuals_air_temp  Actuals_track_temp  Actuals_rain_percentage  \n",
       "0                   25.0                33.0                      1.0  \n",
       "1                   25.0                33.0                      5.0  \n",
       "2                   25.0                33.0                      0.0  \n",
       "3                   25.0                33.0                      1.0  \n",
       "4                   25.0                33.0                      5.0  \n",
       "...                  ...                 ...                      ...  \n",
       "105453              28.0                35.0                      1.0  \n",
       "105454              28.0                35.0                      2.0  \n",
       "105455              28.0                35.0                      0.0  \n",
       "105456              28.0                35.0                      2.0  \n",
       "105457              28.0                35.0                      6.0  \n",
       "\n",
       "[105458 rows x 6 columns]"
      ]
     },
     "execution_count": 11,
     "metadata": {},
     "output_type": "execute_result"
    }
   ],
   "source": [
    "# we make a dataframe from results put in dict, and show it below\n",
    "train_results = pd.DataFrame(data={'Train_air_temp':train_predictions[:,[0,]].flatten(),\n",
    "                                   'Train_track_temp':train_predictions[:,[1,]].flatten(),\n",
    "                                   'Train_rain_percentage':train_predictions[:,[2,]].flatten(),\n",
    "                                   'Actuals_air_temp':y_train[:,[0,]].flatten(),\n",
    "                                   'Actuals_track_temp':y_train[:,[1,]].flatten(),\n",
    "                                   'Actuals_rain_percentage':y_train[:,[2,]].flatten()\n",
    "                                  })\n",
    "train_results"
   ]
  },
  {
   "cell_type": "code",
   "execution_count": 12,
   "id": "a370e1ab",
   "metadata": {},
   "outputs": [],
   "source": [
    "# makind predictions on X_test data\n",
    "test_predictions = model1.predict(X_test)"
   ]
  },
  {
   "cell_type": "code",
   "execution_count": 13,
   "id": "b632b20f",
   "metadata": {},
   "outputs": [
    {
     "data": {
      "text/html": [
       "<div>\n",
       "<style scoped>\n",
       "    .dataframe tbody tr th:only-of-type {\n",
       "        vertical-align: middle;\n",
       "    }\n",
       "\n",
       "    .dataframe tbody tr th {\n",
       "        vertical-align: top;\n",
       "    }\n",
       "\n",
       "    .dataframe thead th {\n",
       "        text-align: right;\n",
       "    }\n",
       "</style>\n",
       "<table border=\"1\" class=\"dataframe\">\n",
       "  <thead>\n",
       "    <tr style=\"text-align: right;\">\n",
       "      <th></th>\n",
       "      <th>predicted_air_temp</th>\n",
       "      <th>predicted_track_temp</th>\n",
       "      <th>predicted_rain_percentage</th>\n",
       "      <th>Actuals_air_temp</th>\n",
       "      <th>Actuals_track_temp</th>\n",
       "      <th>Actuals_rain_percentage</th>\n",
       "    </tr>\n",
       "  </thead>\n",
       "  <tbody>\n",
       "    <tr>\n",
       "      <th>0</th>\n",
       "      <td>27.985836</td>\n",
       "      <td>34.956985</td>\n",
       "      <td>0.606188</td>\n",
       "      <td>28.0</td>\n",
       "      <td>35.0</td>\n",
       "      <td>0.0</td>\n",
       "    </tr>\n",
       "    <tr>\n",
       "      <th>1</th>\n",
       "      <td>27.788643</td>\n",
       "      <td>35.199932</td>\n",
       "      <td>2.019768</td>\n",
       "      <td>28.0</td>\n",
       "      <td>35.0</td>\n",
       "      <td>2.0</td>\n",
       "    </tr>\n",
       "    <tr>\n",
       "      <th>2</th>\n",
       "      <td>27.977417</td>\n",
       "      <td>35.169182</td>\n",
       "      <td>6.057091</td>\n",
       "      <td>28.0</td>\n",
       "      <td>35.0</td>\n",
       "      <td>6.0</td>\n",
       "    </tr>\n",
       "    <tr>\n",
       "      <th>3</th>\n",
       "      <td>27.884140</td>\n",
       "      <td>34.860176</td>\n",
       "      <td>0.877592</td>\n",
       "      <td>28.0</td>\n",
       "      <td>35.0</td>\n",
       "      <td>1.0</td>\n",
       "    </tr>\n",
       "    <tr>\n",
       "      <th>4</th>\n",
       "      <td>28.010588</td>\n",
       "      <td>34.947502</td>\n",
       "      <td>0.631726</td>\n",
       "      <td>28.0</td>\n",
       "      <td>35.0</td>\n",
       "      <td>1.0</td>\n",
       "    </tr>\n",
       "    <tr>\n",
       "      <th>...</th>\n",
       "      <td>...</td>\n",
       "      <td>...</td>\n",
       "      <td>...</td>\n",
       "      <td>...</td>\n",
       "      <td>...</td>\n",
       "      <td>...</td>\n",
       "    </tr>\n",
       "    <tr>\n",
       "      <th>17546</th>\n",
       "      <td>24.809401</td>\n",
       "      <td>32.665504</td>\n",
       "      <td>2.234154</td>\n",
       "      <td>25.0</td>\n",
       "      <td>33.0</td>\n",
       "      <td>2.0</td>\n",
       "    </tr>\n",
       "    <tr>\n",
       "      <th>17547</th>\n",
       "      <td>25.075920</td>\n",
       "      <td>32.821068</td>\n",
       "      <td>0.606133</td>\n",
       "      <td>25.0</td>\n",
       "      <td>33.0</td>\n",
       "      <td>0.0</td>\n",
       "    </tr>\n",
       "    <tr>\n",
       "      <th>17548</th>\n",
       "      <td>25.207640</td>\n",
       "      <td>32.903877</td>\n",
       "      <td>3.809485</td>\n",
       "      <td>25.0</td>\n",
       "      <td>33.0</td>\n",
       "      <td>4.0</td>\n",
       "    </tr>\n",
       "    <tr>\n",
       "      <th>17549</th>\n",
       "      <td>24.809401</td>\n",
       "      <td>32.665504</td>\n",
       "      <td>2.234154</td>\n",
       "      <td>25.0</td>\n",
       "      <td>33.0</td>\n",
       "      <td>2.0</td>\n",
       "    </tr>\n",
       "    <tr>\n",
       "      <th>17550</th>\n",
       "      <td>25.075920</td>\n",
       "      <td>32.821068</td>\n",
       "      <td>0.606133</td>\n",
       "      <td>25.0</td>\n",
       "      <td>33.0</td>\n",
       "      <td>0.0</td>\n",
       "    </tr>\n",
       "  </tbody>\n",
       "</table>\n",
       "<p>17551 rows × 6 columns</p>\n",
       "</div>"
      ],
      "text/plain": [
       "       predicted_air_temp  predicted_track_temp  predicted_rain_percentage  \\\n",
       "0               27.985836             34.956985                   0.606188   \n",
       "1               27.788643             35.199932                   2.019768   \n",
       "2               27.977417             35.169182                   6.057091   \n",
       "3               27.884140             34.860176                   0.877592   \n",
       "4               28.010588             34.947502                   0.631726   \n",
       "...                   ...                   ...                        ...   \n",
       "17546           24.809401             32.665504                   2.234154   \n",
       "17547           25.075920             32.821068                   0.606133   \n",
       "17548           25.207640             32.903877                   3.809485   \n",
       "17549           24.809401             32.665504                   2.234154   \n",
       "17550           25.075920             32.821068                   0.606133   \n",
       "\n",
       "       Actuals_air_temp  Actuals_track_temp  Actuals_rain_percentage  \n",
       "0                  28.0                35.0                      0.0  \n",
       "1                  28.0                35.0                      2.0  \n",
       "2                  28.0                35.0                      6.0  \n",
       "3                  28.0                35.0                      1.0  \n",
       "4                  28.0                35.0                      1.0  \n",
       "...                 ...                 ...                      ...  \n",
       "17546              25.0                33.0                      2.0  \n",
       "17547              25.0                33.0                      0.0  \n",
       "17548              25.0                33.0                      4.0  \n",
       "17549              25.0                33.0                      2.0  \n",
       "17550              25.0                33.0                      0.0  \n",
       "\n",
       "[17551 rows x 6 columns]"
      ]
     },
     "execution_count": 13,
     "metadata": {},
     "output_type": "execute_result"
    }
   ],
   "source": [
    "# we make a dataframe from results put in dict, and show it below\n",
    "test_results = pd.DataFrame(data={'predicted_air_temp':test_predictions[:,[0,]].flatten(),\n",
    "                                   'predicted_track_temp':test_predictions[:,[1,]].flatten(),\n",
    "                                   'predicted_rain_percentage':test_predictions[:,[2,]].flatten(),\n",
    "                                   'Actuals_air_temp':y_test[:,[0,]].flatten(),\n",
    "                                   'Actuals_track_temp':y_test[:,[1,]].flatten(),\n",
    "                                   'Actuals_rain_percentage':y_test[:,[2,]].flatten()\n",
    "                                  })\n",
    "\n",
    "test_results"
   ]
  },
  {
   "cell_type": "code",
   "execution_count": 14,
   "id": "cd846d63",
   "metadata": {},
   "outputs": [
    {
     "data": {
      "text/plain": [
       "<matplotlib.axes._subplots.AxesSubplot at 0x1f28bc85c50>"
      ]
     },
     "execution_count": 14,
     "metadata": {},
     "output_type": "execute_result"
    },
    {
     "data": {
      "image/png": "[encoded data removed]",
      "text/plain": [
       "<Figure size 432x288 with 1 Axes>"
      ]
     },
     "metadata": {
      "needs_background": "light"
     },
     "output_type": "display_data"
    }
   ],
   "source": [
    "# Air temp\n",
    "test_results['predicted_air_temp'].plot()\n",
    "test_results['Actuals_air_temp'].plot()"
   ]
  },
  {
   "cell_type": "code",
   "execution_count": 15,
   "id": "48cf3674",
   "metadata": {},
   "outputs": [
    {
     "data": {
      "text/plain": [
       "<matplotlib.axes._subplots.AxesSubplot at 0x1f28ba6f668>"
      ]
     },
     "execution_count": 15,
     "metadata": {},
     "output_type": "execute_result"
    },
    {
     "data": {
      "image/png": "[encoded data removed]",
      "text/plain": [
       "<Figure size 432x288 with 1 Axes>"
      ]
     },
     "metadata": {
      "needs_background": "light"
     },
     "output_type": "display_data"
    }
   ],
   "source": [
    "# Track temp\n",
    "test_results['predicted_track_temp'].plot()\n",
    "test_results['Actuals_track_temp'].plot()"
   ]
  },
  {
   "cell_type": "code",
   "execution_count": 16,
   "id": "fa6d0daf",
   "metadata": {},
   "outputs": [
    {
     "data": {
      "text/plain": [
       "<matplotlib.axes._subplots.AxesSubplot at 0x1f28c732518>"
      ]
     },
     "execution_count": 16,
     "metadata": {},
     "output_type": "execute_result"
    },
    {
     "data": {
      "image/png": "[encoded data removed]",
      "text/plain": [
       "<Figure size 432x288 with 1 Axes>"
      ]
     },
     "metadata": {
      "needs_background": "light"
     },
     "output_type": "display_data"
    }
   ],
   "source": [
    "# Rain percentage\n",
    "test_results['predicted_rain_percentage'][:20].plot()\n",
    "test_results['Actuals_rain_percentage'][:20].plot()"
   ]
  },
  {
   "cell_type": "code",
   "execution_count": null,
   "id": "0b78be0c",
   "metadata": {},
   "outputs": [],
   "source": []
  },
  {
   "cell_type": "code",
   "execution_count": null,
   "id": "1dd90a4f",
   "metadata": {},
   "outputs": [],
   "source": []
  }
 ],
 "metadata": {
  "kernelspec": {
   "display_name": "Python 3",
   "language": "python",
   "name": "python3"
  },
  "language_info": {
   "codemirror_mode": {
    "name": "ipython",
    "version": 3
   },
   "file_extension": ".py",
   "mimetype": "text/x-python",
   "name": "python",
   "nbconvert_exporter": "python",
   "pygments_lexer": "ipython3",
   "version": "3.6.13"
  }
 },
 "nbformat": 4,
 "nbformat_minor": 5
}
